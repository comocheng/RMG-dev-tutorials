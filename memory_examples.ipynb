{
 "cells": [
  {
   "cell_type": "code",
   "execution_count": 1,
   "id": "1f0efaa6",
   "metadata": {},
   "outputs": [],
   "source": [
    "import numpy\n",
    "import copy\n",
    "import rmgpy.species"
   ]
  },
  {
   "cell_type": "code",
   "execution_count": 19,
   "id": "bb4302bb",
   "metadata": {},
   "outputs": [],
   "source": [
    "a=3.0\n"
   ]
  },
  {
   "cell_type": "code",
   "execution_count": 20,
   "id": "49233984",
   "metadata": {},
   "outputs": [
    {
     "data": {
      "text/plain": [
       "140127579673776"
      ]
     },
     "execution_count": 20,
     "metadata": {},
     "output_type": "execute_result"
    }
   ],
   "source": [
    "id(a)"
   ]
  },
  {
   "cell_type": "code",
   "execution_count": 21,
   "id": "5bf6f3fe",
   "metadata": {},
   "outputs": [],
   "source": [
    "c=3.0"
   ]
  },
  {
   "cell_type": "code",
   "execution_count": 22,
   "id": "e8c77922",
   "metadata": {},
   "outputs": [
    {
     "data": {
      "text/plain": [
       "140127579674928"
      ]
     },
     "execution_count": 22,
     "metadata": {},
     "output_type": "execute_result"
    }
   ],
   "source": [
    "id(c)"
   ]
  },
  {
   "cell_type": "code",
   "execution_count": 6,
   "id": "bbd1ad40",
   "metadata": {},
   "outputs": [],
   "source": [
    "d = 3.0"
   ]
  },
  {
   "cell_type": "code",
   "execution_count": 7,
   "id": "dbc310ae",
   "metadata": {},
   "outputs": [
    {
     "data": {
      "text/plain": [
       "140127579673744"
      ]
     },
     "execution_count": 7,
     "metadata": {},
     "output_type": "execute_result"
    }
   ],
   "source": [
    "id (d)"
   ]
  },
  {
   "cell_type": "code",
   "execution_count": 8,
   "id": "7e23ab17",
   "metadata": {},
   "outputs": [],
   "source": [
    "e = 3"
   ]
  },
  {
   "cell_type": "code",
   "execution_count": 9,
   "id": "fc783c92",
   "metadata": {},
   "outputs": [
    {
     "data": {
      "text/plain": [
       "94717078897344"
      ]
     },
     "execution_count": 9,
     "metadata": {},
     "output_type": "execute_result"
    }
   ],
   "source": [
    "id(e)"
   ]
  },
  {
   "cell_type": "code",
   "execution_count": 10,
   "id": "b94e631c",
   "metadata": {},
   "outputs": [],
   "source": [
    "f = id(c)"
   ]
  },
  {
   "cell_type": "code",
   "execution_count": 11,
   "id": "f6633258",
   "metadata": {},
   "outputs": [
    {
     "name": "stdout",
     "output_type": "stream",
     "text": [
      "94717078897344\n"
     ]
    }
   ],
   "source": [
    "print(f)"
   ]
  },
  {
   "cell_type": "code",
   "execution_count": 12,
   "id": "29178658",
   "metadata": {},
   "outputs": [
    {
     "data": {
      "text/plain": [
       "140127579674288"
      ]
     },
     "execution_count": 12,
     "metadata": {},
     "output_type": "execute_result"
    }
   ],
   "source": [
    "id(f)"
   ]
  },
  {
   "cell_type": "code",
   "execution_count": 13,
   "id": "85275c65",
   "metadata": {},
   "outputs": [],
   "source": [
    "b  = [1,2,3]"
   ]
  },
  {
   "cell_type": "code",
   "execution_count": 14,
   "id": "00443629",
   "metadata": {},
   "outputs": [
    {
     "data": {
      "text/plain": [
       "140127579710000"
      ]
     },
     "execution_count": 14,
     "metadata": {},
     "output_type": "execute_result"
    }
   ],
   "source": [
    "id(b)"
   ]
  },
  {
   "cell_type": "code",
   "execution_count": 15,
   "id": "a16e75e2",
   "metadata": {},
   "outputs": [],
   "source": [
    "d = [1,2,3]"
   ]
  },
  {
   "cell_type": "code",
   "execution_count": 16,
   "id": "926a88a0",
   "metadata": {},
   "outputs": [
    {
     "data": {
      "text/plain": [
       "140127579710960"
      ]
     },
     "execution_count": 16,
     "metadata": {},
     "output_type": "execute_result"
    }
   ],
   "source": [
    "id(d)"
   ]
  },
  {
   "cell_type": "code",
   "execution_count": 17,
   "id": "b8d36a2e",
   "metadata": {},
   "outputs": [],
   "source": [
    "d = b"
   ]
  },
  {
   "cell_type": "code",
   "execution_count": 18,
   "id": "4e394cbb",
   "metadata": {},
   "outputs": [
    {
     "data": {
      "text/plain": [
       "140127579710000"
      ]
     },
     "execution_count": 18,
     "metadata": {},
     "output_type": "execute_result"
    }
   ],
   "source": [
    "id(d)"
   ]
  },
  {
   "cell_type": "code",
   "execution_count": 24,
   "id": "a0b55443",
   "metadata": {},
   "outputs": [
    {
     "name": "stdout",
     "output_type": "stream",
     "text": [
      "140127580078576\n"
     ]
    }
   ],
   "source": [
    "sp1 = rmgpy.species.Species(smiles='CCCC')\n",
    "print(id(sp1))"
   ]
  },
  {
   "cell_type": "code",
   "execution_count": 25,
   "id": "72fc1dcd",
   "metadata": {},
   "outputs": [
    {
     "name": "stdout",
     "output_type": "stream",
     "text": [
      "140127580078576\n"
     ]
    }
   ],
   "source": [
    "sp2 = sp1\n",
    "print(id(sp2))"
   ]
  },
  {
   "cell_type": "code",
   "execution_count": 26,
   "id": "d464dc19",
   "metadata": {},
   "outputs": [
    {
     "name": "stdout",
     "output_type": "stream",
     "text": [
      "140127580078160\n"
     ]
    }
   ],
   "source": [
    "sp3 = copy.deepcopy(sp1)\n",
    "print(id(sp3))"
   ]
  },
  {
   "cell_type": "code",
   "execution_count": 28,
   "id": "6fbea5ce",
   "metadata": {},
   "outputs": [
    {
     "name": "stdout",
     "output_type": "stream",
     "text": [
      "[1, 2, 3, 4]\n"
     ]
    }
   ],
   "source": [
    "a = [1,2,3]\n",
    "d = a\n",
    "d.append(4)\n",
    "print(a)\n"
   ]
  },
  {
   "cell_type": "code",
   "execution_count": 29,
   "id": "e586da6f",
   "metadata": {},
   "outputs": [
    {
     "name": "stdout",
     "output_type": "stream",
     "text": [
      "[1, 2, 3]\n"
     ]
    }
   ],
   "source": [
    "a = [1,2,3]\n",
    "d = copy.deepcopy(a)\n",
    "d.append(4)\n",
    "print(a)\n"
   ]
  },
  {
   "cell_type": "code",
   "execution_count": null,
   "id": "f5bf756c",
   "metadata": {},
   "outputs": [],
   "source": []
  }
 ],
 "metadata": {
  "kernelspec": {
   "display_name": "Python 3 (ipykernel)",
   "language": "python",
   "name": "python3"
  },
  "language_info": {
   "codemirror_mode": {
    "name": "ipython",
    "version": 3
   },
   "file_extension": ".py",
   "mimetype": "text/x-python",
   "name": "python",
   "nbconvert_exporter": "python",
   "pygments_lexer": "ipython3",
   "version": "3.7.12"
  }
 },
 "nbformat": 4,
 "nbformat_minor": 5
}
