{
 "cells": [
  {
   "cell_type": "code",
   "execution_count": 84,
   "id": "927e58d0",
   "metadata": {},
   "outputs": [],
   "source": [
    "import os\n",
    "import numpy as np\n",
    "import matplotlib.pyplot as plt\n",
    "import copy\n",
    "import rmgpy.species\n",
    "import rmgpy.chemkin\n",
    "\n",
    "%matplotlib inline"
   ]
  },
  {
   "cell_type": "code",
   "execution_count": null,
   "id": "4ee403ff",
   "metadata": {},
   "outputs": [],
   "source": [
    "# https://github.com/ReactionMechanismGenerator/RMG-Py/blob/main/rmgpy/chemkin.pyx"
   ]
  },
  {
   "cell_type": "code",
   "execution_count": 2,
   "id": "eb5d0307",
   "metadata": {},
   "outputs": [],
   "source": [
    "mech_path = './mech1/'\n",
    "chemkin_file = os.path.join(mech_path, 'chem_annotated.inp')\n",
    "species_dict = os.path.join(mech_path, 'species_dictionary.txt')\n",
    "transport_file = os.path.join(mech_path, 'tran.dat')\n",
    "species_list, reaction_list = rmgpy.chemkin.load_chemkin_file(chemkin_file, species_dict, transport_path=transport_file)"
   ]
  },
  {
   "cell_type": "code",
   "execution_count": 24,
   "id": "80c8b2f4",
   "metadata": {},
   "outputs": [],
   "source": [
    "mech_path2 = './mech2/'\n",
    "chemkin_file2 = os.path.join(mech_path2, 'chem_annotated.inp')\n",
    "species_dict2 = os.path.join(mech_path2, 'species_dictionary.txt')\n",
    "transport_file2 = os.path.join(mech_path2, 'tran.dat')\n",
    "species_list2, reaction_list2 = rmgpy.chemkin.load_chemkin_file(chemkin_file2, species_dict2, transport_path=transport_file2)"
   ]
  },
  {
   "cell_type": "code",
   "execution_count": 89,
   "id": "97860288",
   "metadata": {},
   "outputs": [],
   "source": [
    "mech_path_surf = './mech_surf/'\n",
    "chemkin_file_surf_gas = os.path.join(mech_path_surf, 'chem_annotated-gas.inp')\n",
    "chemkin_file_surf_surf = os.path.join(mech_path_surf, 'chem_annotated-surface.inp')\n",
    "species_dict_surf = os.path.join(mech_path_surf, 'species_dictionary.txt')\n",
    "transport_file_surf = os.path.join(mech_path_surf, 'tran.dat')\n",
    "species_list_surf, reaction_list_surf = rmgpy.chemkin.load_chemkin_file(chemkin_file_surf_gas, species_dict_surf, transport_path=transport_file_surf, surface_path=chemkin_file_surf_surf)"
   ]
  },
  {
   "cell_type": "code",
   "execution_count": 94,
   "id": "ba1d07c6",
   "metadata": {},
   "outputs": [
    {
     "name": "stdout",
     "output_type": "stream",
     "text": [
      "45\n"
     ]
    }
   ],
   "source": [
    "print(len(species_list_surf))"
   ]
  },
  {
   "cell_type": "code",
   "execution_count": 102,
   "id": "5c08db68",
   "metadata": {},
   "outputs": [
    {
     "name": "stdout",
     "output_type": "stream",
     "text": [
      "24 gas species\n",
      "21 surface species\n"
     ]
    }
   ],
   "source": [
    "gas_count = 0\n",
    "surface_count = 0\n",
    "\n",
    "for i in range(len(species_list_surf)):\n",
    "    if species_list_surf[i].contains_surface_site():\n",
    "        surface_count += 1\n",
    "    else:\n",
    "        gas_count += 1\n",
    "print(gas_count, 'gas species')\n",
    "print(surface_count, 'surface species')\n"
   ]
  },
  {
   "cell_type": "code",
   "execution_count": 101,
   "id": "c9997408",
   "metadata": {},
   "outputs": [
    {
     "data": {
      "image/png": "[encoded data removed]",
      "text/plain": [
       "Species(index=21, label=\"HX\", thermo=NASA(polynomials=[NASAPolynomial(coeffs=[-2.0757,0.0173581,-2.60921e-05,1.89282e-08,-5.38836e-12,-3166.19,8.15362], Tmin=(298,'K'), Tmax=(1000,'K')), NASAPolynomial(coeffs=[2.72248,-0.00106817,1.98654e-06,-1.12048e-09,2.09812e-13,-4218.24,-15.3207], Tmin=(1000,'K'), Tmax=(2000,'K'))], Tmin=(298,'K'), Tmax=(2000,'K'), comment=\"\"\"Thermo library: surfaceThermoPt111\"\"\"), molecule=[Molecule(smiles=\"[PtH]\")], molecular_weight=(1.00797,'amu'))"
      ]
     },
     "execution_count": 101,
     "metadata": {},
     "output_type": "execute_result"
    }
   ],
   "source": [
    "species_list_surf[25]"
   ]
  },
  {
   "cell_type": "code",
   "execution_count": 103,
   "id": "cc622a9e",
   "metadata": {},
   "outputs": [
    {
     "name": "stdout",
     "output_type": "stream",
     "text": [
      "62 gas reactions\n",
      "145 surface reactions\n"
     ]
    }
   ],
   "source": [
    "gas_count = 0\n",
    "surface_count = 0\n",
    "\n",
    "for i in range(len(reaction_list_surf)):\n",
    "    if reaction_list_surf[i].is_surface_reaction():\n",
    "        surface_count += 1\n",
    "    else:\n",
    "        gas_count += 1\n",
    "print(gas_count, 'gas reactions')\n",
    "print(surface_count, 'surface reactions')\n"
   ]
  },
  {
   "cell_type": "code",
   "execution_count": 105,
   "id": "7b3f4e35",
   "metadata": {},
   "outputs": [
    {
     "data": {
      "image/png": "[encoded data removed]",
      "text/plain": [
       "LibraryReaction(index=63, reactants=[Species(index=1, label=\"X\", thermo=NASA(polynomials=[NASAPolynomial(coeffs=[0,0,0,0,0,0,0], Tmin=(298,'K'), Tmax=(1000,'K')), NASAPolynomial(coeffs=[0,0,0,0,0,0,0], Tmin=(1000,'K'), Tmax=(3000,'K'))], Tmin=(298,'K'), Tmax=(3000,'K'), comment=\"\"\"Thermo library: surfaceThermoPt111\"\"\"), molecule=[Molecule(smiles=\"[Pt]\")], molecular_weight=(0,'amu')), Species(index=1, label=\"X\", thermo=NASA(polynomials=[NASAPolynomial(coeffs=[0,0,0,0,0,0,0], Tmin=(298,'K'), Tmax=(1000,'K')), NASAPolynomial(coeffs=[0,0,0,0,0,0,0], Tmin=(1000,'K'), Tmax=(3000,'K'))], Tmin=(298,'K'), Tmax=(3000,'K'), comment=\"\"\"Thermo library: surfaceThermoPt111\"\"\"), molecule=[Molecule(smiles=\"[Pt]\")], molecular_weight=(0,'amu')), Species(index=6, label=\"H2\", thermo=NASA(polynomials=[NASAPolynomial(coeffs=[3.43536,0.000212711,-2.78626e-07,3.40268e-10,-7.76035e-14,-1031.36,-3.90842], Tmin=(100,'K'), Tmax=(1959.07,'K')), NASAPolynomial(coeffs=[2.78817,0.000587631,1.59015e-07,-5.52748e-11,4.34317e-15,-596.149,0.112689], Tmin=(1959.07,'K'), Tmax=(5000,'K'))], Tmin=(100,'K'), Tmax=(5000,'K'), comment=\"\"\"Thermo library: primaryThermoLibrary\"\"\"), molecule=[Molecule(smiles=\"[H][H]\")], transport_data=TransportData(shapeIndex=1, epsilon=(315.95,'J/mol'), sigma=(2.92,'angstrom'), dipoleMoment=(0,'De'), polarizability=(0.79,'angstrom^3'), rotrelaxcollnum=280.0, comment=\"\"\"NOx2018\"\"\"), molecular_weight=(2.01594,'amu'))], products=[Species(index=21, label=\"HX\", thermo=NASA(polynomials=[NASAPolynomial(coeffs=[-2.0757,0.0173581,-2.60921e-05,1.89282e-08,-5.38836e-12,-3166.19,8.15362], Tmin=(298,'K'), Tmax=(1000,'K')), NASAPolynomial(coeffs=[2.72248,-0.00106817,1.98654e-06,-1.12048e-09,2.09812e-13,-4218.24,-15.3207], Tmin=(1000,'K'), Tmax=(2000,'K'))], Tmin=(298,'K'), Tmax=(2000,'K'), comment=\"\"\"Thermo library: surfaceThermoPt111\"\"\"), molecule=[Molecule(smiles=\"[PtH]\")], molecular_weight=(1.00797,'amu')), Species(index=21, label=\"HX\", thermo=NASA(polynomials=[NASAPolynomial(coeffs=[-2.0757,0.0173581,-2.60921e-05,1.89282e-08,-5.38836e-12,-3166.19,8.15362], Tmin=(298,'K'), Tmax=(1000,'K')), NASAPolynomial(coeffs=[2.72248,-0.00106817,1.98654e-06,-1.12048e-09,2.09812e-13,-4218.24,-15.3207], Tmin=(1000,'K'), Tmax=(2000,'K'))], Tmin=(298,'K'), Tmax=(2000,'K'), comment=\"\"\"Thermo library: surfaceThermoPt111\"\"\"), molecule=[Molecule(smiles=\"[PtH]\")], molecular_weight=(1.00797,'amu'))], kinetics=StickingCoefficient(A=0.046, n=0, Ea=(0,'kcal/mol'), T0=(1,'K')), pairs=[(Species(index=6, label=\"H2\", thermo=NASA(polynomials=[NASAPolynomial(coeffs=[3.43536,0.000212711,-2.78626e-07,3.40268e-10,-7.76035e-14,-1031.36,-3.90842], Tmin=(100,'K'), Tmax=(1959.07,'K')), NASAPolynomial(coeffs=[2.78817,0.000587631,1.59015e-07,-5.52748e-11,4.34317e-15,-596.149,0.112689], Tmin=(1959.07,'K'), Tmax=(5000,'K'))], Tmin=(100,'K'), Tmax=(5000,'K'), comment=\"\"\"Thermo library: primaryThermoLibrary\"\"\"), molecule=[Molecule(smiles=\"[H][H]\")], transport_data=TransportData(shapeIndex=1, epsilon=(315.95,'J/mol'), sigma=(2.92,'angstrom'), dipoleMoment=(0,'De'), polarizability=(0.79,'angstrom^3'), rotrelaxcollnum=280.0, comment=\"\"\"NOx2018\"\"\"), molecular_weight=(2.01594,'amu')), Species(index=21, label=\"HX\", thermo=NASA(polynomials=[NASAPolynomial(coeffs=[-2.0757,0.0173581,-2.60921e-05,1.89282e-08,-5.38836e-12,-3166.19,8.15362], Tmin=(298,'K'), Tmax=(1000,'K')), NASAPolynomial(coeffs=[2.72248,-0.00106817,1.98654e-06,-1.12048e-09,2.09812e-13,-4218.24,-15.3207], Tmin=(1000,'K'), Tmax=(2000,'K'))], Tmin=(298,'K'), Tmax=(2000,'K'), comment=\"\"\"Thermo library: surfaceThermoPt111\"\"\"), molecule=[Molecule(smiles=\"[PtH]\")], molecular_weight=(1.00797,'amu'))), (Species(index=6, label=\"H2\", thermo=NASA(polynomials=[NASAPolynomial(coeffs=[3.43536,0.000212711,-2.78626e-07,3.40268e-10,-7.76035e-14,-1031.36,-3.90842], Tmin=(100,'K'), Tmax=(1959.07,'K')), NASAPolynomial(coeffs=[2.78817,0.000587631,1.59015e-07,-5.52748e-11,4.34317e-15,-596.149,0.112689], Tmin=(1959.07,'K'), Tmax=(5000,'K'))], Tmin=(100,'K'), Tmax=(5000,'K'), comment=\"\"\"Thermo library: primaryThermoLibrary\"\"\"), molecule=[Molecule(smiles=\"[H][H]\")], transport_data=TransportData(shapeIndex=1, epsilon=(315.95,'J/mol'), sigma=(2.92,'angstrom'), dipoleMoment=(0,'De'), polarizability=(0.79,'angstrom^3'), rotrelaxcollnum=280.0, comment=\"\"\"NOx2018\"\"\"), molecular_weight=(2.01594,'amu')), Species(index=21, label=\"HX\", thermo=NASA(polynomials=[NASAPolynomial(coeffs=[-2.0757,0.0173581,-2.60921e-05,1.89282e-08,-5.38836e-12,-3166.19,8.15362], Tmin=(298,'K'), Tmax=(1000,'K')), NASAPolynomial(coeffs=[2.72248,-0.00106817,1.98654e-06,-1.12048e-09,2.09812e-13,-4218.24,-15.3207], Tmin=(1000,'K'), Tmax=(2000,'K'))], Tmin=(298,'K'), Tmax=(2000,'K'), comment=\"\"\"Thermo library: surfaceThermoPt111\"\"\"), molecule=[Molecule(smiles=\"[PtH]\")], molecular_weight=(1.00797,'amu'))), (Species(index=1, label=\"X\", thermo=NASA(polynomials=[NASAPolynomial(coeffs=[0,0,0,0,0,0,0], Tmin=(298,'K'), Tmax=(1000,'K')), NASAPolynomial(coeffs=[0,0,0,0,0,0,0], Tmin=(1000,'K'), Tmax=(3000,'K'))], Tmin=(298,'K'), Tmax=(3000,'K'), comment=\"\"\"Thermo library: surfaceThermoPt111\"\"\"), molecule=[Molecule(smiles=\"[Pt]\")], molecular_weight=(0,'amu')), Species(index=21, label=\"HX\", thermo=NASA(polynomials=[NASAPolynomial(coeffs=[-2.0757,0.0173581,-2.60921e-05,1.89282e-08,-5.38836e-12,-3166.19,8.15362], Tmin=(298,'K'), Tmax=(1000,'K')), NASAPolynomial(coeffs=[2.72248,-0.00106817,1.98654e-06,-1.12048e-09,2.09812e-13,-4218.24,-15.3207], Tmin=(1000,'K'), Tmax=(2000,'K'))], Tmin=(298,'K'), Tmax=(2000,'K'), comment=\"\"\"Thermo library: surfaceThermoPt111\"\"\"), molecule=[Molecule(smiles=\"[PtH]\")], molecular_weight=(1.00797,'amu'))), (Species(index=1, label=\"X\", thermo=NASA(polynomials=[NASAPolynomial(coeffs=[0,0,0,0,0,0,0], Tmin=(298,'K'), Tmax=(1000,'K')), NASAPolynomial(coeffs=[0,0,0,0,0,0,0], Tmin=(1000,'K'), Tmax=(3000,'K'))], Tmin=(298,'K'), Tmax=(3000,'K'), comment=\"\"\"Thermo library: surfaceThermoPt111\"\"\"), molecule=[Molecule(smiles=\"[Pt]\")], molecular_weight=(0,'amu')), Species(index=21, label=\"HX\", thermo=NASA(polynomials=[NASAPolynomial(coeffs=[-2.0757,0.0173581,-2.60921e-05,1.89282e-08,-5.38836e-12,-3166.19,8.15362], Tmin=(298,'K'), Tmax=(1000,'K')), NASAPolynomial(coeffs=[2.72248,-0.00106817,1.98654e-06,-1.12048e-09,2.09812e-13,-4218.24,-15.3207], Tmin=(1000,'K'), Tmax=(2000,'K'))], Tmin=(298,'K'), Tmax=(2000,'K'), comment=\"\"\"Thermo library: surfaceThermoPt111\"\"\"), molecule=[Molecule(smiles=\"[PtH]\")], molecular_weight=(1.00797,'amu')))])"
      ]
     },
     "execution_count": 105,
     "metadata": {},
     "output_type": "execute_result"
    }
   ],
   "source": [
    "reaction_list_surf[62]"
   ]
  },
  {
   "cell_type": "code",
   "execution_count": null,
   "id": "d7405b10",
   "metadata": {},
   "outputs": [],
   "source": []
  },
  {
   "cell_type": "code",
   "execution_count": 5,
   "id": "500d737a",
   "metadata": {},
   "outputs": [
    {
     "name": "stdout",
     "output_type": "stream",
     "text": [
      "124 species\n",
      "1887 reactions\n"
     ]
    }
   ],
   "source": [
    "print(len(species_list), 'species')\n",
    "print(len(reaction_list), 'reactions')"
   ]
  },
  {
   "cell_type": "code",
   "execution_count": 25,
   "id": "3cbd0b1c",
   "metadata": {},
   "outputs": [
    {
     "name": "stdout",
     "output_type": "stream",
     "text": [
      "15 species\n",
      "24 reactions\n"
     ]
    }
   ],
   "source": [
    "print(len(species_list2), 'species')\n",
    "print(len(reaction_list2), 'reactions')"
   ]
  },
  {
   "cell_type": "markdown",
   "id": "a83719ab",
   "metadata": {},
   "source": [
    "# Look inside the species list"
   ]
  },
  {
   "cell_type": "code",
   "execution_count": 9,
   "id": "b6237ba4",
   "metadata": {},
   "outputs": [
    {
     "name": "stdout",
     "output_type": "stream",
     "text": [
      "Ar\n"
     ]
    },
    {
     "data": {
      "image/png": "[encoded data removed]",
      "text/plain": [
       "Species(label=\"Ar\", thermo=NASA(polynomials=[NASAPolynomial(coeffs=[2.5,-2.06855e-14,2.66266e-17,-1.11497e-20,1.43542e-24,-745,4.3663], Tmin=(100,'K'), Tmax=(4561.14,'K')), NASAPolynomial(coeffs=[2.50002,-1.64942e-08,5.30955e-12,-7.59275e-16,4.06972e-20,-745.018,4.36618], Tmin=(4561.14,'K'), Tmax=(5000,'K'))], Tmin=(100,'K'), Tmax=(5000,'K'), comment=\"\"\"Thermo library: BurkeH2O2\"\"\"), molecule=[Molecule(smiles=\"[Ar]\")], transport_data=TransportData(shapeIndex=0, epsilon=(1134.93,'J/mol'), sigma=(3.33,'angstrom'), dipoleMoment=(0,'De'), polarizability=(0,'angstrom^3'), rotrelaxcollnum=0.0, comment=\"\"\"NOx2018\"\"\"), molecular_weight=(39.8775,'amu'))"
      ]
     },
     "metadata": {},
     "output_type": "display_data"
    },
    {
     "name": "stdout",
     "output_type": "stream",
     "text": [
      "He\n"
     ]
    },
    {
     "data": {
      "image/png": "[encoded data removed]",
      "text/plain": [
       "Species(label=\"He\", thermo=NASA(polynomials=[NASAPolynomial(coeffs=[2.5,-2.06855e-14,2.66266e-17,-1.11497e-20,1.43542e-24,-745,0.914222], Tmin=(100,'K'), Tmax=(4561.14,'K')), NASAPolynomial(coeffs=[2.50002,-1.64942e-08,5.30955e-12,-7.59275e-16,4.06972e-20,-745.018,0.914099], Tmin=(4561.14,'K'), Tmax=(5000,'K'))], Tmin=(100,'K'), Tmax=(5000,'K'), comment=\"\"\"Thermo library: BurkeH2O2\"\"\"), molecule=[Molecule(smiles=\"[He]\")], transport_data=TransportData(shapeIndex=0, epsilon=(84.8076,'J/mol'), sigma=(2.576,'angstrom'), dipoleMoment=(0,'De'), polarizability=(0,'angstrom^3'), rotrelaxcollnum=0.0, comment=\"\"\"NOx2018\"\"\"), molecular_weight=(4.0026,'amu'))"
      ]
     },
     "metadata": {},
     "output_type": "display_data"
    },
    {
     "name": "stdout",
     "output_type": "stream",
     "text": [
      "N2\n"
     ]
    },
    {
     "data": {
      "image/png": "[encoded data removed]",
      "text/plain": [
       "Species(label=\"N2\", thermo=NASA(polynomials=[NASAPolynomial(coeffs=[3.61263,-0.00100893,2.49899e-06,-1.43376e-09,2.58638e-13,-1051.1,2.6527], Tmin=(100,'K'), Tmax=(1817.03,'K')), NASAPolynomial(coeffs=[2.97587,0.00164145,-7.19742e-07,1.25382e-10,-7.91557e-15,-1025.83,5.53775], Tmin=(1817.03,'K'), Tmax=(5000,'K'))], Tmin=(100,'K'), Tmax=(5000,'K'), comment=\"\"\"Thermo library: BurkeH2O2\"\"\"), molecule=[Molecule(smiles=\"N#N\")], transport_data=TransportData(shapeIndex=1, epsilon=(810.91,'J/mol'), sigma=(3.621,'angstrom'), dipoleMoment=(0,'De'), polarizability=(1.76,'angstrom^3'), rotrelaxcollnum=4.0, comment=\"\"\"PrimaryTransportLibrary\"\"\"), reactive=False, molecular_weight=(28.0137,'amu'))"
      ]
     },
     "metadata": {},
     "output_type": "display_data"
    },
    {
     "name": "stdout",
     "output_type": "stream",
     "text": [
      "Ne\n"
     ]
    },
    {
     "data": {
      "image/png": "[encoded data removed]",
      "text/plain": [
       "Species(label=\"Ne\", thermo=NASA(polynomials=[NASAPolynomial(coeffs=[2.5,0,0,0,0,-745.375,3.35532], Tmin=(200,'K'), Tmax=(1000,'K')), NASAPolynomial(coeffs=[2.5,0,0,0,0,-745.375,3.35532], Tmin=(1000,'K'), Tmax=(6000,'K'))], Tmin=(200,'K'), Tmax=(6000,'K'), comment=\"\"\"Thermo library: primaryThermoLibrary\"\"\"), molecule=[Molecule(smiles=\"[Ne]\")], transport_data=TransportData(shapeIndex=0, epsilon=(1235.53,'J/mol'), sigma=(3.758,'angstrom'), dipoleMoment=(0,'De'), polarizability=(0,'angstrom^3'), rotrelaxcollnum=0.0, comment=\"\"\"Epsilon & sigma estimated with fixed Lennard Jones Parameters. This is the fallback method! Try improving transport databases!\"\"\"), reactive=False, molecular_weight=(20.1801,'amu'))"
      ]
     },
     "metadata": {},
     "output_type": "display_data"
    },
    {
     "name": "stdout",
     "output_type": "stream",
     "text": [
      "butane(1)\n"
     ]
    },
    {
     "data": {
      "image/png": "[encoded data removed]",
      "text/plain": [
       "Species(index=1, label=\"butane\", thermo=NASA(polynomials=[NASAPolynomial(coeffs=[2.31394,0.028376,2.03224e-05,-3.82742e-08,1.45041e-11,-17287.5,14.964], Tmin=(100,'K'), Tmax=(1025.39,'K')), NASAPolynomial(coeffs=[7.36809,0.0293849,-1.14714e-05,2.1084e-09,-1.47486e-13,-19413.6,-14.8589], Tmin=(1025.39,'K'), Tmax=(5000,'K'))], Tmin=(100,'K'), Tmax=(5000,'K'), comment=\"\"\"Thermo group additivity estimation: group(Cs-CsCsHH) + group(Cs-CsCsHH) + group(Cs-CsHHH) + group(Cs-CsHHH)\"\"\"), molecule=[Molecule(smiles=\"CCCC\")], transport_data=TransportData(shapeIndex=2, epsilon=(2896.89,'J/mol'), sigma=(5.415,'angstrom'), dipoleMoment=(0,'De'), polarizability=(0,'angstrom^3'), rotrelaxcollnum=0.0, comment=\"\"\"Epsilon & sigma estimated with Tc=452.49 K, Pc=41.41 bar (from Joback method)\"\"\"), molecular_weight=(58.1223,'amu'))"
      ]
     },
     "metadata": {},
     "output_type": "display_data"
    },
    {
     "name": "stdout",
     "output_type": "stream",
     "text": [
      "O2(2)\n"
     ]
    },
    {
     "data": {
      "image/png": "[encoded data removed]",
      "text/plain": [
       "Species(index=2, label=\"O2\", thermo=NASA(polynomials=[NASAPolynomial(coeffs=[3.53764,-0.00122828,5.36761e-06,-4.93131e-09,1.45956e-12,-1037.99,4.6718], Tmin=(100,'K'), Tmax=(1087.7,'K')), NASAPolynomial(coeffs=[3.16427,0.00169454,-8.00339e-07,1.59031e-10,-1.14892e-14,-1048.44,6.08305], Tmin=(1087.7,'K'), Tmax=(5000,'K'))], Tmin=(100,'K'), Tmax=(5000,'K'), comment=\"\"\"Thermo library: BurkeH2O2\"\"\"), molecule=[Molecule(smiles=\"[O][O]\")], transport_data=TransportData(shapeIndex=1, epsilon=(887.154,'J/mol'), sigma=(3.467,'angstrom'), dipoleMoment=(0,'De'), polarizability=(0,'angstrom^3'), rotrelaxcollnum=0.0, comment=\"\"\"PrimaryTransportLibrary\"\"\"), molecular_weight=(31.9988,'amu'))"
      ]
     },
     "metadata": {},
     "output_type": "display_data"
    },
    {
     "name": "stdout",
     "output_type": "stream",
     "text": [
      "CH(3)\n"
     ]
    },
    {
     "data": {
      "image/png": "[encoded data removed]",
      "text/plain": [
       "Species(index=3, label=\"CH\", thermo=NASA(polynomials=[NASAPolynomial(coeffs=[4.11489,-0.000361087,-6.34727e-06,1.05887e-08,-4.57052e-12,75083.9,1.61269], Tmin=(100,'K'), Tmax=(926.5,'K')), NASAPolynomial(coeffs=[2.33972,0.00175859,-8.02925e-07,1.40459e-10,-8.47512e-15,75650.8,11.3255], Tmin=(926.5,'K'), Tmax=(5000,'K'))], Tmin=(100,'K'), Tmax=(5000,'K'), comment=\"\"\"Thermo library: primaryThermoLibrary + radical(Cs_P)\"\"\"), molecule=[Molecule(smiles=\"[CH]\")], transport_data=TransportData(shapeIndex=1, epsilon=(665.158,'J/mol'), sigma=(2.75,'angstrom'), dipoleMoment=(0,'De'), polarizability=(0,'angstrom^3'), rotrelaxcollnum=0.0, comment=\"\"\"NOx2018\"\"\"), molecular_weight=(13.0186,'amu'))"
      ]
     },
     "metadata": {},
     "output_type": "display_data"
    },
    {
     "name": "stdout",
     "output_type": "stream",
     "text": [
      "C2H(4)\n"
     ]
    },
    {
     "data": {
      "image/png": "[encoded data removed]",
      "text/plain": [
       "Species(index=4, label=\"C2H\", thermo=NASA(polynomials=[NASAPolynomial(coeffs=[3.03853,0.011545,-2.13266e-05,1.81935e-08,-5.41598e-12,66398,5.96677], Tmin=(100,'K'), Tmax=(1076.57,'K')), NASAPolynomial(coeffs=[4.00849,0.00206811,6.0525e-08,-1.17714e-10,1.29286e-14,66529.5,2.79637], Tmin=(1076.57,'K'), Tmax=(5000,'K'))], Tmin=(100,'K'), Tmax=(5000,'K'), comment=\"\"\"Thermo group additivity estimation: group(Ct-CtH) + group(Ct-CtH) + radical(Acetyl)\"\"\"), molecule=[Molecule(smiles=\"[C]#C\")], transport_data=TransportData(shapeIndex=1, epsilon=(1737.72,'J/mol'), sigma=(4.1,'angstrom'), dipoleMoment=(0,'De'), polarizability=(0,'angstrom^3'), rotrelaxcollnum=2.5, comment=\"\"\"NOx2018\"\"\"), molecular_weight=(25.0293,'amu'))"
      ]
     },
     "metadata": {},
     "output_type": "display_data"
    },
    {
     "name": "stdout",
     "output_type": "stream",
     "text": [
      "O(5)\n"
     ]
    },
    {
     "data": {
      "image/png": "[encoded data removed]",
      "text/plain": [
       "Species(index=5, label=\"O\", thermo=NASA(polynomials=[NASAPolynomial(coeffs=[2.5,-2.06855e-14,2.66266e-17,-1.11497e-20,1.43542e-24,29226.7,5.11107], Tmin=(100,'K'), Tmax=(4561.14,'K')), NASAPolynomial(coeffs=[2.50002,-1.64942e-08,5.30955e-12,-7.59275e-16,4.06972e-20,29226.7,5.11095], Tmin=(4561.14,'K'), Tmax=(5000,'K'))], Tmin=(100,'K'), Tmax=(5000,'K'), comment=\"\"\"Thermo library: BurkeH2O2\"\"\"), molecule=[Molecule(smiles=\"[O]\")], transport_data=TransportData(shapeIndex=0, epsilon=(665.158,'J/mol'), sigma=(2.75,'angstrom'), dipoleMoment=(0,'De'), polarizability=(0,'angstrom^3'), rotrelaxcollnum=0.0, comment=\"\"\"NOx2018\"\"\"), molecular_weight=(15.9994,'amu'))"
      ]
     },
     "metadata": {},
     "output_type": "display_data"
    },
    {
     "name": "stdout",
     "output_type": "stream",
     "text": [
      "CO(6)\n"
     ]
    },
    {
     "data": {
      "image/png": "[encoded data removed]",
      "text/plain": [
       "Species(index=6, label=\"CO\", thermo=NASA(polynomials=[NASAPolynomial(coeffs=[3.5971,-0.00102424,2.83338e-06,-1.75827e-09,3.42591e-13,-14343.2,3.45822], Tmin=(100,'K'), Tmax=(1669.92,'K')), NASAPolynomial(coeffs=[2.92792,0.00181935,-8.35331e-07,1.51274e-10,-9.88908e-15,-14292.7,6.51176], Tmin=(1669.92,'K'), Tmax=(5000,'K'))], Tmin=(100,'K'), Tmax=(5000,'K'), comment=\"\"\"Thermo library: BurkeH2O2\"\"\"), molecule=[Molecule(smiles=\"[C-]#[O+]\")], transport_data=TransportData(shapeIndex=1, epsilon=(762.437,'J/mol'), sigma=(3.69,'angstrom'), dipoleMoment=(0,'De'), polarizability=(1.76,'angstrom^3'), rotrelaxcollnum=4.0, comment=\"\"\"PrimaryTransportLibrary\"\"\"), molecular_weight=(28.01,'amu'))"
      ]
     },
     "metadata": {},
     "output_type": "display_data"
    }
   ],
   "source": [
    "for i in range(10):\n",
    "    print(species_list[i])\n",
    "    display(species_list[i])"
   ]
  },
  {
   "cell_type": "code",
   "execution_count": 15,
   "id": "4748bfbe",
   "metadata": {},
   "outputs": [
    {
     "name": "stdout",
     "output_type": "stream",
     "text": [
      "butane\n",
      "1  C u0 p0 c0 {2,S} {3,S} {5,S} {6,S}\n",
      "2  C u0 p0 c0 {1,S} {4,S} {7,S} {8,S}\n",
      "3  C u0 p0 c0 {1,S} {9,S} {10,S} {11,S}\n",
      "4  C u0 p0 c0 {2,S} {12,S} {13,S} {14,S}\n",
      "5  H u0 p0 c0 {1,S}\n",
      "6  H u0 p0 c0 {1,S}\n",
      "7  H u0 p0 c0 {2,S}\n",
      "8  H u0 p0 c0 {2,S}\n",
      "9  H u0 p0 c0 {3,S}\n",
      "10 H u0 p0 c0 {3,S}\n",
      "11 H u0 p0 c0 {3,S}\n",
      "12 H u0 p0 c0 {4,S}\n",
      "13 H u0 p0 c0 {4,S}\n",
      "14 H u0 p0 c0 {4,S}\n",
      "\n"
     ]
    }
   ],
   "source": [
    "print(species_list[4].to_adjacency_list())"
   ]
  },
  {
   "cell_type": "code",
   "execution_count": 16,
   "id": "ea68ee1b",
   "metadata": {},
   "outputs": [
    {
     "data": {
      "text/plain": [
       "False"
      ]
     },
     "execution_count": 16,
     "metadata": {},
     "output_type": "execute_result"
    }
   ],
   "source": [
    "species_list[4].contains_surface_site()"
   ]
  },
  {
   "cell_type": "code",
   "execution_count": 22,
   "id": "a403c1ab",
   "metadata": {},
   "outputs": [
    {
     "name": "stdout",
     "output_type": "stream",
     "text": [
      "[Species(index=2, label=\"O2\", thermo=NASA(polynomials=[NASAPolynomial(coeffs=[3.53764,-0.00122828,5.36761e-06,-4.93131e-09,1.45956e-12,-1037.99,4.6718], Tmin=(100,'K'), Tmax=(1087.7,'K')), NASAPolynomial(coeffs=[3.16427,0.00169454,-8.00339e-07,1.59031e-10,-1.14892e-14,-1048.44,6.08305], Tmin=(1087.7,'K'), Tmax=(5000,'K'))], Tmin=(100,'K'), Tmax=(5000,'K'), comment=\"\"\"Thermo library: BurkeH2O2\"\"\"), molecule=[Molecule(smiles=\"[O][O]\")], transport_data=TransportData(shapeIndex=1, epsilon=(887.154,'J/mol'), sigma=(3.467,'angstrom'), dipoleMoment=(0,'De'), polarizability=(0,'angstrom^3'), rotrelaxcollnum=0.0, comment=\"\"\"PrimaryTransportLibrary\"\"\"), molecular_weight=(31.9988,'amu')), Species(index=14, label=\"H\", thermo=NASA(polynomials=[NASAPolynomial(coeffs=[2.5,-2.06855e-14,2.66266e-17,-1.11497e-20,1.43542e-24,25472.7,-0.459566], Tmin=(100,'K'), Tmax=(4561.14,'K')), NASAPolynomial(coeffs=[2.50002,-1.64942e-08,5.30955e-12,-7.59275e-16,4.06972e-20,25472.7,-0.459688], Tmin=(4561.14,'K'), Tmax=(5000,'K'))], Tmin=(100,'K'), Tmax=(5000,'K'), comment=\"\"\"Thermo library: BurkeH2O2\"\"\"), molecule=[Molecule(smiles=\"[H]\")], transport_data=TransportData(shapeIndex=0, epsilon=(1205.6,'J/mol'), sigma=(2.05,'angstrom'), dipoleMoment=(0,'De'), polarizability=(0,'angstrom^3'), rotrelaxcollnum=0.0, comment=\"\"\"NOx2018\"\"\"), molecular_weight=(1.00797,'amu'))]\n",
      "[Species(index=5, label=\"O\", thermo=NASA(polynomials=[NASAPolynomial(coeffs=[2.5,-2.06855e-14,2.66266e-17,-1.11497e-20,1.43542e-24,29226.7,5.11107], Tmin=(100,'K'), Tmax=(4561.14,'K')), NASAPolynomial(coeffs=[2.50002,-1.64942e-08,5.30955e-12,-7.59275e-16,4.06972e-20,29226.7,5.11095], Tmin=(4561.14,'K'), Tmax=(5000,'K'))], Tmin=(100,'K'), Tmax=(5000,'K'), comment=\"\"\"Thermo library: BurkeH2O2\"\"\"), molecule=[Molecule(smiles=\"[O]\")], transport_data=TransportData(shapeIndex=0, epsilon=(665.158,'J/mol'), sigma=(2.75,'angstrom'), dipoleMoment=(0,'De'), polarizability=(0,'angstrom^3'), rotrelaxcollnum=0.0, comment=\"\"\"NOx2018\"\"\"), molecular_weight=(15.9994,'amu')), Species(index=15, label=\"OH\", thermo=NASA(polynomials=[NASAPolynomial(coeffs=[3.4858,0.00133396,-4.70042e-06,5.64378e-09,-2.06317e-12,3411.96,1.99788], Tmin=(100,'K'), Tmax=(1005.25,'K')), NASAPolynomial(coeffs=[2.88225,0.00103869,-2.35653e-07,1.40232e-11,6.3456e-16,3669.56,5.59054], Tmin=(1005.25,'K'), Tmax=(5000,'K'))], Tmin=(100,'K'), Tmax=(5000,'K'), comment=\"\"\"Thermo library: BurkeH2O2\"\"\"), molecule=[Molecule(smiles=\"[OH]\")], transport_data=TransportData(shapeIndex=1, epsilon=(665.158,'J/mol'), sigma=(2.75,'angstrom'), dipoleMoment=(0,'De'), polarizability=(0,'angstrom^3'), rotrelaxcollnum=0.0, comment=\"\"\"NOx2018\"\"\"), molecular_weight=(17.0074,'amu'))]\n"
     ]
    },
    {
     "data": {
      "image/png": "[encoded data removed]",
      "text/plain": [
       "LibraryReaction(index=1, reactants=[Species(index=2, label=\"O2\", thermo=NASA(polynomials=[NASAPolynomial(coeffs=[3.53764,-0.00122828,5.36761e-06,-4.93131e-09,1.45956e-12,-1037.99,4.6718], Tmin=(100,'K'), Tmax=(1087.7,'K')), NASAPolynomial(coeffs=[3.16427,0.00169454,-8.00339e-07,1.59031e-10,-1.14892e-14,-1048.44,6.08305], Tmin=(1087.7,'K'), Tmax=(5000,'K'))], Tmin=(100,'K'), Tmax=(5000,'K'), comment=\"\"\"Thermo library: BurkeH2O2\"\"\"), molecule=[Molecule(smiles=\"[O][O]\")], transport_data=TransportData(shapeIndex=1, epsilon=(887.154,'J/mol'), sigma=(3.467,'angstrom'), dipoleMoment=(0,'De'), polarizability=(0,'angstrom^3'), rotrelaxcollnum=0.0, comment=\"\"\"PrimaryTransportLibrary\"\"\"), molecular_weight=(31.9988,'amu')), Species(index=14, label=\"H\", thermo=NASA(polynomials=[NASAPolynomial(coeffs=[2.5,-2.06855e-14,2.66266e-17,-1.11497e-20,1.43542e-24,25472.7,-0.459566], Tmin=(100,'K'), Tmax=(4561.14,'K')), NASAPolynomial(coeffs=[2.50002,-1.64942e-08,5.30955e-12,-7.59275e-16,4.06972e-20,25472.7,-0.459688], Tmin=(4561.14,'K'), Tmax=(5000,'K'))], Tmin=(100,'K'), Tmax=(5000,'K'), comment=\"\"\"Thermo library: BurkeH2O2\"\"\"), molecule=[Molecule(smiles=\"[H]\")], transport_data=TransportData(shapeIndex=0, epsilon=(1205.6,'J/mol'), sigma=(2.05,'angstrom'), dipoleMoment=(0,'De'), polarizability=(0,'angstrom^3'), rotrelaxcollnum=0.0, comment=\"\"\"NOx2018\"\"\"), molecular_weight=(1.00797,'amu'))], products=[Species(index=5, label=\"O\", thermo=NASA(polynomials=[NASAPolynomial(coeffs=[2.5,-2.06855e-14,2.66266e-17,-1.11497e-20,1.43542e-24,29226.7,5.11107], Tmin=(100,'K'), Tmax=(4561.14,'K')), NASAPolynomial(coeffs=[2.50002,-1.64942e-08,5.30955e-12,-7.59275e-16,4.06972e-20,29226.7,5.11095], Tmin=(4561.14,'K'), Tmax=(5000,'K'))], Tmin=(100,'K'), Tmax=(5000,'K'), comment=\"\"\"Thermo library: BurkeH2O2\"\"\"), molecule=[Molecule(smiles=\"[O]\")], transport_data=TransportData(shapeIndex=0, epsilon=(665.158,'J/mol'), sigma=(2.75,'angstrom'), dipoleMoment=(0,'De'), polarizability=(0,'angstrom^3'), rotrelaxcollnum=0.0, comment=\"\"\"NOx2018\"\"\"), molecular_weight=(15.9994,'amu')), Species(index=15, label=\"OH\", thermo=NASA(polynomials=[NASAPolynomial(coeffs=[3.4858,0.00133396,-4.70042e-06,5.64378e-09,-2.06317e-12,3411.96,1.99788], Tmin=(100,'K'), Tmax=(1005.25,'K')), NASAPolynomial(coeffs=[2.88225,0.00103869,-2.35653e-07,1.40232e-11,6.3456e-16,3669.56,5.59054], Tmin=(1005.25,'K'), Tmax=(5000,'K'))], Tmin=(100,'K'), Tmax=(5000,'K'), comment=\"\"\"Thermo library: BurkeH2O2\"\"\"), molecule=[Molecule(smiles=\"[OH]\")], transport_data=TransportData(shapeIndex=1, epsilon=(665.158,'J/mol'), sigma=(2.75,'angstrom'), dipoleMoment=(0,'De'), polarizability=(0,'angstrom^3'), rotrelaxcollnum=0.0, comment=\"\"\"NOx2018\"\"\"), molecular_weight=(17.0074,'amu'))], kinetics=Arrhenius(A=(1.04e+14,'cm^3/(mol*s)'), n=0, Ea=(15.286,'kcal/mol'), T0=(1,'K')), pairs=[(Species(index=2, label=\"O2\", thermo=NASA(polynomials=[NASAPolynomial(coeffs=[3.53764,-0.00122828,5.36761e-06,-4.93131e-09,1.45956e-12,-1037.99,4.6718], Tmin=(100,'K'), Tmax=(1087.7,'K')), NASAPolynomial(coeffs=[3.16427,0.00169454,-8.00339e-07,1.59031e-10,-1.14892e-14,-1048.44,6.08305], Tmin=(1087.7,'K'), Tmax=(5000,'K'))], Tmin=(100,'K'), Tmax=(5000,'K'), comment=\"\"\"Thermo library: BurkeH2O2\"\"\"), molecule=[Molecule(smiles=\"[O][O]\")], transport_data=TransportData(shapeIndex=1, epsilon=(887.154,'J/mol'), sigma=(3.467,'angstrom'), dipoleMoment=(0,'De'), polarizability=(0,'angstrom^3'), rotrelaxcollnum=0.0, comment=\"\"\"PrimaryTransportLibrary\"\"\"), molecular_weight=(31.9988,'amu')), Species(index=15, label=\"OH\", thermo=NASA(polynomials=[NASAPolynomial(coeffs=[3.4858,0.00133396,-4.70042e-06,5.64378e-09,-2.06317e-12,3411.96,1.99788], Tmin=(100,'K'), Tmax=(1005.25,'K')), NASAPolynomial(coeffs=[2.88225,0.00103869,-2.35653e-07,1.40232e-11,6.3456e-16,3669.56,5.59054], Tmin=(1005.25,'K'), Tmax=(5000,'K'))], Tmin=(100,'K'), Tmax=(5000,'K'), comment=\"\"\"Thermo library: BurkeH2O2\"\"\"), molecule=[Molecule(smiles=\"[OH]\")], transport_data=TransportData(shapeIndex=1, epsilon=(665.158,'J/mol'), sigma=(2.75,'angstrom'), dipoleMoment=(0,'De'), polarizability=(0,'angstrom^3'), rotrelaxcollnum=0.0, comment=\"\"\"NOx2018\"\"\"), molecular_weight=(17.0074,'amu'))), (Species(index=14, label=\"H\", thermo=NASA(polynomials=[NASAPolynomial(coeffs=[2.5,-2.06855e-14,2.66266e-17,-1.11497e-20,1.43542e-24,25472.7,-0.459566], Tmin=(100,'K'), Tmax=(4561.14,'K')), NASAPolynomial(coeffs=[2.50002,-1.64942e-08,5.30955e-12,-7.59275e-16,4.06972e-20,25472.7,-0.459688], Tmin=(4561.14,'K'), Tmax=(5000,'K'))], Tmin=(100,'K'), Tmax=(5000,'K'), comment=\"\"\"Thermo library: BurkeH2O2\"\"\"), molecule=[Molecule(smiles=\"[H]\")], transport_data=TransportData(shapeIndex=0, epsilon=(1205.6,'J/mol'), sigma=(2.05,'angstrom'), dipoleMoment=(0,'De'), polarizability=(0,'angstrom^3'), rotrelaxcollnum=0.0, comment=\"\"\"NOx2018\"\"\"), molecular_weight=(1.00797,'amu')), Species(index=5, label=\"O\", thermo=NASA(polynomials=[NASAPolynomial(coeffs=[2.5,-2.06855e-14,2.66266e-17,-1.11497e-20,1.43542e-24,29226.7,5.11107], Tmin=(100,'K'), Tmax=(4561.14,'K')), NASAPolynomial(coeffs=[2.50002,-1.64942e-08,5.30955e-12,-7.59275e-16,4.06972e-20,29226.7,5.11095], Tmin=(4561.14,'K'), Tmax=(5000,'K'))], Tmin=(100,'K'), Tmax=(5000,'K'), comment=\"\"\"Thermo library: BurkeH2O2\"\"\"), molecule=[Molecule(smiles=\"[O]\")], transport_data=TransportData(shapeIndex=0, epsilon=(665.158,'J/mol'), sigma=(2.75,'angstrom'), dipoleMoment=(0,'De'), polarizability=(0,'angstrom^3'), rotrelaxcollnum=0.0, comment=\"\"\"NOx2018\"\"\"), molecular_weight=(15.9994,'amu')))])"
      ]
     },
     "metadata": {},
     "output_type": "display_data"
    }
   ],
   "source": [
    "# show reactants and products\n",
    "\n",
    "print(reaction_list[0].reactants)\n",
    "print(reaction_list[0].products)\n",
    "display(reaction_list[0])"
   ]
  },
  {
   "cell_type": "code",
   "execution_count": 20,
   "id": "14ebc41d",
   "metadata": {},
   "outputs": [
    {
     "data": {
      "text/plain": [
       "rmgpy.rmg.pdep.PDepReaction"
      ]
     },
     "execution_count": 20,
     "metadata": {},
     "output_type": "execute_result"
    }
   ],
   "source": [
    "type(reaction_list[100])"
   ]
  },
  {
   "cell_type": "markdown",
   "id": "55022f01",
   "metadata": {},
   "source": [
    "# Find out how many species in Mech 2 are also in Mech 1"
   ]
  },
  {
   "cell_type": "code",
   "execution_count": 36,
   "id": "d0a55957",
   "metadata": {},
   "outputs": [
    {
     "name": "stdout",
     "output_type": "stream",
     "text": [
      "Species list 1: 0 is isomorphic with species list 2: 0\n",
      "Species list 1: 1 is isomorphic with species list 2: 1\n",
      "Species list 1: 2 is isomorphic with species list 2: 3\n",
      "Species list 1: 3 is isomorphic with species list 2: 2\n",
      "Species list 1: 5 is isomorphic with species list 2: 5\n",
      "Species list 1: 8 is isomorphic with species list 2: 10\n",
      "Species list 1: 11 is isomorphic with species list 2: 14\n",
      "Species list 1: 13 is isomorphic with species list 2: 6\n",
      "Species list 1: 14 is isomorphic with species list 2: 12\n",
      "Species list 1: 16 is isomorphic with species list 2: 13\n",
      "Species list 1: 17 is isomorphic with species list 2: 9\n",
      "Species list 1: 18 is isomorphic with species list 2: 11\n",
      "Species list 1: 21 is isomorphic with species list 2: 7\n",
      "Species list 1: 26 is isomorphic with species list 2: 8\n",
      "Species list 1: 44 is isomorphic with species list 2: 4\n",
      "15 in common\n"
     ]
    }
   ],
   "source": [
    "count = 0\n",
    "for i in range(len(species_list)):\n",
    "    for j in range(len(species_list2)):\n",
    "        if species_list[i].is_isomorphic(species_list2[j]):\n",
    "            print(f'Species list 1: {i} is isomorphic with species list 2: {j}')\n",
    "            count += 1\n",
    "            break\n",
    "print(count, 'in common')"
   ]
  },
  {
   "cell_type": "code",
   "execution_count": 32,
   "id": "43c571d8",
   "metadata": {},
   "outputs": [
    {
     "data": {
      "image/png": "[encoded data removed]",
      "text/plain": [
       "Species(index=82, label=\"CC\", thermo=NASA(polynomials=[NASAPolynomial(coeffs=[3.78031,-0.00324232,5.52369e-05,-6.38566e-08,2.2863e-11,-11620.3,5.21043], Tmin=(100,'K'), Tmax=(954.52,'K')), NASAPolynomial(coeffs=[4.58992,0.0141506,-4.75954e-06,8.60274e-10,-6.21699e-14,-12721.8,-3.61788], Tmin=(954.52,'K'), Tmax=(5000,'K'))], Tmin=(100,'K'), Tmax=(5000,'K'), comment=\"\"\"Thermo group additivity estimation: group(Cs-CsHHH) + group(Cs-CsHHH)\"\"\"), molecule=[Molecule(smiles=\"CC\")], transport_data=TransportData(shapeIndex=2, epsilon=(2097.74,'J/mol'), sigma=(4.302,'angstrom'), dipoleMoment=(0,'De'), polarizability=(0,'angstrom^3'), rotrelaxcollnum=1.5, comment=\"\"\"NOx2018\"\"\"), molecular_weight=(30.0691,'amu'))"
      ]
     },
     "execution_count": 32,
     "metadata": {},
     "output_type": "execute_result"
    }
   ],
   "source": [
    "species_list[44]"
   ]
  },
  {
   "cell_type": "code",
   "execution_count": 35,
   "id": "7e159080",
   "metadata": {},
   "outputs": [
    {
     "data": {
      "image/png": "[encoded data removed]",
      "text/plain": [
       "Species(index=1, label=\"ethane\", thermo=NASA(polynomials=[NASAPolynomial(coeffs=[3.78031,-0.00324232,5.52369e-05,-6.38566e-08,2.2863e-11,-11620.3,5.21043], Tmin=(100,'K'), Tmax=(954.52,'K')), NASAPolynomial(coeffs=[4.58992,0.0141506,-4.75954e-06,8.60274e-10,-6.21699e-14,-12721.8,-3.61788], Tmin=(954.52,'K'), Tmax=(5000,'K'))], Tmin=(100,'K'), Tmax=(5000,'K'), comment=\"\"\"Thermo group additivity estimation: group(Cs-CsHHH) + group(Cs-CsHHH)\"\"\"), molecule=[Molecule(smiles=\"CC\")], transport_data=TransportData(shapeIndex=2, epsilon=(2097.74,'J/mol'), sigma=(4.302,'angstrom'), dipoleMoment=(0,'De'), polarizability=(0,'angstrom^3'), rotrelaxcollnum=1.5, comment=\"\"\"NOx2018\"\"\"), molecular_weight=(30.0691,'amu'))"
      ]
     },
     "execution_count": 35,
     "metadata": {},
     "output_type": "execute_result"
    }
   ],
   "source": [
    "species_list2[4]"
   ]
  },
  {
   "cell_type": "code",
   "execution_count": 59,
   "id": "d8487e55",
   "metadata": {},
   "outputs": [
    {
     "name": "stdout",
     "output_type": "stream",
     "text": [
      "Reaction list 1: 0 is isomorphic with reaction list 2: 12\n",
      "Reaction list 1: 0 has different kinetics from reaction list 2: 12\n",
      "<class 'rmgpy.kinetics.arrhenius.Arrhenius'>\n",
      "Reaction list 1: 1 is isomorphic with reaction list 2: 16\n",
      "Reaction list 1: 1 has different kinetics from reaction list 2: 16\n",
      "<class 'rmgpy.kinetics.arrhenius.MultiArrhenius'>\n",
      "Reaction list 1: 2 is isomorphic with reaction list 2: 21\n",
      "Reaction list 1: 2 has different kinetics from reaction list 2: 21\n",
      "<class 'rmgpy.kinetics.arrhenius.Arrhenius'>\n",
      "Reaction list 1: 3 is isomorphic with reaction list 2: 22\n",
      "Reaction list 1: 3 has different kinetics from reaction list 2: 22\n",
      "<class 'rmgpy.kinetics.arrhenius.Arrhenius'>\n",
      "Reaction list 1: 4 is isomorphic with reaction list 2: 11\n",
      "Reaction list 1: 4 has different kinetics from reaction list 2: 11\n",
      "<class 'rmgpy.kinetics.falloff.ThirdBody'>\n",
      "Reaction list 1: 10 is isomorphic with reaction list 2: 17\n",
      "Reaction list 1: 10 has different kinetics from reaction list 2: 17\n",
      "<class 'rmgpy.kinetics.falloff.ThirdBody'>\n",
      "Reaction list 1: 11 is isomorphic with reaction list 2: 23\n",
      "Reaction list 1: 11 has different kinetics from reaction list 2: 23\n",
      "<class 'rmgpy.kinetics.falloff.ThirdBody'>\n",
      "Reaction list 1: 95 is isomorphic with reaction list 2: 6\n",
      "Reaction list 1: 95 has different kinetics from reaction list 2: 6\n",
      "<class 'rmgpy.kinetics.chebyshev.Chebyshev'>\n",
      "Reaction list 1: 122 is isomorphic with reaction list 2: 7\n",
      "Reaction list 1: 122 has different kinetics from reaction list 2: 7\n",
      "<class 'rmgpy.kinetics.chebyshev.Chebyshev'>\n",
      "Reaction list 1: 163 is isomorphic with reaction list 2: 9\n",
      "Reaction list 1: 165 is isomorphic with reaction list 2: 10\n",
      "Reaction list 1: 170 is isomorphic with reaction list 2: 19\n",
      "Reaction list 1: 172 is isomorphic with reaction list 2: 20\n",
      "Reaction list 1: 174 is isomorphic with reaction list 2: 15\n",
      "Reaction list 1: 181 is isomorphic with reaction list 2: 2\n",
      "Reaction list 1: 800 is isomorphic with reaction list 2: 5\n",
      "Reaction list 1: 800 has different kinetics from reaction list 2: 5\n",
      "<class 'rmgpy.kinetics.chebyshev.Chebyshev'>\n",
      "Reaction list 1: 911 is isomorphic with reaction list 2: 18\n",
      "Reaction list 1: 916 is isomorphic with reaction list 2: 3\n",
      "Reaction list 1: 920 is isomorphic with reaction list 2: 8\n",
      "Reaction list 1: 921 is isomorphic with reaction list 2: 1\n",
      "Reaction list 1: 933 is isomorphic with reaction list 2: 0\n",
      "Reaction list 1: 933 has different kinetics from reaction list 2: 0\n",
      "<class 'rmgpy.kinetics.chebyshev.Chebyshev'>\n",
      "Reaction list 1: 948 is isomorphic with reaction list 2: 4\n",
      "Reaction list 1: 948 has different kinetics from reaction list 2: 4\n",
      "<class 'rmgpy.kinetics.chebyshev.Chebyshev'>\n",
      "Reaction list 1: 1138 is isomorphic with reaction list 2: 13\n",
      "Reaction list 1: 1145 is isomorphic with reaction list 2: 15\n",
      "Reaction list 1: 1145 has different kinetics from reaction list 2: 15\n",
      "<class 'rmgpy.kinetics.chebyshev.Chebyshev'>\n",
      "Reaction list 1: 1220 is isomorphic with reaction list 2: 14\n",
      "25 in common\n"
     ]
    }
   ],
   "source": [
    "count = 0\n",
    "for i in range(len(reaction_list)):\n",
    "    for j in range(len(reaction_list2)):\n",
    "        if reaction_list[i].is_isomorphic(reaction_list2[j]):\n",
    "            print(f'Reaction list 1: {i} is isomorphic with reaction list 2: {j}')\n",
    "            count += 1\n",
    "#             if reaction_list[i].kinetics.comment != reaction_list2[j].kinetics.comment:\n",
    "#                 print(f'Reaction list 1: {i} has different kinetics comment from reaction list 2: {j}')\n",
    "                \n",
    "            if not reaction_list[i].kinetics.is_identical_to(reaction_list2[j].kinetics):\n",
    "                print(f'Reaction list 1: {i} has different kinetics from reaction list 2: {j}')\n",
    "                print(type(reaction_list[i].kinetics))\n",
    "            \n",
    "            break\n",
    "print(count, 'in common')"
   ]
  },
  {
   "cell_type": "code",
   "execution_count": 38,
   "id": "98c848ce",
   "metadata": {},
   "outputs": [
    {
     "data": {
      "image/png": "[encoded data removed]",
      "text/plain": [
       "TemplateReaction(index=1230, reactants=[Species(index=5, label=\"O\", thermo=NASA(polynomials=[NASAPolynomial(coeffs=[2.5,-2.06855e-14,2.66266e-17,-1.11497e-20,1.43542e-24,29226.7,5.11107], Tmin=(100,'K'), Tmax=(4561.14,'K')), NASAPolynomial(coeffs=[2.50002,-1.64942e-08,5.30955e-12,-7.59275e-16,4.06972e-20,29226.7,5.11095], Tmin=(4561.14,'K'), Tmax=(5000,'K'))], Tmin=(100,'K'), Tmax=(5000,'K'), comment=\"\"\"Thermo library: BurkeH2O2\"\"\"), molecule=[Molecule(smiles=\"[O]\")], transport_data=TransportData(shapeIndex=0, epsilon=(665.158,'J/mol'), sigma=(2.75,'angstrom'), dipoleMoment=(0,'De'), polarizability=(0,'angstrom^3'), rotrelaxcollnum=0.0, comment=\"\"\"NOx2018\"\"\"), molecular_weight=(15.9994,'amu')), Species(index=82, label=\"CC\", thermo=NASA(polynomials=[NASAPolynomial(coeffs=[3.78031,-0.00324232,5.52369e-05,-6.38566e-08,2.2863e-11,-11620.3,5.21043], Tmin=(100,'K'), Tmax=(954.52,'K')), NASAPolynomial(coeffs=[4.58992,0.0141506,-4.75954e-06,8.60274e-10,-6.21699e-14,-12721.8,-3.61788], Tmin=(954.52,'K'), Tmax=(5000,'K'))], Tmin=(100,'K'), Tmax=(5000,'K'), comment=\"\"\"Thermo group additivity estimation: group(Cs-CsHHH) + group(Cs-CsHHH)\"\"\"), molecule=[Molecule(smiles=\"CC\")], transport_data=TransportData(shapeIndex=2, epsilon=(2097.74,'J/mol'), sigma=(4.302,'angstrom'), dipoleMoment=(0,'De'), polarizability=(0,'angstrom^3'), rotrelaxcollnum=1.5, comment=\"\"\"NOx2018\"\"\"), molecular_weight=(30.0691,'amu'))], products=[Species(index=15, label=\"OH\", thermo=NASA(polynomials=[NASAPolynomial(coeffs=[3.4858,0.00133396,-4.70042e-06,5.64378e-09,-2.06317e-12,3411.96,1.99788], Tmin=(100,'K'), Tmax=(1005.25,'K')), NASAPolynomial(coeffs=[2.88225,0.00103869,-2.35653e-07,1.40232e-11,6.3456e-16,3669.56,5.59054], Tmin=(1005.25,'K'), Tmax=(5000,'K'))], Tmin=(100,'K'), Tmax=(5000,'K'), comment=\"\"\"Thermo library: BurkeH2O2\"\"\"), molecule=[Molecule(smiles=\"[OH]\")], transport_data=TransportData(shapeIndex=1, epsilon=(665.158,'J/mol'), sigma=(2.75,'angstrom'), dipoleMoment=(0,'De'), polarizability=(0,'angstrom^3'), rotrelaxcollnum=0.0, comment=\"\"\"NOx2018\"\"\"), molecular_weight=(17.0074,'amu')), Species(index=33, label=\"C2H5\", thermo=NASA(polynomials=[NASAPolynomial(coeffs=[3.82177,-0.00343283,5.09228e-05,-6.2017e-08,2.37054e-11,13066,7.61665], Tmin=(100,'K'), Tmax=(900.33,'K')), NASAPolynomial(coeffs=[5.15637,0.00943094,-1.81929e-06,2.21155e-10,-1.43447e-14,12064,-2.9119], Tmin=(900.33,'K'), Tmax=(5000,'K'))], Tmin=(100,'K'), Tmax=(5000,'K'), comment=\"\"\"Thermo group additivity estimation: group(Cs-CsHHH) + group(Cs-CsHHH) + radical(CCJ)\"\"\"), molecule=[Molecule(smiles=\"C[CH2]\")], transport_data=TransportData(shapeIndex=2, epsilon=(2097.74,'J/mol'), sigma=(4.302,'angstrom'), dipoleMoment=(0,'De'), polarizability=(0,'angstrom^3'), rotrelaxcollnum=1.5, comment=\"\"\"NOx2018\"\"\"), molecular_weight=(29.0611,'amu'))], kinetics=Arrhenius(A=(180000,'cm^3/(mol*s)'), n=2.8, Ea=(5.8,'kcal/mol'), T0=(1,'K'), comment=\"\"\"Matched reaction 211 C2H6 + O_rad <=> C2H5b + OH_p23 in H_Abstraction/training\n",
       "This reaction matched rate rule [C/H3/Cs\\H3;O_atom_triplet]\n",
       "family: H_Abstraction\"\"\"), pairs=[(Species(index=5, label=\"O\", thermo=NASA(polynomials=[NASAPolynomial(coeffs=[2.5,-2.06855e-14,2.66266e-17,-1.11497e-20,1.43542e-24,29226.7,5.11107], Tmin=(100,'K'), Tmax=(4561.14,'K')), NASAPolynomial(coeffs=[2.50002,-1.64942e-08,5.30955e-12,-7.59275e-16,4.06972e-20,29226.7,5.11095], Tmin=(4561.14,'K'), Tmax=(5000,'K'))], Tmin=(100,'K'), Tmax=(5000,'K'), comment=\"\"\"Thermo library: BurkeH2O2\"\"\"), molecule=[Molecule(smiles=\"[O]\")], transport_data=TransportData(shapeIndex=0, epsilon=(665.158,'J/mol'), sigma=(2.75,'angstrom'), dipoleMoment=(0,'De'), polarizability=(0,'angstrom^3'), rotrelaxcollnum=0.0, comment=\"\"\"NOx2018\"\"\"), molecular_weight=(15.9994,'amu')), Species(index=15, label=\"OH\", thermo=NASA(polynomials=[NASAPolynomial(coeffs=[3.4858,0.00133396,-4.70042e-06,5.64378e-09,-2.06317e-12,3411.96,1.99788], Tmin=(100,'K'), Tmax=(1005.25,'K')), NASAPolynomial(coeffs=[2.88225,0.00103869,-2.35653e-07,1.40232e-11,6.3456e-16,3669.56,5.59054], Tmin=(1005.25,'K'), Tmax=(5000,'K'))], Tmin=(100,'K'), Tmax=(5000,'K'), comment=\"\"\"Thermo library: BurkeH2O2\"\"\"), molecule=[Molecule(smiles=\"[OH]\")], transport_data=TransportData(shapeIndex=1, epsilon=(665.158,'J/mol'), sigma=(2.75,'angstrom'), dipoleMoment=(0,'De'), polarizability=(0,'angstrom^3'), rotrelaxcollnum=0.0, comment=\"\"\"NOx2018\"\"\"), molecular_weight=(17.0074,'amu'))), (Species(index=82, label=\"CC\", thermo=NASA(polynomials=[NASAPolynomial(coeffs=[3.78031,-0.00324232,5.52369e-05,-6.38566e-08,2.2863e-11,-11620.3,5.21043], Tmin=(100,'K'), Tmax=(954.52,'K')), NASAPolynomial(coeffs=[4.58992,0.0141506,-4.75954e-06,8.60274e-10,-6.21699e-14,-12721.8,-3.61788], Tmin=(954.52,'K'), Tmax=(5000,'K'))], Tmin=(100,'K'), Tmax=(5000,'K'), comment=\"\"\"Thermo group additivity estimation: group(Cs-CsHHH) + group(Cs-CsHHH)\"\"\"), molecule=[Molecule(smiles=\"CC\")], transport_data=TransportData(shapeIndex=2, epsilon=(2097.74,'J/mol'), sigma=(4.302,'angstrom'), dipoleMoment=(0,'De'), polarizability=(0,'angstrom^3'), rotrelaxcollnum=1.5, comment=\"\"\"NOx2018\"\"\"), molecular_weight=(30.0691,'amu')), Species(index=33, label=\"C2H5\", thermo=NASA(polynomials=[NASAPolynomial(coeffs=[3.82177,-0.00343283,5.09228e-05,-6.2017e-08,2.37054e-11,13066,7.61665], Tmin=(100,'K'), Tmax=(900.33,'K')), NASAPolynomial(coeffs=[5.15637,0.00943094,-1.81929e-06,2.21155e-10,-1.43447e-14,12064,-2.9119], Tmin=(900.33,'K'), Tmax=(5000,'K'))], Tmin=(100,'K'), Tmax=(5000,'K'), comment=\"\"\"Thermo group additivity estimation: group(Cs-CsHHH) + group(Cs-CsHHH) + radical(CCJ)\"\"\"), molecule=[Molecule(smiles=\"C[CH2]\")], transport_data=TransportData(shapeIndex=2, epsilon=(2097.74,'J/mol'), sigma=(4.302,'angstrom'), dipoleMoment=(0,'De'), polarizability=(0,'angstrom^3'), rotrelaxcollnum=1.5, comment=\"\"\"NOx2018\"\"\"), molecular_weight=(29.0611,'amu')))], family='H_Abstraction', template=['C/H3/Cs\\\\H3', 'O_atom_triplet'])"
      ]
     },
     "execution_count": 38,
     "metadata": {},
     "output_type": "execute_result"
    }
   ],
   "source": [
    "reaction_list[1220]"
   ]
  },
  {
   "cell_type": "code",
   "execution_count": 39,
   "id": "2da41a90",
   "metadata": {},
   "outputs": [
    {
     "data": {
      "image/png": "[encoded data removed]",
      "text/plain": [
       "TemplateReaction(index=15, reactants=[Species(index=12, label=\"[O]\", thermo=NASA(polynomials=[NASAPolynomial(coeffs=[2.5,-2.06855e-14,2.66266e-17,-1.11497e-20,1.43542e-24,29230.2,5.12616], Tmin=(100,'K'), Tmax=(4561.14,'K')), NASAPolynomial(coeffs=[2.50002,-1.64942e-08,5.30955e-12,-7.59275e-16,4.06972e-20,29230.2,5.12604], Tmin=(4561.14,'K'), Tmax=(5000,'K'))], Tmin=(100,'K'), Tmax=(5000,'K'), comment=\"\"\"Thermo library: primaryThermoLibrary\"\"\"), molecule=[Molecule(smiles=\"[O]\")], transport_data=TransportData(shapeIndex=0, epsilon=(665.158,'J/mol'), sigma=(2.75,'angstrom'), dipoleMoment=(0,'De'), polarizability=(0,'angstrom^3'), rotrelaxcollnum=0.0, comment=\"\"\"NOx2018\"\"\"), molecular_weight=(15.9994,'amu')), Species(index=1, label=\"ethane\", thermo=NASA(polynomials=[NASAPolynomial(coeffs=[3.78031,-0.00324232,5.52369e-05,-6.38566e-08,2.2863e-11,-11620.3,5.21043], Tmin=(100,'K'), Tmax=(954.52,'K')), NASAPolynomial(coeffs=[4.58992,0.0141506,-4.75954e-06,8.60274e-10,-6.21699e-14,-12721.8,-3.61788], Tmin=(954.52,'K'), Tmax=(5000,'K'))], Tmin=(100,'K'), Tmax=(5000,'K'), comment=\"\"\"Thermo group additivity estimation: group(Cs-CsHHH) + group(Cs-CsHHH)\"\"\"), molecule=[Molecule(smiles=\"CC\")], transport_data=TransportData(shapeIndex=2, epsilon=(2097.74,'J/mol'), sigma=(4.302,'angstrom'), dipoleMoment=(0,'De'), polarizability=(0,'angstrom^3'), rotrelaxcollnum=1.5, comment=\"\"\"NOx2018\"\"\"), molecular_weight=(30.0691,'amu'))], products=[Species(index=14, label=\"[OH]\", thermo=NASA(polynomials=[NASAPolynomial(coeffs=[3.51457,2.92692e-05,-5.32137e-07,1.01946e-09,-3.85933e-13,3414.25,2.10435], Tmin=(100,'K'), Tmax=(1145.76,'K')), NASAPolynomial(coeffs=[3.07193,0.000604024,-1.3983e-08,-2.13435e-11,2.48057e-15,3579.39,4.57803], Tmin=(1145.76,'K'), Tmax=(5000,'K'))], Tmin=(100,'K'), Tmax=(5000,'K'), comment=\"\"\"Thermo library: primaryThermoLibrary\"\"\"), molecule=[Molecule(smiles=\"[OH]\")], transport_data=TransportData(shapeIndex=1, epsilon=(665.158,'J/mol'), sigma=(2.75,'angstrom'), dipoleMoment=(0,'De'), polarizability=(0,'angstrom^3'), rotrelaxcollnum=0.0, comment=\"\"\"NOx2018\"\"\"), molecular_weight=(17.0074,'amu')), Species(index=6, label=\"C[CH2]\", thermo=NASA(polynomials=[NASAPolynomial(coeffs=[3.82177,-0.00343283,5.09228e-05,-6.2017e-08,2.37054e-11,13066,7.61665], Tmin=(100,'K'), Tmax=(900.33,'K')), NASAPolynomial(coeffs=[5.15637,0.00943094,-1.81929e-06,2.21155e-10,-1.43447e-14,12064,-2.9119], Tmin=(900.33,'K'), Tmax=(5000,'K'))], Tmin=(100,'K'), Tmax=(5000,'K'), comment=\"\"\"Thermo group additivity estimation: group(Cs-CsHHH) + group(Cs-CsHHH) + radical(CCJ)\"\"\"), molecule=[Molecule(smiles=\"C[CH2]\")], transport_data=TransportData(shapeIndex=2, epsilon=(2097.74,'J/mol'), sigma=(4.302,'angstrom'), dipoleMoment=(0,'De'), polarizability=(0,'angstrom^3'), rotrelaxcollnum=1.5, comment=\"\"\"NOx2018\"\"\"), molecular_weight=(29.0611,'amu'))], kinetics=Arrhenius(A=(180000,'cm^3/(mol*s)'), n=2.8, Ea=(5.8,'kcal/mol'), T0=(1,'K'), comment=\"\"\"Matched reaction 211 C2H6 + O_rad <=> C2H5b + OH_p23 in H_Abstraction/training\n",
       "This reaction matched rate rule [OH_rad_H;C_rad/H2/Cs\\H3]\n",
       "family: H_Abstraction\"\"\"), pairs=[(Species(index=1, label=\"ethane\", thermo=NASA(polynomials=[NASAPolynomial(coeffs=[3.78031,-0.00324232,5.52369e-05,-6.38566e-08,2.2863e-11,-11620.3,5.21043], Tmin=(100,'K'), Tmax=(954.52,'K')), NASAPolynomial(coeffs=[4.58992,0.0141506,-4.75954e-06,8.60274e-10,-6.21699e-14,-12721.8,-3.61788], Tmin=(954.52,'K'), Tmax=(5000,'K'))], Tmin=(100,'K'), Tmax=(5000,'K'), comment=\"\"\"Thermo group additivity estimation: group(Cs-CsHHH) + group(Cs-CsHHH)\"\"\"), molecule=[Molecule(smiles=\"CC\")], transport_data=TransportData(shapeIndex=2, epsilon=(2097.74,'J/mol'), sigma=(4.302,'angstrom'), dipoleMoment=(0,'De'), polarizability=(0,'angstrom^3'), rotrelaxcollnum=1.5, comment=\"\"\"NOx2018\"\"\"), molecular_weight=(30.0691,'amu')), Species(index=6, label=\"C[CH2]\", thermo=NASA(polynomials=[NASAPolynomial(coeffs=[3.82177,-0.00343283,5.09228e-05,-6.2017e-08,2.37054e-11,13066,7.61665], Tmin=(100,'K'), Tmax=(900.33,'K')), NASAPolynomial(coeffs=[5.15637,0.00943094,-1.81929e-06,2.21155e-10,-1.43447e-14,12064,-2.9119], Tmin=(900.33,'K'), Tmax=(5000,'K'))], Tmin=(100,'K'), Tmax=(5000,'K'), comment=\"\"\"Thermo group additivity estimation: group(Cs-CsHHH) + group(Cs-CsHHH) + radical(CCJ)\"\"\"), molecule=[Molecule(smiles=\"C[CH2]\")], transport_data=TransportData(shapeIndex=2, epsilon=(2097.74,'J/mol'), sigma=(4.302,'angstrom'), dipoleMoment=(0,'De'), polarizability=(0,'angstrom^3'), rotrelaxcollnum=1.5, comment=\"\"\"NOx2018\"\"\"), molecular_weight=(29.0611,'amu'))), (Species(index=12, label=\"[O]\", thermo=NASA(polynomials=[NASAPolynomial(coeffs=[2.5,-2.06855e-14,2.66266e-17,-1.11497e-20,1.43542e-24,29230.2,5.12616], Tmin=(100,'K'), Tmax=(4561.14,'K')), NASAPolynomial(coeffs=[2.50002,-1.64942e-08,5.30955e-12,-7.59275e-16,4.06972e-20,29230.2,5.12604], Tmin=(4561.14,'K'), Tmax=(5000,'K'))], Tmin=(100,'K'), Tmax=(5000,'K'), comment=\"\"\"Thermo library: primaryThermoLibrary\"\"\"), molecule=[Molecule(smiles=\"[O]\")], transport_data=TransportData(shapeIndex=0, epsilon=(665.158,'J/mol'), sigma=(2.75,'angstrom'), dipoleMoment=(0,'De'), polarizability=(0,'angstrom^3'), rotrelaxcollnum=0.0, comment=\"\"\"NOx2018\"\"\"), molecular_weight=(15.9994,'amu')), Species(index=14, label=\"[OH]\", thermo=NASA(polynomials=[NASAPolynomial(coeffs=[3.51457,2.92692e-05,-5.32137e-07,1.01946e-09,-3.85933e-13,3414.25,2.10435], Tmin=(100,'K'), Tmax=(1145.76,'K')), NASAPolynomial(coeffs=[3.07193,0.000604024,-1.3983e-08,-2.13435e-11,2.48057e-15,3579.39,4.57803], Tmin=(1145.76,'K'), Tmax=(5000,'K'))], Tmin=(100,'K'), Tmax=(5000,'K'), comment=\"\"\"Thermo library: primaryThermoLibrary\"\"\"), molecule=[Molecule(smiles=\"[OH]\")], transport_data=TransportData(shapeIndex=1, epsilon=(665.158,'J/mol'), sigma=(2.75,'angstrom'), dipoleMoment=(0,'De'), polarizability=(0,'angstrom^3'), rotrelaxcollnum=0.0, comment=\"\"\"NOx2018\"\"\"), molecular_weight=(17.0074,'amu')))], family='H_Abstraction', template=['OH_rad_H', 'C_rad/H2/Cs\\\\H3'])"
      ]
     },
     "execution_count": 39,
     "metadata": {},
     "output_type": "execute_result"
    }
   ],
   "source": [
    "reaction_list2[14]"
   ]
  },
  {
   "cell_type": "code",
   "execution_count": 41,
   "id": "85ce8ce2",
   "metadata": {},
   "outputs": [
    {
     "data": {
      "text/plain": [
       "Arrhenius(A=(180000,'cm^3/(mol*s)'), n=2.8, Ea=(5.8,'kcal/mol'), T0=(1,'K'), comment=\"\"\"Matched reaction 211 C2H6 + O_rad <=> C2H5b + OH_p23 in H_Abstraction/training\n",
       "This reaction matched rate rule [C/H3/Cs\\H3;O_atom_triplet]\n",
       "family: H_Abstraction\"\"\")"
      ]
     },
     "execution_count": 41,
     "metadata": {},
     "output_type": "execute_result"
    }
   ],
   "source": [
    "reaction_list[1220].kinetics"
   ]
  },
  {
   "cell_type": "code",
   "execution_count": 40,
   "id": "f2886b7d",
   "metadata": {},
   "outputs": [
    {
     "data": {
      "text/plain": [
       "Arrhenius(A=(180000,'cm^3/(mol*s)'), n=2.8, Ea=(5.8,'kcal/mol'), T0=(1,'K'), comment=\"\"\"Matched reaction 211 C2H6 + O_rad <=> C2H5b + OH_p23 in H_Abstraction/training\n",
       "This reaction matched rate rule [OH_rad_H;C_rad/H2/Cs\\H3]\n",
       "family: H_Abstraction\"\"\")"
      ]
     },
     "execution_count": 40,
     "metadata": {},
     "output_type": "execute_result"
    }
   ],
   "source": [
    "reaction_list2[14].kinetics"
   ]
  },
  {
   "cell_type": "code",
   "execution_count": 47,
   "id": "0772bb7a",
   "metadata": {},
   "outputs": [
    {
     "data": {
      "image/png": "[encoded data removed]",
      "text/plain": [
       "Reaction(index=810, reactants=[Species(index=18, label=\"CH3\", thermo=NASA(polynomials=[NASAPolynomial(coeffs=[3.98354,0.00104344,1.03019e-05,-1.78439e-08,1.09976e-11,16909.8,0.220209], Tmin=(10,'K'), Tmax=(399.22,'K')), NASAPolynomial(coeffs=[3.70615,0.0038225,-1.38876e-07,-4.10174e-10,8.12296e-14,16932,1.30377], Tmin=(399.22,'K'), Tmax=(3000,'K'))], Tmin=(10,'K'), Tmax=(3000,'K'), comment=\"\"\"Thermo library: harris_butane\"\"\"), molecule=[Molecule(smiles=\"[CH3]\")], transport_data=TransportData(shapeIndex=2, epsilon=(1197.28,'J/mol'), sigma=(3.8,'angstrom'), dipoleMoment=(0,'De'), polarizability=(0,'angstrom^3'), rotrelaxcollnum=0.0, comment=\"\"\"NOx2018\"\"\"), molecular_weight=(15.0346,'amu')), Species(index=18, label=\"CH3\", thermo=NASA(polynomials=[NASAPolynomial(coeffs=[3.98354,0.00104344,1.03019e-05,-1.78439e-08,1.09976e-11,16909.8,0.220209], Tmin=(10,'K'), Tmax=(399.22,'K')), NASAPolynomial(coeffs=[3.70615,0.0038225,-1.38876e-07,-4.10174e-10,8.12296e-14,16932,1.30377], Tmin=(399.22,'K'), Tmax=(3000,'K'))], Tmin=(10,'K'), Tmax=(3000,'K'), comment=\"\"\"Thermo library: harris_butane\"\"\"), molecule=[Molecule(smiles=\"[CH3]\")], transport_data=TransportData(shapeIndex=2, epsilon=(1197.28,'J/mol'), sigma=(3.8,'angstrom'), dipoleMoment=(0,'De'), polarizability=(0,'angstrom^3'), rotrelaxcollnum=0.0, comment=\"\"\"NOx2018\"\"\"), molecular_weight=(15.0346,'amu'))], products=[Species(index=14, label=\"H\", thermo=NASA(polynomials=[NASAPolynomial(coeffs=[2.5,-2.06855e-14,2.66266e-17,-1.11497e-20,1.43542e-24,25472.7,-0.459566], Tmin=(100,'K'), Tmax=(4561.14,'K')), NASAPolynomial(coeffs=[2.50002,-1.64942e-08,5.30955e-12,-7.59275e-16,4.06972e-20,25472.7,-0.459688], Tmin=(4561.14,'K'), Tmax=(5000,'K'))], Tmin=(100,'K'), Tmax=(5000,'K'), comment=\"\"\"Thermo library: BurkeH2O2\"\"\"), molecule=[Molecule(smiles=\"[H]\")], transport_data=TransportData(shapeIndex=0, epsilon=(1205.6,'J/mol'), sigma=(2.05,'angstrom'), dipoleMoment=(0,'De'), polarizability=(0,'angstrom^3'), rotrelaxcollnum=0.0, comment=\"\"\"NOx2018\"\"\"), molecular_weight=(1.00797,'amu')), Species(index=33, label=\"C2H5\", thermo=NASA(polynomials=[NASAPolynomial(coeffs=[3.82177,-0.00343283,5.09228e-05,-6.2017e-08,2.37054e-11,13066,7.61665], Tmin=(100,'K'), Tmax=(900.33,'K')), NASAPolynomial(coeffs=[5.15637,0.00943094,-1.81929e-06,2.21155e-10,-1.43447e-14,12064,-2.9119], Tmin=(900.33,'K'), Tmax=(5000,'K'))], Tmin=(100,'K'), Tmax=(5000,'K'), comment=\"\"\"Thermo group additivity estimation: group(Cs-CsHHH) + group(Cs-CsHHH) + radical(CCJ)\"\"\"), molecule=[Molecule(smiles=\"C[CH2]\")], transport_data=TransportData(shapeIndex=2, epsilon=(2097.74,'J/mol'), sigma=(4.302,'angstrom'), dipoleMoment=(0,'De'), polarizability=(0,'angstrom^3'), rotrelaxcollnum=1.5, comment=\"\"\"NOx2018\"\"\"), molecular_weight=(29.0611,'amu'))], kinetics=Chebyshev(coeffs=[[8.169,-1.093,-0.1863,0.02213],[3.448,0.8559,0.02348,-0.05431],[0.1643,0.2276,0.09746,-0.009475],[0.0222,0.01019,0.04347,0.01639],[-0.008387,-0.02724,0.003918,0.01137],[-0.006102,-0.01791,-0.006703,0.002573]], kunits='cm^3/(mol*s)', Tmin=(300,'K'), Tmax=(2000,'K'), Pmin=(0.01,'atm'), Pmax=(98.692,'atm')), pairs=[(Species(index=18, label=\"CH3\", thermo=NASA(polynomials=[NASAPolynomial(coeffs=[3.98354,0.00104344,1.03019e-05,-1.78439e-08,1.09976e-11,16909.8,0.220209], Tmin=(10,'K'), Tmax=(399.22,'K')), NASAPolynomial(coeffs=[3.70615,0.0038225,-1.38876e-07,-4.10174e-10,8.12296e-14,16932,1.30377], Tmin=(399.22,'K'), Tmax=(3000,'K'))], Tmin=(10,'K'), Tmax=(3000,'K'), comment=\"\"\"Thermo library: harris_butane\"\"\"), molecule=[Molecule(smiles=\"[CH3]\")], transport_data=TransportData(shapeIndex=2, epsilon=(1197.28,'J/mol'), sigma=(3.8,'angstrom'), dipoleMoment=(0,'De'), polarizability=(0,'angstrom^3'), rotrelaxcollnum=0.0, comment=\"\"\"NOx2018\"\"\"), molecular_weight=(15.0346,'amu')), Species(index=33, label=\"C2H5\", thermo=NASA(polynomials=[NASAPolynomial(coeffs=[3.82177,-0.00343283,5.09228e-05,-6.2017e-08,2.37054e-11,13066,7.61665], Tmin=(100,'K'), Tmax=(900.33,'K')), NASAPolynomial(coeffs=[5.15637,0.00943094,-1.81929e-06,2.21155e-10,-1.43447e-14,12064,-2.9119], Tmin=(900.33,'K'), Tmax=(5000,'K'))], Tmin=(100,'K'), Tmax=(5000,'K'), comment=\"\"\"Thermo group additivity estimation: group(Cs-CsHHH) + group(Cs-CsHHH) + radical(CCJ)\"\"\"), molecule=[Molecule(smiles=\"C[CH2]\")], transport_data=TransportData(shapeIndex=2, epsilon=(2097.74,'J/mol'), sigma=(4.302,'angstrom'), dipoleMoment=(0,'De'), polarizability=(0,'angstrom^3'), rotrelaxcollnum=1.5, comment=\"\"\"NOx2018\"\"\"), molecular_weight=(29.0611,'amu'))), (Species(index=18, label=\"CH3\", thermo=NASA(polynomials=[NASAPolynomial(coeffs=[3.98354,0.00104344,1.03019e-05,-1.78439e-08,1.09976e-11,16909.8,0.220209], Tmin=(10,'K'), Tmax=(399.22,'K')), NASAPolynomial(coeffs=[3.70615,0.0038225,-1.38876e-07,-4.10174e-10,8.12296e-14,16932,1.30377], Tmin=(399.22,'K'), Tmax=(3000,'K'))], Tmin=(10,'K'), Tmax=(3000,'K'), comment=\"\"\"Thermo library: harris_butane\"\"\"), molecule=[Molecule(smiles=\"[CH3]\")], transport_data=TransportData(shapeIndex=2, epsilon=(1197.28,'J/mol'), sigma=(3.8,'angstrom'), dipoleMoment=(0,'De'), polarizability=(0,'angstrom^3'), rotrelaxcollnum=0.0, comment=\"\"\"NOx2018\"\"\"), molecular_weight=(15.0346,'amu')), Species(index=14, label=\"H\", thermo=NASA(polynomials=[NASAPolynomial(coeffs=[2.5,-2.06855e-14,2.66266e-17,-1.11497e-20,1.43542e-24,25472.7,-0.459566], Tmin=(100,'K'), Tmax=(4561.14,'K')), NASAPolynomial(coeffs=[2.50002,-1.64942e-08,5.30955e-12,-7.59275e-16,4.06972e-20,25472.7,-0.459688], Tmin=(4561.14,'K'), Tmax=(5000,'K'))], Tmin=(100,'K'), Tmax=(5000,'K'), comment=\"\"\"Thermo library: BurkeH2O2\"\"\"), molecule=[Molecule(smiles=\"[H]\")], transport_data=TransportData(shapeIndex=0, epsilon=(1205.6,'J/mol'), sigma=(2.05,'angstrom'), dipoleMoment=(0,'De'), polarizability=(0,'angstrom^3'), rotrelaxcollnum=0.0, comment=\"\"\"NOx2018\"\"\"), molecular_weight=(1.00797,'amu')))],)"
      ]
     },
     "execution_count": 47,
     "metadata": {},
     "output_type": "execute_result"
    }
   ],
   "source": [
    "reaction_list[800]"
   ]
  },
  {
   "cell_type": "code",
   "execution_count": 48,
   "id": "3aee7d67",
   "metadata": {},
   "outputs": [
    {
     "data": {
      "image/png": "[encoded data removed]",
      "text/plain": [
       "Reaction(index=6, reactants=[Species(index=7, label=\"[H]\", thermo=NASA(polynomials=[NASAPolynomial(coeffs=[2.5,-2.06855e-14,2.66266e-17,-1.11497e-20,1.43542e-24,25474.2,-0.444973], Tmin=(100,'K'), Tmax=(4561.14,'K')), NASAPolynomial(coeffs=[2.50002,-1.64942e-08,5.30955e-12,-7.59275e-16,4.06972e-20,25474.2,-0.445095], Tmin=(4561.14,'K'), Tmax=(5000,'K'))], Tmin=(100,'K'), Tmax=(5000,'K'), comment=\"\"\"Thermo library: primaryThermoLibrary\"\"\"), molecule=[Molecule(smiles=\"[H]\")], transport_data=TransportData(shapeIndex=0, epsilon=(1205.6,'J/mol'), sigma=(2.05,'angstrom'), dipoleMoment=(0,'De'), polarizability=(0,'angstrom^3'), rotrelaxcollnum=0.0, comment=\"\"\"NOx2018\"\"\"), molecular_weight=(1.00797,'amu')), Species(index=6, label=\"C[CH2]\", thermo=NASA(polynomials=[NASAPolynomial(coeffs=[3.82177,-0.00343283,5.09228e-05,-6.2017e-08,2.37054e-11,13066,7.61665], Tmin=(100,'K'), Tmax=(900.33,'K')), NASAPolynomial(coeffs=[5.15637,0.00943094,-1.81929e-06,2.21155e-10,-1.43447e-14,12064,-2.9119], Tmin=(900.33,'K'), Tmax=(5000,'K'))], Tmin=(100,'K'), Tmax=(5000,'K'), comment=\"\"\"Thermo group additivity estimation: group(Cs-CsHHH) + group(Cs-CsHHH) + radical(CCJ)\"\"\"), molecule=[Molecule(smiles=\"C[CH2]\")], transport_data=TransportData(shapeIndex=2, epsilon=(2097.74,'J/mol'), sigma=(4.302,'angstrom'), dipoleMoment=(0,'De'), polarizability=(0,'angstrom^3'), rotrelaxcollnum=1.5, comment=\"\"\"NOx2018\"\"\"), molecular_weight=(29.0611,'amu'))], products=[Species(index=5, label=\"[CH3]\", thermo=NASA(polynomials=[NASAPolynomial(coeffs=[3.91547,0.00184155,3.48738e-06,-3.32744e-09,8.49945e-13,16285.6,0.351746], Tmin=(100,'K'), Tmax=(1337.64,'K')), NASAPolynomial(coeffs=[3.54147,0.00476784,-1.82147e-06,3.28874e-10,-2.22543e-14,16223.9,1.66026], Tmin=(1337.64,'K'), Tmax=(5000,'K'))], Tmin=(100,'K'), Tmax=(5000,'K'), comment=\"\"\"Thermo library: primaryThermoLibrary + radical(CH3)\"\"\"), molecule=[Molecule(smiles=\"[CH3]\")], transport_data=TransportData(shapeIndex=2, epsilon=(1197.28,'J/mol'), sigma=(3.8,'angstrom'), dipoleMoment=(0,'De'), polarizability=(0,'angstrom^3'), rotrelaxcollnum=0.0, comment=\"\"\"NOx2018\"\"\"), molecular_weight=(15.0346,'amu')), Species(index=5, label=\"[CH3]\", thermo=NASA(polynomials=[NASAPolynomial(coeffs=[3.91547,0.00184155,3.48738e-06,-3.32744e-09,8.49945e-13,16285.6,0.351746], Tmin=(100,'K'), Tmax=(1337.64,'K')), NASAPolynomial(coeffs=[3.54147,0.00476784,-1.82147e-06,3.28874e-10,-2.22543e-14,16223.9,1.66026], Tmin=(1337.64,'K'), Tmax=(5000,'K'))], Tmin=(100,'K'), Tmax=(5000,'K'), comment=\"\"\"Thermo library: primaryThermoLibrary + radical(CH3)\"\"\"), molecule=[Molecule(smiles=\"[CH3]\")], transport_data=TransportData(shapeIndex=2, epsilon=(1197.28,'J/mol'), sigma=(3.8,'angstrom'), dipoleMoment=(0,'De'), polarizability=(0,'angstrom^3'), rotrelaxcollnum=0.0, comment=\"\"\"NOx2018\"\"\"), molecular_weight=(15.0346,'amu'))], kinetics=Chebyshev(coeffs=[[13.22,-1.029,-0.3072,0.0124],[0.6133,0.9072,0.171,-0.07282],[0.02891,0.1927,0.1311,0.02488],[-0.07081,-0.01164,0.0303,0.03011],[-0.06291,-0.04131,-0.01129,0.009962],[-0.03744,-0.0259,-0.01549,-0.002653]], kunits='cm^3/(mol*s)', Tmin=(300,'K'), Tmax=(3000,'K'), Pmin=(0.001,'atm'), Pmax=(98.692,'atm')), pairs=[(Species(index=6, label=\"C[CH2]\", thermo=NASA(polynomials=[NASAPolynomial(coeffs=[3.82177,-0.00343283,5.09228e-05,-6.2017e-08,2.37054e-11,13066,7.61665], Tmin=(100,'K'), Tmax=(900.33,'K')), NASAPolynomial(coeffs=[5.15637,0.00943094,-1.81929e-06,2.21155e-10,-1.43447e-14,12064,-2.9119], Tmin=(900.33,'K'), Tmax=(5000,'K'))], Tmin=(100,'K'), Tmax=(5000,'K'), comment=\"\"\"Thermo group additivity estimation: group(Cs-CsHHH) + group(Cs-CsHHH) + radical(CCJ)\"\"\"), molecule=[Molecule(smiles=\"C[CH2]\")], transport_data=TransportData(shapeIndex=2, epsilon=(2097.74,'J/mol'), sigma=(4.302,'angstrom'), dipoleMoment=(0,'De'), polarizability=(0,'angstrom^3'), rotrelaxcollnum=1.5, comment=\"\"\"NOx2018\"\"\"), molecular_weight=(29.0611,'amu')), Species(index=5, label=\"[CH3]\", thermo=NASA(polynomials=[NASAPolynomial(coeffs=[3.91547,0.00184155,3.48738e-06,-3.32744e-09,8.49945e-13,16285.6,0.351746], Tmin=(100,'K'), Tmax=(1337.64,'K')), NASAPolynomial(coeffs=[3.54147,0.00476784,-1.82147e-06,3.28874e-10,-2.22543e-14,16223.9,1.66026], Tmin=(1337.64,'K'), Tmax=(5000,'K'))], Tmin=(100,'K'), Tmax=(5000,'K'), comment=\"\"\"Thermo library: primaryThermoLibrary + radical(CH3)\"\"\"), molecule=[Molecule(smiles=\"[CH3]\")], transport_data=TransportData(shapeIndex=2, epsilon=(1197.28,'J/mol'), sigma=(3.8,'angstrom'), dipoleMoment=(0,'De'), polarizability=(0,'angstrom^3'), rotrelaxcollnum=0.0, comment=\"\"\"NOx2018\"\"\"), molecular_weight=(15.0346,'amu'))), (Species(index=7, label=\"[H]\", thermo=NASA(polynomials=[NASAPolynomial(coeffs=[2.5,-2.06855e-14,2.66266e-17,-1.11497e-20,1.43542e-24,25474.2,-0.444973], Tmin=(100,'K'), Tmax=(4561.14,'K')), NASAPolynomial(coeffs=[2.50002,-1.64942e-08,5.30955e-12,-7.59275e-16,4.06972e-20,25474.2,-0.445095], Tmin=(4561.14,'K'), Tmax=(5000,'K'))], Tmin=(100,'K'), Tmax=(5000,'K'), comment=\"\"\"Thermo library: primaryThermoLibrary\"\"\"), molecule=[Molecule(smiles=\"[H]\")], transport_data=TransportData(shapeIndex=0, epsilon=(1205.6,'J/mol'), sigma=(2.05,'angstrom'), dipoleMoment=(0,'De'), polarizability=(0,'angstrom^3'), rotrelaxcollnum=0.0, comment=\"\"\"NOx2018\"\"\"), molecular_weight=(1.00797,'amu')), Species(index=5, label=\"[CH3]\", thermo=NASA(polynomials=[NASAPolynomial(coeffs=[3.91547,0.00184155,3.48738e-06,-3.32744e-09,8.49945e-13,16285.6,0.351746], Tmin=(100,'K'), Tmax=(1337.64,'K')), NASAPolynomial(coeffs=[3.54147,0.00476784,-1.82147e-06,3.28874e-10,-2.22543e-14,16223.9,1.66026], Tmin=(1337.64,'K'), Tmax=(5000,'K'))], Tmin=(100,'K'), Tmax=(5000,'K'), comment=\"\"\"Thermo library: primaryThermoLibrary + radical(CH3)\"\"\"), molecule=[Molecule(smiles=\"[CH3]\")], transport_data=TransportData(shapeIndex=2, epsilon=(1197.28,'J/mol'), sigma=(3.8,'angstrom'), dipoleMoment=(0,'De'), polarizability=(0,'angstrom^3'), rotrelaxcollnum=0.0, comment=\"\"\"NOx2018\"\"\"), molecular_weight=(15.0346,'amu')))],)"
      ]
     },
     "execution_count": 48,
     "metadata": {},
     "output_type": "execute_result"
    }
   ],
   "source": [
    "reaction_list2[5]"
   ]
  },
  {
   "cell_type": "code",
   "execution_count": 45,
   "id": "151308ce",
   "metadata": {},
   "outputs": [
    {
     "data": {
      "text/plain": [
       "Chebyshev(coeffs=[[8.169,-1.093,-0.1863,0.02213],[3.448,0.8559,0.02348,-0.05431],[0.1643,0.2276,0.09746,-0.009475],[0.0222,0.01019,0.04347,0.01639],[-0.008387,-0.02724,0.003918,0.01137],[-0.006102,-0.01791,-0.006703,0.002573]], kunits='cm^3/(mol*s)', Tmin=(300,'K'), Tmax=(2000,'K'), Pmin=(0.01,'atm'), Pmax=(98.692,'atm'))"
      ]
     },
     "execution_count": 45,
     "metadata": {},
     "output_type": "execute_result"
    }
   ],
   "source": [
    "reaction_list[800].kinetics"
   ]
  },
  {
   "cell_type": "code",
   "execution_count": 46,
   "id": "910b5166",
   "metadata": {},
   "outputs": [
    {
     "data": {
      "text/plain": [
       "Chebyshev(coeffs=[[13.22,-1.029,-0.3072,0.0124],[0.6133,0.9072,0.171,-0.07282],[0.02891,0.1927,0.1311,0.02488],[-0.07081,-0.01164,0.0303,0.03011],[-0.06291,-0.04131,-0.01129,0.009962],[-0.03744,-0.0259,-0.01549,-0.002653]], kunits='cm^3/(mol*s)', Tmin=(300,'K'), Tmax=(3000,'K'), Pmin=(0.001,'atm'), Pmax=(98.692,'atm'))"
      ]
     },
     "execution_count": 46,
     "metadata": {},
     "output_type": "execute_result"
    }
   ],
   "source": [
    "reaction_list2[5].kinetics"
   ]
  },
  {
   "cell_type": "code",
   "execution_count": 67,
   "id": "e85e3f17",
   "metadata": {},
   "outputs": [],
   "source": [
    "# Check if reactions defined in same direction\n",
    "def reactions_in_same_direction(reaction1, reaction2):\n",
    "    assert reaction1.is_isomorphic(reaction2), 'Reactions are not even isomorphic'\n",
    "    if len(reaction1.reactants) != len(reaction2.reactants):\n",
    "        return False\n",
    "    reactants_to_match = [r for r in reaction1.reactants]\n",
    "    counter = 0\n",
    "    while reactants_to_match:\n",
    "        for i in range(len(reaction2.reactants)):\n",
    "            if reaction2.reactants[i].is_isomorphic(reactants_to_match[0]):\n",
    "                reactants_to_match.remove(reactants_to_match[0])\n",
    "                break\n",
    "        else:\n",
    "            return False\n",
    "        \n",
    "        \n",
    "        if counter >= len(reaction1.reactants):\n",
    "            return False\n",
    "        counter += 1\n",
    "        \n",
    "    return True\n",
    "        \n",
    "\n",
    "def get_reverse_reaction(reaction):\n",
    "    assert reaction.kinetics is not None\n",
    "    rev_reaction = copy.deepcopy(reaction)\n",
    "    tmp_reactants = rev_reaction.reactants\n",
    "    rev_reaction.reactants = rev_reaction.products\n",
    "    rev_reaction.products = tmp_reactants\n",
    "    rev_reaction.kinetics = reaction.generate_reverse_rate_coefficient()\n",
    "    return rev_reaction"
   ]
  },
  {
   "cell_type": "code",
   "execution_count": 68,
   "id": "312a8c18",
   "metadata": {},
   "outputs": [
    {
     "name": "stdout",
     "output_type": "stream",
     "text": [
      "True\n"
     ]
    }
   ],
   "source": [
    "print(reactions_in_same_direction(reaction_list[0], reaction_list2[12]))"
   ]
  },
  {
   "cell_type": "code",
   "execution_count": 70,
   "id": "2b9cab5b",
   "metadata": {},
   "outputs": [
    {
     "data": {
      "image/png": "[encoded data removed]",
      "text/plain": [
       "LibraryReaction(index=1, reactants=[Species(index=2, label=\"O2\", thermo=NASA(polynomials=[NASAPolynomial(coeffs=[3.53764,-0.00122828,5.36761e-06,-4.93131e-09,1.45956e-12,-1037.99,4.6718], Tmin=(100,'K'), Tmax=(1087.7,'K')), NASAPolynomial(coeffs=[3.16427,0.00169454,-8.00339e-07,1.59031e-10,-1.14892e-14,-1048.44,6.08305], Tmin=(1087.7,'K'), Tmax=(5000,'K'))], Tmin=(100,'K'), Tmax=(5000,'K'), comment=\"\"\"Thermo library: BurkeH2O2\"\"\"), molecule=[Molecule(smiles=\"[O][O]\")], transport_data=TransportData(shapeIndex=1, epsilon=(887.154,'J/mol'), sigma=(3.467,'angstrom'), dipoleMoment=(0,'De'), polarizability=(0,'angstrom^3'), rotrelaxcollnum=0.0, comment=\"\"\"PrimaryTransportLibrary\"\"\"), molecular_weight=(31.9988,'amu')), Species(index=14, label=\"H\", thermo=NASA(polynomials=[NASAPolynomial(coeffs=[2.5,-2.06855e-14,2.66266e-17,-1.11497e-20,1.43542e-24,25472.7,-0.459566], Tmin=(100,'K'), Tmax=(4561.14,'K')), NASAPolynomial(coeffs=[2.50002,-1.64942e-08,5.30955e-12,-7.59275e-16,4.06972e-20,25472.7,-0.459688], Tmin=(4561.14,'K'), Tmax=(5000,'K'))], Tmin=(100,'K'), Tmax=(5000,'K'), comment=\"\"\"Thermo library: BurkeH2O2\"\"\"), molecule=[Molecule(smiles=\"[H]\")], transport_data=TransportData(shapeIndex=0, epsilon=(1205.6,'J/mol'), sigma=(2.05,'angstrom'), dipoleMoment=(0,'De'), polarizability=(0,'angstrom^3'), rotrelaxcollnum=0.0, comment=\"\"\"NOx2018\"\"\"), molecular_weight=(1.00797,'amu'))], products=[Species(index=5, label=\"O\", thermo=NASA(polynomials=[NASAPolynomial(coeffs=[2.5,-2.06855e-14,2.66266e-17,-1.11497e-20,1.43542e-24,29226.7,5.11107], Tmin=(100,'K'), Tmax=(4561.14,'K')), NASAPolynomial(coeffs=[2.50002,-1.64942e-08,5.30955e-12,-7.59275e-16,4.06972e-20,29226.7,5.11095], Tmin=(4561.14,'K'), Tmax=(5000,'K'))], Tmin=(100,'K'), Tmax=(5000,'K'), comment=\"\"\"Thermo library: BurkeH2O2\"\"\"), molecule=[Molecule(smiles=\"[O]\")], transport_data=TransportData(shapeIndex=0, epsilon=(665.158,'J/mol'), sigma=(2.75,'angstrom'), dipoleMoment=(0,'De'), polarizability=(0,'angstrom^3'), rotrelaxcollnum=0.0, comment=\"\"\"NOx2018\"\"\"), molecular_weight=(15.9994,'amu')), Species(index=15, label=\"OH\", thermo=NASA(polynomials=[NASAPolynomial(coeffs=[3.4858,0.00133396,-4.70042e-06,5.64378e-09,-2.06317e-12,3411.96,1.99788], Tmin=(100,'K'), Tmax=(1005.25,'K')), NASAPolynomial(coeffs=[2.88225,0.00103869,-2.35653e-07,1.40232e-11,6.3456e-16,3669.56,5.59054], Tmin=(1005.25,'K'), Tmax=(5000,'K'))], Tmin=(100,'K'), Tmax=(5000,'K'), comment=\"\"\"Thermo library: BurkeH2O2\"\"\"), molecule=[Molecule(smiles=\"[OH]\")], transport_data=TransportData(shapeIndex=1, epsilon=(665.158,'J/mol'), sigma=(2.75,'angstrom'), dipoleMoment=(0,'De'), polarizability=(0,'angstrom^3'), rotrelaxcollnum=0.0, comment=\"\"\"NOx2018\"\"\"), molecular_weight=(17.0074,'amu'))], kinetics=Arrhenius(A=(1.04e+14,'cm^3/(mol*s)'), n=0, Ea=(15.286,'kcal/mol'), T0=(1,'K')), pairs=[(Species(index=2, label=\"O2\", thermo=NASA(polynomials=[NASAPolynomial(coeffs=[3.53764,-0.00122828,5.36761e-06,-4.93131e-09,1.45956e-12,-1037.99,4.6718], Tmin=(100,'K'), Tmax=(1087.7,'K')), NASAPolynomial(coeffs=[3.16427,0.00169454,-8.00339e-07,1.59031e-10,-1.14892e-14,-1048.44,6.08305], Tmin=(1087.7,'K'), Tmax=(5000,'K'))], Tmin=(100,'K'), Tmax=(5000,'K'), comment=\"\"\"Thermo library: BurkeH2O2\"\"\"), molecule=[Molecule(smiles=\"[O][O]\")], transport_data=TransportData(shapeIndex=1, epsilon=(887.154,'J/mol'), sigma=(3.467,'angstrom'), dipoleMoment=(0,'De'), polarizability=(0,'angstrom^3'), rotrelaxcollnum=0.0, comment=\"\"\"PrimaryTransportLibrary\"\"\"), molecular_weight=(31.9988,'amu')), Species(index=15, label=\"OH\", thermo=NASA(polynomials=[NASAPolynomial(coeffs=[3.4858,0.00133396,-4.70042e-06,5.64378e-09,-2.06317e-12,3411.96,1.99788], Tmin=(100,'K'), Tmax=(1005.25,'K')), NASAPolynomial(coeffs=[2.88225,0.00103869,-2.35653e-07,1.40232e-11,6.3456e-16,3669.56,5.59054], Tmin=(1005.25,'K'), Tmax=(5000,'K'))], Tmin=(100,'K'), Tmax=(5000,'K'), comment=\"\"\"Thermo library: BurkeH2O2\"\"\"), molecule=[Molecule(smiles=\"[OH]\")], transport_data=TransportData(shapeIndex=1, epsilon=(665.158,'J/mol'), sigma=(2.75,'angstrom'), dipoleMoment=(0,'De'), polarizability=(0,'angstrom^3'), rotrelaxcollnum=0.0, comment=\"\"\"NOx2018\"\"\"), molecular_weight=(17.0074,'amu'))), (Species(index=14, label=\"H\", thermo=NASA(polynomials=[NASAPolynomial(coeffs=[2.5,-2.06855e-14,2.66266e-17,-1.11497e-20,1.43542e-24,25472.7,-0.459566], Tmin=(100,'K'), Tmax=(4561.14,'K')), NASAPolynomial(coeffs=[2.50002,-1.64942e-08,5.30955e-12,-7.59275e-16,4.06972e-20,25472.7,-0.459688], Tmin=(4561.14,'K'), Tmax=(5000,'K'))], Tmin=(100,'K'), Tmax=(5000,'K'), comment=\"\"\"Thermo library: BurkeH2O2\"\"\"), molecule=[Molecule(smiles=\"[H]\")], transport_data=TransportData(shapeIndex=0, epsilon=(1205.6,'J/mol'), sigma=(2.05,'angstrom'), dipoleMoment=(0,'De'), polarizability=(0,'angstrom^3'), rotrelaxcollnum=0.0, comment=\"\"\"NOx2018\"\"\"), molecular_weight=(1.00797,'amu')), Species(index=5, label=\"O\", thermo=NASA(polynomials=[NASAPolynomial(coeffs=[2.5,-2.06855e-14,2.66266e-17,-1.11497e-20,1.43542e-24,29226.7,5.11107], Tmin=(100,'K'), Tmax=(4561.14,'K')), NASAPolynomial(coeffs=[2.50002,-1.64942e-08,5.30955e-12,-7.59275e-16,4.06972e-20,29226.7,5.11095], Tmin=(4561.14,'K'), Tmax=(5000,'K'))], Tmin=(100,'K'), Tmax=(5000,'K'), comment=\"\"\"Thermo library: BurkeH2O2\"\"\"), molecule=[Molecule(smiles=\"[O]\")], transport_data=TransportData(shapeIndex=0, epsilon=(665.158,'J/mol'), sigma=(2.75,'angstrom'), dipoleMoment=(0,'De'), polarizability=(0,'angstrom^3'), rotrelaxcollnum=0.0, comment=\"\"\"NOx2018\"\"\"), molecular_weight=(15.9994,'amu')))])"
      ]
     },
     "execution_count": 70,
     "metadata": {},
     "output_type": "execute_result"
    }
   ],
   "source": [
    "reaction_list[0]"
   ]
  },
  {
   "cell_type": "code",
   "execution_count": 69,
   "id": "42159916",
   "metadata": {},
   "outputs": [
    {
     "data": {
      "image/png": "[encoded data removed]",
      "text/plain": [
       "LibraryReaction(index=1, reactants=[Species(index=5, label=\"O\", thermo=NASA(polynomials=[NASAPolynomial(coeffs=[2.5,-2.06855e-14,2.66266e-17,-1.11497e-20,1.43542e-24,29226.7,5.11107], Tmin=(100,'K'), Tmax=(4561.14,'K')), NASAPolynomial(coeffs=[2.50002,-1.64942e-08,5.30955e-12,-7.59275e-16,4.06972e-20,29226.7,5.11095], Tmin=(4561.14,'K'), Tmax=(5000,'K'))], Tmin=(100,'K'), Tmax=(5000,'K'), comment=\"\"\"Thermo library: BurkeH2O2\"\"\"), molecule=[Molecule(smiles=\"[O]\")], transport_data=TransportData(shapeIndex=0, epsilon=(665.158,'J/mol'), sigma=(2.75,'angstrom'), dipoleMoment=(0,'De'), polarizability=(0,'angstrom^3'), rotrelaxcollnum=0.0, comment=\"\"\"NOx2018\"\"\"), molecular_weight=(15.9994,'amu')), Species(index=15, label=\"OH\", thermo=NASA(polynomials=[NASAPolynomial(coeffs=[3.4858,0.00133396,-4.70042e-06,5.64378e-09,-2.06317e-12,3411.96,1.99788], Tmin=(100,'K'), Tmax=(1005.25,'K')), NASAPolynomial(coeffs=[2.88225,0.00103869,-2.35653e-07,1.40232e-11,6.3456e-16,3669.56,5.59054], Tmin=(1005.25,'K'), Tmax=(5000,'K'))], Tmin=(100,'K'), Tmax=(5000,'K'), comment=\"\"\"Thermo library: BurkeH2O2\"\"\"), molecule=[Molecule(smiles=\"[OH]\")], transport_data=TransportData(shapeIndex=1, epsilon=(665.158,'J/mol'), sigma=(2.75,'angstrom'), dipoleMoment=(0,'De'), polarizability=(0,'angstrom^3'), rotrelaxcollnum=0.0, comment=\"\"\"NOx2018\"\"\"), molecular_weight=(17.0074,'amu'))], products=[Species(index=2, label=\"O2\", thermo=NASA(polynomials=[NASAPolynomial(coeffs=[3.53764,-0.00122828,5.36761e-06,-4.93131e-09,1.45956e-12,-1037.99,4.6718], Tmin=(100,'K'), Tmax=(1087.7,'K')), NASAPolynomial(coeffs=[3.16427,0.00169454,-8.00339e-07,1.59031e-10,-1.14892e-14,-1048.44,6.08305], Tmin=(1087.7,'K'), Tmax=(5000,'K'))], Tmin=(100,'K'), Tmax=(5000,'K'), comment=\"\"\"Thermo library: BurkeH2O2\"\"\"), molecule=[Molecule(smiles=\"[O][O]\")], transport_data=TransportData(shapeIndex=1, epsilon=(887.154,'J/mol'), sigma=(3.467,'angstrom'), dipoleMoment=(0,'De'), polarizability=(0,'angstrom^3'), rotrelaxcollnum=0.0, comment=\"\"\"PrimaryTransportLibrary\"\"\"), molecular_weight=(31.9988,'amu')), Species(index=14, label=\"H\", thermo=NASA(polynomials=[NASAPolynomial(coeffs=[2.5,-2.06855e-14,2.66266e-17,-1.11497e-20,1.43542e-24,25472.7,-0.459566], Tmin=(100,'K'), Tmax=(4561.14,'K')), NASAPolynomial(coeffs=[2.50002,-1.64942e-08,5.30955e-12,-7.59275e-16,4.06972e-20,25472.7,-0.459688], Tmin=(4561.14,'K'), Tmax=(5000,'K'))], Tmin=(100,'K'), Tmax=(5000,'K'), comment=\"\"\"Thermo library: BurkeH2O2\"\"\"), molecule=[Molecule(smiles=\"[H]\")], transport_data=TransportData(shapeIndex=0, epsilon=(1205.6,'J/mol'), sigma=(2.05,'angstrom'), dipoleMoment=(0,'De'), polarizability=(0,'angstrom^3'), rotrelaxcollnum=0.0, comment=\"\"\"NOx2018\"\"\"), molecular_weight=(1.00797,'amu'))], kinetics=Arrhenius(A=(395953,'m^3/(mol*s)'), n=0.361504, Ea=(-5.79458,'kJ/mol'), T0=(1,'K'), Tmin=(303.03,'K'), Tmax=(2000,'K'), comment=\"\"\"Fitted to 29 data points; dA = *|/ 1.09641, dn = +|- 0.0121852, dEa = +|- 0.0637018 kJ/mol\"\"\"), pairs=[(Species(index=2, label=\"O2\", thermo=NASA(polynomials=[NASAPolynomial(coeffs=[3.53764,-0.00122828,5.36761e-06,-4.93131e-09,1.45956e-12,-1037.99,4.6718], Tmin=(100,'K'), Tmax=(1087.7,'K')), NASAPolynomial(coeffs=[3.16427,0.00169454,-8.00339e-07,1.59031e-10,-1.14892e-14,-1048.44,6.08305], Tmin=(1087.7,'K'), Tmax=(5000,'K'))], Tmin=(100,'K'), Tmax=(5000,'K'), comment=\"\"\"Thermo library: BurkeH2O2\"\"\"), molecule=[Molecule(smiles=\"[O][O]\")], transport_data=TransportData(shapeIndex=1, epsilon=(887.154,'J/mol'), sigma=(3.467,'angstrom'), dipoleMoment=(0,'De'), polarizability=(0,'angstrom^3'), rotrelaxcollnum=0.0, comment=\"\"\"PrimaryTransportLibrary\"\"\"), molecular_weight=(31.9988,'amu')), Species(index=15, label=\"OH\", thermo=NASA(polynomials=[NASAPolynomial(coeffs=[3.4858,0.00133396,-4.70042e-06,5.64378e-09,-2.06317e-12,3411.96,1.99788], Tmin=(100,'K'), Tmax=(1005.25,'K')), NASAPolynomial(coeffs=[2.88225,0.00103869,-2.35653e-07,1.40232e-11,6.3456e-16,3669.56,5.59054], Tmin=(1005.25,'K'), Tmax=(5000,'K'))], Tmin=(100,'K'), Tmax=(5000,'K'), comment=\"\"\"Thermo library: BurkeH2O2\"\"\"), molecule=[Molecule(smiles=\"[OH]\")], transport_data=TransportData(shapeIndex=1, epsilon=(665.158,'J/mol'), sigma=(2.75,'angstrom'), dipoleMoment=(0,'De'), polarizability=(0,'angstrom^3'), rotrelaxcollnum=0.0, comment=\"\"\"NOx2018\"\"\"), molecular_weight=(17.0074,'amu'))), (Species(index=14, label=\"H\", thermo=NASA(polynomials=[NASAPolynomial(coeffs=[2.5,-2.06855e-14,2.66266e-17,-1.11497e-20,1.43542e-24,25472.7,-0.459566], Tmin=(100,'K'), Tmax=(4561.14,'K')), NASAPolynomial(coeffs=[2.50002,-1.64942e-08,5.30955e-12,-7.59275e-16,4.06972e-20,25472.7,-0.459688], Tmin=(4561.14,'K'), Tmax=(5000,'K'))], Tmin=(100,'K'), Tmax=(5000,'K'), comment=\"\"\"Thermo library: BurkeH2O2\"\"\"), molecule=[Molecule(smiles=\"[H]\")], transport_data=TransportData(shapeIndex=0, epsilon=(1205.6,'J/mol'), sigma=(2.05,'angstrom'), dipoleMoment=(0,'De'), polarizability=(0,'angstrom^3'), rotrelaxcollnum=0.0, comment=\"\"\"NOx2018\"\"\"), molecular_weight=(1.00797,'amu')), Species(index=5, label=\"O\", thermo=NASA(polynomials=[NASAPolynomial(coeffs=[2.5,-2.06855e-14,2.66266e-17,-1.11497e-20,1.43542e-24,29226.7,5.11107], Tmin=(100,'K'), Tmax=(4561.14,'K')), NASAPolynomial(coeffs=[2.50002,-1.64942e-08,5.30955e-12,-7.59275e-16,4.06972e-20,29226.7,5.11095], Tmin=(4561.14,'K'), Tmax=(5000,'K'))], Tmin=(100,'K'), Tmax=(5000,'K'), comment=\"\"\"Thermo library: BurkeH2O2\"\"\"), molecule=[Molecule(smiles=\"[O]\")], transport_data=TransportData(shapeIndex=0, epsilon=(665.158,'J/mol'), sigma=(2.75,'angstrom'), dipoleMoment=(0,'De'), polarizability=(0,'angstrom^3'), rotrelaxcollnum=0.0, comment=\"\"\"NOx2018\"\"\"), molecular_weight=(15.9994,'amu')))])"
      ]
     },
     "execution_count": 69,
     "metadata": {},
     "output_type": "execute_result"
    }
   ],
   "source": [
    "get_reverse_reaction(reaction_list[0])"
   ]
  },
  {
   "cell_type": "code",
   "execution_count": 72,
   "id": "d66b412f",
   "metadata": {},
   "outputs": [
    {
     "data": {
      "text/plain": [
       "63956.623999999996"
      ]
     },
     "execution_count": 72,
     "metadata": {},
     "output_type": "execute_result"
    }
   ],
   "source": [
    "reaction_list[0].kinetics.Ea.value_si"
   ]
  },
  {
   "cell_type": "code",
   "execution_count": 73,
   "id": "c987d70d",
   "metadata": {},
   "outputs": [
    {
     "data": {
      "text/plain": [
       "-5794.576811338679"
      ]
     },
     "execution_count": 73,
     "metadata": {},
     "output_type": "execute_result"
    }
   ],
   "source": [
    "get_reverse_reaction(reaction_list[0]).kinetics.Ea.value_si"
   ]
  },
  {
   "cell_type": "code",
   "execution_count": null,
   "id": "a8acc0e1",
   "metadata": {},
   "outputs": [],
   "source": []
  },
  {
   "cell_type": "code",
   "execution_count": null,
   "id": "f4bdc277",
   "metadata": {},
   "outputs": [],
   "source": []
  },
  {
   "cell_type": "code",
   "execution_count": 61,
   "id": "a447a4f9",
   "metadata": {},
   "outputs": [
    {
     "data": {
      "text/plain": [
       "Chebyshev(coeffs=[[6.745,-0.0003151,-0.000236,-0.0001448],[6.509,0.0001462,0.0001095,6.717e-05],[0.1592,7.486e-05,5.606e-05,3.439e-05],[0.05994,4.574e-05,3.425e-05,2.101e-05],[0.02717,-3.258e-06,-2.438e-06,-1.495e-06],[0.008564,-1.986e-05,-1.487e-05,-9.119e-06]], kunits='cm^3/(mol*s)', Tmin=(300,'K'), Tmax=(3000,'K'), Pmin=(0.001,'atm'), Pmax=(98.692,'atm'))"
      ]
     },
     "execution_count": 61,
     "metadata": {},
     "output_type": "execute_result"
    }
   ],
   "source": [
    "reaction_list2[12].kinetics"
   ]
  },
  {
   "cell_type": "code",
   "execution_count": null,
   "id": "afdc750d",
   "metadata": {},
   "outputs": [],
   "source": []
  },
  {
   "cell_type": "code",
   "execution_count": 78,
   "id": "6c892ef5",
   "metadata": {},
   "outputs": [
    {
     "data": {
      "image/png": "[encoded data removed]",
      "text/plain": [
       "LibraryReaction(index=4, reactants=[Species(index=15, label=\"OH\", thermo=NASA(polynomials=[NASAPolynomial(coeffs=[3.4858,0.00133396,-4.70042e-06,5.64378e-09,-2.06317e-12,3411.96,1.99788], Tmin=(100,'K'), Tmax=(1005.25,'K')), NASAPolynomial(coeffs=[2.88225,0.00103869,-2.35653e-07,1.40232e-11,6.3456e-16,3669.56,5.59054], Tmin=(1005.25,'K'), Tmax=(5000,'K'))], Tmin=(100,'K'), Tmax=(5000,'K'), comment=\"\"\"Thermo library: BurkeH2O2\"\"\"), molecule=[Molecule(smiles=\"[OH]\")], transport_data=TransportData(shapeIndex=1, epsilon=(665.158,'J/mol'), sigma=(2.75,'angstrom'), dipoleMoment=(0,'De'), polarizability=(0,'angstrom^3'), rotrelaxcollnum=0.0, comment=\"\"\"NOx2018\"\"\"), molecular_weight=(17.0074,'amu')), Species(index=13, label=\"H2\", thermo=NASA(polynomials=[NASAPolynomial(coeffs=[3.42254,0.00028665,-4.1467e-07,4.27548e-10,-9.38118e-14,-1029.78,-3.86365], Tmin=(100,'K'), Tmax=(1962.85,'K')), NASAPolynomial(coeffs=[2.74219,0.00057954,1.97202e-07,-6.41094e-11,4.96002e-15,-552.037,0.414102], Tmin=(1962.85,'K'), Tmax=(5000,'K'))], Tmin=(100,'K'), Tmax=(5000,'K'), comment=\"\"\"Thermo library: BurkeH2O2\"\"\"), molecule=[Molecule(smiles=\"[H][H]\")], transport_data=TransportData(shapeIndex=1, epsilon=(496.374,'J/mol'), sigma=(2.833,'angstrom'), dipoleMoment=(0,'De'), polarizability=(0,'angstrom^3'), rotrelaxcollnum=0.0, comment=\"\"\"PrimaryTransportLibrary\"\"\"), molecular_weight=(2.01594,'amu'))], products=[Species(index=14, label=\"H\", thermo=NASA(polynomials=[NASAPolynomial(coeffs=[2.5,-2.06855e-14,2.66266e-17,-1.11497e-20,1.43542e-24,25472.7,-0.459566], Tmin=(100,'K'), Tmax=(4561.14,'K')), NASAPolynomial(coeffs=[2.50002,-1.64942e-08,5.30955e-12,-7.59275e-16,4.06972e-20,25472.7,-0.459688], Tmin=(4561.14,'K'), Tmax=(5000,'K'))], Tmin=(100,'K'), Tmax=(5000,'K'), comment=\"\"\"Thermo library: BurkeH2O2\"\"\"), molecule=[Molecule(smiles=\"[H]\")], transport_data=TransportData(shapeIndex=0, epsilon=(1205.6,'J/mol'), sigma=(2.05,'angstrom'), dipoleMoment=(0,'De'), polarizability=(0,'angstrom^3'), rotrelaxcollnum=0.0, comment=\"\"\"NOx2018\"\"\"), molecular_weight=(1.00797,'amu')), Species(index=8, label=\"H2O\", thermo=NASA(polynomials=[NASAPolynomial(coeffs=[3.99882,-0.000554825,2.76773e-06,-1.55664e-09,3.02327e-13,-30274.6,-0.0308918], Tmin=(100,'K'), Tmax=(1281.46,'K')), NASAPolynomial(coeffs=[3.1956,0.00195241,-1.67124e-07,-2.97926e-11,4.45129e-15,-30068.7,4.04337], Tmin=(1281.46,'K'), Tmax=(5000,'K'))], Tmin=(100,'K'), Tmax=(5000,'K'), comment=\"\"\"Thermo library: BurkeH2O2\"\"\"), molecule=[Molecule(smiles=\"O\")], transport_data=TransportData(shapeIndex=2, epsilon=(6727.26,'J/mol'), sigma=(2.641,'angstrom'), dipoleMoment=(0,'De'), polarizability=(1.76,'angstrom^3'), rotrelaxcollnum=4.0, comment=\"\"\"PrimaryTransportLibrary\"\"\"), molecular_weight=(18.0153,'amu'))], kinetics=Arrhenius(A=(2.16e+08,'cm^3/(mol*s)'), n=1.51, Ea=(3.43,'kcal/mol'), T0=(1,'K')), pairs=[(Species(index=15, label=\"OH\", thermo=NASA(polynomials=[NASAPolynomial(coeffs=[3.4858,0.00133396,-4.70042e-06,5.64378e-09,-2.06317e-12,3411.96,1.99788], Tmin=(100,'K'), Tmax=(1005.25,'K')), NASAPolynomial(coeffs=[2.88225,0.00103869,-2.35653e-07,1.40232e-11,6.3456e-16,3669.56,5.59054], Tmin=(1005.25,'K'), Tmax=(5000,'K'))], Tmin=(100,'K'), Tmax=(5000,'K'), comment=\"\"\"Thermo library: BurkeH2O2\"\"\"), molecule=[Molecule(smiles=\"[OH]\")], transport_data=TransportData(shapeIndex=1, epsilon=(665.158,'J/mol'), sigma=(2.75,'angstrom'), dipoleMoment=(0,'De'), polarizability=(0,'angstrom^3'), rotrelaxcollnum=0.0, comment=\"\"\"NOx2018\"\"\"), molecular_weight=(17.0074,'amu')), Species(index=8, label=\"H2O\", thermo=NASA(polynomials=[NASAPolynomial(coeffs=[3.99882,-0.000554825,2.76773e-06,-1.55664e-09,3.02327e-13,-30274.6,-0.0308918], Tmin=(100,'K'), Tmax=(1281.46,'K')), NASAPolynomial(coeffs=[3.1956,0.00195241,-1.67124e-07,-2.97926e-11,4.45129e-15,-30068.7,4.04337], Tmin=(1281.46,'K'), Tmax=(5000,'K'))], Tmin=(100,'K'), Tmax=(5000,'K'), comment=\"\"\"Thermo library: BurkeH2O2\"\"\"), molecule=[Molecule(smiles=\"O\")], transport_data=TransportData(shapeIndex=2, epsilon=(6727.26,'J/mol'), sigma=(2.641,'angstrom'), dipoleMoment=(0,'De'), polarizability=(1.76,'angstrom^3'), rotrelaxcollnum=4.0, comment=\"\"\"PrimaryTransportLibrary\"\"\"), molecular_weight=(18.0153,'amu'))), (Species(index=13, label=\"H2\", thermo=NASA(polynomials=[NASAPolynomial(coeffs=[3.42254,0.00028665,-4.1467e-07,4.27548e-10,-9.38118e-14,-1029.78,-3.86365], Tmin=(100,'K'), Tmax=(1962.85,'K')), NASAPolynomial(coeffs=[2.74219,0.00057954,1.97202e-07,-6.41094e-11,4.96002e-15,-552.037,0.414102], Tmin=(1962.85,'K'), Tmax=(5000,'K'))], Tmin=(100,'K'), Tmax=(5000,'K'), comment=\"\"\"Thermo library: BurkeH2O2\"\"\"), molecule=[Molecule(smiles=\"[H][H]\")], transport_data=TransportData(shapeIndex=1, epsilon=(496.374,'J/mol'), sigma=(2.833,'angstrom'), dipoleMoment=(0,'De'), polarizability=(0,'angstrom^3'), rotrelaxcollnum=0.0, comment=\"\"\"PrimaryTransportLibrary\"\"\"), molecular_weight=(2.01594,'amu')), Species(index=14, label=\"H\", thermo=NASA(polynomials=[NASAPolynomial(coeffs=[2.5,-2.06855e-14,2.66266e-17,-1.11497e-20,1.43542e-24,25472.7,-0.459566], Tmin=(100,'K'), Tmax=(4561.14,'K')), NASAPolynomial(coeffs=[2.50002,-1.64942e-08,5.30955e-12,-7.59275e-16,4.06972e-20,25472.7,-0.459688], Tmin=(4561.14,'K'), Tmax=(5000,'K'))], Tmin=(100,'K'), Tmax=(5000,'K'), comment=\"\"\"Thermo library: BurkeH2O2\"\"\"), molecule=[Molecule(smiles=\"[H]\")], transport_data=TransportData(shapeIndex=0, epsilon=(1205.6,'J/mol'), sigma=(2.05,'angstrom'), dipoleMoment=(0,'De'), polarizability=(0,'angstrom^3'), rotrelaxcollnum=0.0, comment=\"\"\"NOx2018\"\"\"), molecular_weight=(1.00797,'amu')))])"
      ]
     },
     "execution_count": 78,
     "metadata": {},
     "output_type": "execute_result"
    }
   ],
   "source": [
    "reaction_list[2]"
   ]
  },
  {
   "cell_type": "code",
   "execution_count": 79,
   "id": "028c7bf9",
   "metadata": {},
   "outputs": [
    {
     "data": {
      "image/png": "[encoded data removed]",
      "text/plain": [
       "TemplateReaction(index=22, reactants=[Species(index=14, label=\"[OH]\", thermo=NASA(polynomials=[NASAPolynomial(coeffs=[3.51457,2.92692e-05,-5.32137e-07,1.01946e-09,-3.85933e-13,3414.25,2.10435], Tmin=(100,'K'), Tmax=(1145.76,'K')), NASAPolynomial(coeffs=[3.07193,0.000604024,-1.3983e-08,-2.13435e-11,2.48057e-15,3579.39,4.57803], Tmin=(1145.76,'K'), Tmax=(5000,'K'))], Tmin=(100,'K'), Tmax=(5000,'K'), comment=\"\"\"Thermo library: primaryThermoLibrary\"\"\"), molecule=[Molecule(smiles=\"[OH]\")], transport_data=TransportData(shapeIndex=1, epsilon=(665.158,'J/mol'), sigma=(2.75,'angstrom'), dipoleMoment=(0,'De'), polarizability=(0,'angstrom^3'), rotrelaxcollnum=0.0, comment=\"\"\"NOx2018\"\"\"), molecular_weight=(17.0074,'amu')), Species(index=22, label=\"[H][H]\", thermo=NASA(polynomials=[NASAPolynomial(coeffs=[3.43536,0.000212711,-2.78626e-07,3.40268e-10,-7.76035e-14,-1031.36,-3.90842], Tmin=(100,'K'), Tmax=(1959.07,'K')), NASAPolynomial(coeffs=[2.78817,0.000587631,1.59015e-07,-5.52748e-11,4.34317e-15,-596.149,0.112689], Tmin=(1959.07,'K'), Tmax=(5000,'K'))], Tmin=(100,'K'), Tmax=(5000,'K'), comment=\"\"\"Thermo library: primaryThermoLibrary\"\"\"), molecule=[Molecule(smiles=\"[H][H]\")], transport_data=TransportData(shapeIndex=1, epsilon=(315.95,'J/mol'), sigma=(2.92,'angstrom'), dipoleMoment=(0,'De'), polarizability=(0.79,'angstrom^3'), rotrelaxcollnum=280.0, comment=\"\"\"NOx2018\"\"\"), molecular_weight=(2.01594,'amu'))], products=[Species(index=7, label=\"[H]\", thermo=NASA(polynomials=[NASAPolynomial(coeffs=[2.5,-2.06855e-14,2.66266e-17,-1.11497e-20,1.43542e-24,25474.2,-0.444973], Tmin=(100,'K'), Tmax=(4561.14,'K')), NASAPolynomial(coeffs=[2.50002,-1.64942e-08,5.30955e-12,-7.59275e-16,4.06972e-20,25474.2,-0.445095], Tmin=(4561.14,'K'), Tmax=(5000,'K'))], Tmin=(100,'K'), Tmax=(5000,'K'), comment=\"\"\"Thermo library: primaryThermoLibrary\"\"\"), molecule=[Molecule(smiles=\"[H]\")], transport_data=TransportData(shapeIndex=0, epsilon=(1205.6,'J/mol'), sigma=(2.05,'angstrom'), dipoleMoment=(0,'De'), polarizability=(0,'angstrom^3'), rotrelaxcollnum=0.0, comment=\"\"\"NOx2018\"\"\"), molecular_weight=(1.00797,'amu')), Species(index=41, label=\"O\", thermo=NASA(polynomials=[NASAPolynomial(coeffs=[4.05764,-0.000787928,2.90875e-06,-1.47516e-09,2.12832e-13,-30281.6,-0.311362], Tmin=(100,'K'), Tmax=(1130.23,'K')), NASAPolynomial(coeffs=[2.84326,0.00275108,-7.81027e-07,1.07243e-10,-5.79384e-15,-29958.6,5.91039], Tmin=(1130.23,'K'), Tmax=(5000,'K'))], Tmin=(100,'K'), Tmax=(5000,'K'), comment=\"\"\"Thermo library: primaryThermoLibrary\"\"\"), molecule=[Molecule(smiles=\"O\")], transport_data=TransportData(shapeIndex=2, epsilon=(4759.2,'J/mol'), sigma=(2.605,'angstrom'), dipoleMoment=(1.844,'De'), polarizability=(0,'angstrom^3'), rotrelaxcollnum=4.0, comment=\"\"\"NOx2018\"\"\"), molecular_weight=(18.0153,'amu'))], kinetics=Arrhenius(A=(1.82e+09,'cm^3/(mol*s)'), n=1.21, Ea=(20.07,'kcal/mol'), T0=(1,'K'), comment=\"\"\"Matched reaction 311 H2 + OH <=> H2O_p + H_p in H_Abstraction/training\n",
       "This reaction matched rate rule [H2;O_pri_rad]\n",
       "family: H_Abstraction\"\"\"), pairs=[(Species(index=14, label=\"[OH]\", thermo=NASA(polynomials=[NASAPolynomial(coeffs=[3.51457,2.92692e-05,-5.32137e-07,1.01946e-09,-3.85933e-13,3414.25,2.10435], Tmin=(100,'K'), Tmax=(1145.76,'K')), NASAPolynomial(coeffs=[3.07193,0.000604024,-1.3983e-08,-2.13435e-11,2.48057e-15,3579.39,4.57803], Tmin=(1145.76,'K'), Tmax=(5000,'K'))], Tmin=(100,'K'), Tmax=(5000,'K'), comment=\"\"\"Thermo library: primaryThermoLibrary\"\"\"), molecule=[Molecule(smiles=\"[OH]\")], transport_data=TransportData(shapeIndex=1, epsilon=(665.158,'J/mol'), sigma=(2.75,'angstrom'), dipoleMoment=(0,'De'), polarizability=(0,'angstrom^3'), rotrelaxcollnum=0.0, comment=\"\"\"NOx2018\"\"\"), molecular_weight=(17.0074,'amu')), Species(index=41, label=\"O\", thermo=NASA(polynomials=[NASAPolynomial(coeffs=[4.05764,-0.000787928,2.90875e-06,-1.47516e-09,2.12832e-13,-30281.6,-0.311362], Tmin=(100,'K'), Tmax=(1130.23,'K')), NASAPolynomial(coeffs=[2.84326,0.00275108,-7.81027e-07,1.07243e-10,-5.79384e-15,-29958.6,5.91039], Tmin=(1130.23,'K'), Tmax=(5000,'K'))], Tmin=(100,'K'), Tmax=(5000,'K'), comment=\"\"\"Thermo library: primaryThermoLibrary\"\"\"), molecule=[Molecule(smiles=\"O\")], transport_data=TransportData(shapeIndex=2, epsilon=(4759.2,'J/mol'), sigma=(2.605,'angstrom'), dipoleMoment=(1.844,'De'), polarizability=(0,'angstrom^3'), rotrelaxcollnum=4.0, comment=\"\"\"NOx2018\"\"\"), molecular_weight=(18.0153,'amu'))), (Species(index=22, label=\"[H][H]\", thermo=NASA(polynomials=[NASAPolynomial(coeffs=[3.43536,0.000212711,-2.78626e-07,3.40268e-10,-7.76035e-14,-1031.36,-3.90842], Tmin=(100,'K'), Tmax=(1959.07,'K')), NASAPolynomial(coeffs=[2.78817,0.000587631,1.59015e-07,-5.52748e-11,4.34317e-15,-596.149,0.112689], Tmin=(1959.07,'K'), Tmax=(5000,'K'))], Tmin=(100,'K'), Tmax=(5000,'K'), comment=\"\"\"Thermo library: primaryThermoLibrary\"\"\"), molecule=[Molecule(smiles=\"[H][H]\")], transport_data=TransportData(shapeIndex=1, epsilon=(315.95,'J/mol'), sigma=(2.92,'angstrom'), dipoleMoment=(0,'De'), polarizability=(0.79,'angstrom^3'), rotrelaxcollnum=280.0, comment=\"\"\"NOx2018\"\"\"), molecular_weight=(2.01594,'amu')), Species(index=7, label=\"[H]\", thermo=NASA(polynomials=[NASAPolynomial(coeffs=[2.5,-2.06855e-14,2.66266e-17,-1.11497e-20,1.43542e-24,25474.2,-0.444973], Tmin=(100,'K'), Tmax=(4561.14,'K')), NASAPolynomial(coeffs=[2.50002,-1.64942e-08,5.30955e-12,-7.59275e-16,4.06972e-20,25474.2,-0.445095], Tmin=(4561.14,'K'), Tmax=(5000,'K'))], Tmin=(100,'K'), Tmax=(5000,'K'), comment=\"\"\"Thermo library: primaryThermoLibrary\"\"\"), molecule=[Molecule(smiles=\"[H]\")], transport_data=TransportData(shapeIndex=0, epsilon=(1205.6,'J/mol'), sigma=(2.05,'angstrom'), dipoleMoment=(0,'De'), polarizability=(0,'angstrom^3'), rotrelaxcollnum=0.0, comment=\"\"\"NOx2018\"\"\"), molecular_weight=(1.00797,'amu')))], family='H_Abstraction', template=['H2', 'O_pri_rad'])"
      ]
     },
     "execution_count": 79,
     "metadata": {},
     "output_type": "execute_result"
    }
   ],
   "source": [
    "reaction_list2[21]"
   ]
  },
  {
   "cell_type": "code",
   "execution_count": 75,
   "id": "a329fccb",
   "metadata": {},
   "outputs": [
    {
     "data": {
      "text/plain": [
       "Arrhenius(A=(2.16e+08,'cm^3/(mol*s)'), n=1.51, Ea=(3.43,'kcal/mol'), T0=(1,'K'))"
      ]
     },
     "execution_count": 75,
     "metadata": {},
     "output_type": "execute_result"
    }
   ],
   "source": [
    "reaction_list[2].kinetics"
   ]
  },
  {
   "cell_type": "code",
   "execution_count": 76,
   "id": "28eb29b3",
   "metadata": {},
   "outputs": [
    {
     "data": {
      "text/plain": [
       "Arrhenius(A=(1.82e+09,'cm^3/(mol*s)'), n=1.21, Ea=(20.07,'kcal/mol'), T0=(1,'K'), comment=\"\"\"Matched reaction 311 H2 + OH <=> H2O_p + H_p in H_Abstraction/training\n",
       "This reaction matched rate rule [H2;O_pri_rad]\n",
       "family: H_Abstraction\"\"\")"
      ]
     },
     "execution_count": 76,
     "metadata": {},
     "output_type": "execute_result"
    }
   ],
   "source": [
    "reaction_list2[21].kinetics"
   ]
  },
  {
   "cell_type": "code",
   "execution_count": 80,
   "id": "d347d78a",
   "metadata": {},
   "outputs": [
    {
     "data": {
      "text/plain": [
       "False"
      ]
     },
     "execution_count": 80,
     "metadata": {},
     "output_type": "execute_result"
    }
   ],
   "source": [
    "reaction_list[2].kinetics.is_similar_to(reaction_list2[21].kinetics)"
   ]
  },
  {
   "cell_type": "code",
   "execution_count": 81,
   "id": "ee9a9e0d",
   "metadata": {},
   "outputs": [],
   "source": [
    "\n",
    "def plot_kinetics(rxns, labels=None):\n",
    "    \"\"\"Function for plotting reaction kinetics\n",
    "    Takes in a list of RMG reactions (rmgpy.reaction.Reaction) or a single reaction\n",
    "    \"\"\"\n",
    "    plt.xlabel('1000 / T (K^-1)')\n",
    "    plt.ylabel('log10(k)')\n",
    "\n",
    "    if type(rxns) != list:\n",
    "        rxns = [rxns]\n",
    "\n",
    "    T = np.linspace(300, 3000, 1001)\n",
    "    for rxn in rxns:\n",
    "        k = np.zeros(len(T))\n",
    "        for i in range(0, len(T)):\n",
    "            k[i] = rxn.get_rate_coefficient(T[i], 101325)\n",
    "        plt.plot(1000.0 / T, np.log10(k))\n",
    "\n",
    "    if labels:\n",
    "        plt.legend(labels)\n",
    "    plt.show()\n"
   ]
  },
  {
   "cell_type": "code",
   "execution_count": 85,
   "id": "d2a77446",
   "metadata": {},
   "outputs": [
    {
     "data": {
      "image/png": "[encoded data removed]",
      "text/plain": [
       "<Figure size 640x480 with 1 Axes>"
      ]
     },
     "metadata": {},
     "output_type": "display_data"
    }
   ],
   "source": [
    "plot_kinetics([reaction_list[2], reaction_list2[21]], ['Mech 1', 'Mech 2'])"
   ]
  },
  {
   "cell_type": "code",
   "execution_count": 86,
   "id": "b7667830",
   "metadata": {},
   "outputs": [],
   "source": [
    "rev1 = get_reverse_reaction(reaction_list[2])\n",
    "rev2 = get_reverse_reaction(reaction_list2[21])"
   ]
  },
  {
   "cell_type": "code",
   "execution_count": 87,
   "id": "d1c71951",
   "metadata": {},
   "outputs": [
    {
     "data": {
      "image/png": "[encoded data removed]",
      "text/plain": [
       "<Figure size 640x480 with 1 Axes>"
      ]
     },
     "metadata": {},
     "output_type": "display_data"
    }
   ],
   "source": [
    "plot_kinetics([rev1, rev2], ['Mech 1', 'Mech 2'])"
   ]
  },
  {
   "cell_type": "code",
   "execution_count": null,
   "id": "4652248e",
   "metadata": {},
   "outputs": [],
   "source": []
  },
  {
   "cell_type": "code",
   "execution_count": null,
   "id": "fe0e3ba1",
   "metadata": {},
   "outputs": [],
   "source": []
  },
  {
   "cell_type": "code",
   "execution_count": 77,
   "id": "d45fdc84",
   "metadata": {},
   "outputs": [
    {
     "data": {
      "text/plain": [
       "True"
      ]
     },
     "execution_count": 77,
     "metadata": {},
     "output_type": "execute_result"
    }
   ],
   "source": [
    "reactions_in_same_direction(reaction_list[2], reaction_list2[21])"
   ]
  },
  {
   "cell_type": "code",
   "execution_count": null,
   "id": "cdcc4e7d",
   "metadata": {},
   "outputs": [],
   "source": []
  },
  {
   "cell_type": "code",
   "execution_count": null,
   "id": "6d38cab6",
   "metadata": {},
   "outputs": [],
   "source": []
  },
  {
   "cell_type": "code",
   "execution_count": 30,
   "id": "77b4d46f",
   "metadata": {},
   "outputs": [
    {
     "data": {
      "image/png": "[encoded data removed]",
      "text/plain": [
       "Species(index=1, label=\"ethane\", thermo=NASA(polynomials=[NASAPolynomial(coeffs=[3.78031,-0.00324232,5.52369e-05,-6.38566e-08,2.2863e-11,-11620.3,5.21043], Tmin=(100,'K'), Tmax=(954.52,'K')), NASAPolynomial(coeffs=[4.58992,0.0141506,-4.75954e-06,8.60274e-10,-6.21699e-14,-12721.8,-3.61788], Tmin=(954.52,'K'), Tmax=(5000,'K'))], Tmin=(100,'K'), Tmax=(5000,'K'), comment=\"\"\"Thermo group additivity estimation: group(Cs-CsHHH) + group(Cs-CsHHH)\"\"\"), molecule=[Molecule(smiles=\"CC\")], transport_data=TransportData(shapeIndex=2, epsilon=(2097.74,'J/mol'), sigma=(4.302,'angstrom'), dipoleMoment=(0,'De'), polarizability=(0,'angstrom^3'), rotrelaxcollnum=1.5, comment=\"\"\"NOx2018\"\"\"), molecular_weight=(30.0691,'amu'))"
      ]
     },
     "execution_count": 30,
     "metadata": {},
     "output_type": "execute_result"
    }
   ],
   "source": [
    "species_list2[4]"
   ]
  },
  {
   "cell_type": "code",
   "execution_count": 31,
   "id": "14ec8ff1",
   "metadata": {},
   "outputs": [
    {
     "data": {
      "image/png": "[encoded data removed]",
      "text/plain": [
       "Species(label=\"Ar\", thermo=NASA(polynomials=[NASAPolynomial(coeffs=[2.5,-2.06855e-14,2.66266e-17,-1.11497e-20,1.43542e-24,-745,4.3663], Tmin=(100,'K'), Tmax=(4561.14,'K')), NASAPolynomial(coeffs=[2.50002,-1.64942e-08,5.30955e-12,-7.59275e-16,4.06972e-20,-745.018,4.36618], Tmin=(4561.14,'K'), Tmax=(5000,'K'))], Tmin=(100,'K'), Tmax=(5000,'K'), comment=\"\"\"Thermo library: BurkeH2O2\"\"\"), molecule=[Molecule(smiles=\"[Ar]\")], transport_data=TransportData(shapeIndex=0, epsilon=(1134.93,'J/mol'), sigma=(3.33,'angstrom'), dipoleMoment=(0,'De'), polarizability=(0,'angstrom^3'), rotrelaxcollnum=0.0, comment=\"\"\"NOx2018\"\"\"), molecular_weight=(39.8775,'amu'))"
      ]
     },
     "execution_count": 31,
     "metadata": {},
     "output_type": "execute_result"
    }
   ],
   "source": [
    "species_list[0]"
   ]
  },
  {
   "cell_type": "code",
   "execution_count": 17,
   "id": "273f925d",
   "metadata": {},
   "outputs": [
    {
     "data": {
      "text/plain": [
       "['SurfaceArrhenius',\n",
       " 'SurfaceChargeTransfer',\n",
       " '__class__',\n",
       " '__delattr__',\n",
       " '__dict__',\n",
       " '__dir__',\n",
       " '__doc__',\n",
       " '__eq__',\n",
       " '__format__',\n",
       " '__ge__',\n",
       " '__getattribute__',\n",
       " '__gt__',\n",
       " '__hash__',\n",
       " '__init__',\n",
       " '__init_subclass__',\n",
       " '__le__',\n",
       " '__lt__',\n",
       " '__module__',\n",
       " '__ne__',\n",
       " '__new__',\n",
       " '__pyx_vtable__',\n",
       " '__reduce__',\n",
       " '__reduce_ex__',\n",
       " '__repr__',\n",
       " '__setattr__',\n",
       " '__sizeof__',\n",
       " '__str__',\n",
       " '__subclasshook__',\n",
       " '__weakref__',\n",
       " '_apply_CHE_model',\n",
       " '_degeneracy',\n",
       " '_get_free_energy_of_charge_transfer_reaction',\n",
       " '_protons',\n",
       " '_repr_png_',\n",
       " 'allow_max_rate_violation',\n",
       " 'allow_pdep_route',\n",
       " 'apply_solvent_correction',\n",
       " 'calculate_coll_limit',\n",
       " 'calculate_microcanonical_rate_coefficient',\n",
       " 'calculate_tst_rate_coefficient',\n",
       " 'calculate_tst_rate_coefficients',\n",
       " 'can_tst',\n",
       " 'check_collision_limit_violation',\n",
       " 'comment',\n",
       " 'copy',\n",
       " 'degeneracy',\n",
       " 'draw',\n",
       " 'duplicate',\n",
       " 'electrons',\n",
       " 'elementary_high_p',\n",
       " 'ensure_species',\n",
       " 'entry',\n",
       " 'family',\n",
       " 'fix_barrier_height',\n",
       " 'fix_diffusion_limited_a_factor',\n",
       " 'generate_3d_ts',\n",
       " 'generate_high_p_limit_kinetics',\n",
       " 'generate_pairs',\n",
       " 'generate_reverse_rate_coefficient',\n",
       " 'get_enthalpies_of_reaction',\n",
       " 'get_enthalpy_of_reaction',\n",
       " 'get_entropies_of_reaction',\n",
       " 'get_entropy_of_reaction',\n",
       " 'get_equilibrium_constant',\n",
       " 'get_equilibrium_constants',\n",
       " 'get_free_energies_of_reaction',\n",
       " 'get_free_energy_of_reaction',\n",
       " 'get_mean_sigma_and_epsilon',\n",
       " 'get_rate_coefficient',\n",
       " 'get_reduced_mass',\n",
       " 'get_reversible_potential',\n",
       " 'get_source',\n",
       " 'get_sticking_coefficient',\n",
       " 'get_stoichiometric_coefficient',\n",
       " 'get_surface_rate_coefficient',\n",
       " 'get_url',\n",
       " 'has_template',\n",
       " 'index',\n",
       " 'is_association',\n",
       " 'is_balanced',\n",
       " 'is_charge_transfer_reaction',\n",
       " 'is_dissociation',\n",
       " 'is_forward',\n",
       " 'is_isomerization',\n",
       " 'is_isomorphic',\n",
       " 'is_surface_charge_transfer_reaction',\n",
       " 'is_surface_reaction',\n",
       " 'is_unimolecular',\n",
       " 'k_effective_cache',\n",
       " 'kinetics',\n",
       " 'label',\n",
       " 'library',\n",
       " 'matches_species',\n",
       " 'network_kinetics',\n",
       " 'pairs',\n",
       " 'products',\n",
       " 'protons',\n",
       " 'rank',\n",
       " 'reactants',\n",
       " 'reverse_arrhenius_charge_transfer_rate',\n",
       " 'reverse_arrhenius_rate',\n",
       " 'reverse_sticking_coeff_rate',\n",
       " 'reverse_surface_arrhenius_rate',\n",
       " 'reverse_surface_charge_transfer_rate',\n",
       " 'reversible',\n",
       " 'set_reference_potential',\n",
       " 'specific_collider',\n",
       " 'to_cantera',\n",
       " 'to_chemkin',\n",
       " 'to_labeled_str',\n",
       " 'transition_state']"
      ]
     },
     "execution_count": 17,
     "metadata": {},
     "output_type": "execute_result"
    }
   ],
   "source": [
    "dir(reaction_list[40])"
   ]
  },
  {
   "cell_type": "code",
   "execution_count": 13,
   "id": "b1787148",
   "metadata": {},
   "outputs": [
    {
     "data": {
      "text/plain": [
       "'[CH]=C'"
      ]
     },
     "execution_count": 13,
     "metadata": {},
     "output_type": "execute_result"
    }
   ],
   "source": [
    "species_list[40].smiles"
   ]
  },
  {
   "cell_type": "code",
   "execution_count": null,
   "id": "21a84b40",
   "metadata": {},
   "outputs": [],
   "source": []
  },
  {
   "cell_type": "code",
   "execution_count": null,
   "id": "becc1561",
   "metadata": {},
   "outputs": [],
   "source": [
    "len()"
   ]
  }
 ],
 "metadata": {
  "kernelspec": {
   "display_name": "Python 3 (ipykernel)",
   "language": "python",
   "name": "python3"
  },
  "language_info": {
   "codemirror_mode": {
    "name": "ipython",
    "version": 3
   },
   "file_extension": ".py",
   "mimetype": "text/x-python",
   "name": "python",
   "nbconvert_exporter": "python",
   "pygments_lexer": "ipython3",
   "version": "3.7.12"
  }
 },
 "nbformat": 4,
 "nbformat_minor": 5
}
