{
 "cells": [
  {
   "cell_type": "code",
   "execution_count": 36,
   "id": "9fdd55a2",
   "metadata": {},
   "outputs": [],
   "source": [
    "import rmgpy.species\n",
    "import rmgpy.kinetics\n",
    "import rmgpy.thermo\n",
    "import rmgpy.data.rmg\n",
    "\n",
    "import numpy as np\n",
    "\n",
    "import matplotlib.pyplot as plt\n",
    "%matplotlib inline"
   ]
  },
  {
   "cell_type": "code",
   "execution_count": null,
   "id": "64af2ebb",
   "metadata": {},
   "outputs": [],
   "source": [
    "# Define Propane as a Species object"
   ]
  },
  {
   "cell_type": "code",
   "execution_count": 3,
   "id": "72aebf5a",
   "metadata": {},
   "outputs": [
    {
     "data": {
      "image/png": "[encoded data removed]",
      "text/plain": [
       "Species(label=\"\", molecule=[Molecule(smiles=\"CCC\")], molecular_weight=(44.0957,'amu'))"
      ]
     },
     "metadata": {},
     "output_type": "display_data"
    }
   ],
   "source": [
    "CCC = rmgpy.species.Species(smiles='CCC')\n",
    "display(CCC)"
   ]
  },
  {
   "cell_type": "code",
   "execution_count": 4,
   "id": "2f363730",
   "metadata": {},
   "outputs": [],
   "source": [
    "CCC.thermo"
   ]
  },
  {
   "cell_type": "code",
   "execution_count": 81,
   "id": "d9acc22c",
   "metadata": {},
   "outputs": [],
   "source": [
    "H2 = rmgpy.species.Species(smiles='[H][H]')"
   ]
  },
  {
   "cell_type": "code",
   "execution_count": null,
   "id": "4184ea20",
   "metadata": {},
   "outputs": [],
   "source": [
    "# pickle\n",
    "# pass in arguments with sys\n",
    "# pointers/memory\n",
    "# chemkin files\n"
   ]
  },
  {
   "cell_type": "code",
   "execution_count": null,
   "id": "86a5bd99",
   "metadata": {},
   "outputs": [],
   "source": [
    "# Read in the RMG-database"
   ]
  },
  {
   "cell_type": "code",
   "execution_count": 6,
   "id": "4de10779",
   "metadata": {},
   "outputs": [],
   "source": [
    "database = rmgpy.data.rmg.RMGDatabase()\n",
    "\n",
    "thermo_libraries = [\n",
    "    'Klippenstein_Glarborg2016',\n",
    "    'BurkeH2O2',\n",
    "    'thermo_DFT_CCSDTF12_BAC', \n",
    "    'DFT_QCI_thermo',\n",
    "    'primaryThermoLibrary',\n",
    "    'CurranPentane'\n",
    "]\n",
    "\n",
    "database.load(\n",
    "    path = rmgpy.settings['database.directory'],\n",
    "    thermo_libraries = thermo_libraries,\n",
    "    transport_libraries = [],\n",
    "    reaction_libraries = [],\n",
    "    seed_mechanisms = [],\n",
    "    kinetics_families = ['H_Abstraction'],\n",
    "    kinetics_depositories = ['training'],\n",
    "    depository = False,\n",
    ")\n",
    "# !!!!!!!!!!!!!!!!!!!!!!!! Keep this for kinetics families\n",
    "for family in database.kinetics.families:\n",
    "    if not database.kinetics.families[family].auto_generated:\n",
    "        database.kinetics.families[family].add_rules_from_training(thermo_database=database.thermo)\n",
    "        database.kinetics.families[family].fill_rules_by_averaging_up(verbose=True)\n",
    "\n"
   ]
  },
  {
   "cell_type": "code",
   "execution_count": 7,
   "id": "37a68c11",
   "metadata": {},
   "outputs": [
    {
     "name": "stdout",
     "output_type": "stream",
     "text": [
      "<rmgpy.data.rmg.RMGDatabase object at 0x7f8cb8638e50>\n"
     ]
    }
   ],
   "source": [
    "print(database)"
   ]
  },
  {
   "cell_type": "code",
   "execution_count": 8,
   "id": "2da5889b",
   "metadata": {},
   "outputs": [
    {
     "name": "stdout",
     "output_type": "stream",
     "text": [
      "<rmgpy.data.thermo.ThermoDatabase object at 0x7f8cb1952a50>\n"
     ]
    }
   ],
   "source": [
    "print(database.thermo)"
   ]
  },
  {
   "cell_type": "code",
   "execution_count": 9,
   "id": "facafb39",
   "metadata": {},
   "outputs": [
    {
     "name": "stdout",
     "output_type": "stream",
     "text": [
      "<rmgpy.data.kinetics.database.KineticsDatabase object at 0x7f8cb8635090>\n"
     ]
    }
   ],
   "source": [
    "print(database.kinetics)"
   ]
  },
  {
   "cell_type": "code",
   "execution_count": 11,
   "id": "b9efd396",
   "metadata": {},
   "outputs": [
    {
     "name": "stdout",
     "output_type": "stream",
     "text": [
      "{'Klippenstein_Glarborg2016': <rmgpy.data.thermo.ThermoLibrary object at 0x7f8cb35dce50>, 'BurkeH2O2': <rmgpy.data.thermo.ThermoLibrary object at 0x7f8cb35dc050>, 'thermo_DFT_CCSDTF12_BAC': <rmgpy.data.thermo.ThermoLibrary object at 0x7f8cb35df110>, 'DFT_QCI_thermo': <rmgpy.data.thermo.ThermoLibrary object at 0x7f8cb35df510>, 'primaryThermoLibrary': <rmgpy.data.thermo.ThermoLibrary object at 0x7f8cb3563410>, 'CurranPentane': <rmgpy.data.thermo.ThermoLibrary object at 0x7f8cb3778190>}\n"
     ]
    }
   ],
   "source": [
    "print(database.thermo.libraries)"
   ]
  },
  {
   "cell_type": "code",
   "execution_count": 12,
   "id": "1957bae5",
   "metadata": {},
   "outputs": [
    {
     "data": {
      "text/plain": [
       "<rmgpy.data.thermo.ThermoLibrary at 0x7f8cb3778190>"
      ]
     },
     "execution_count": 12,
     "metadata": {},
     "output_type": "execute_result"
    }
   ],
   "source": [
    "database.thermo.libraries['CurranPentane']"
   ]
  },
  {
   "cell_type": "code",
   "execution_count": 58,
   "id": "a5fba137",
   "metadata": {},
   "outputs": [
    {
     "name": "stdout",
     "output_type": "stream",
     "text": [
      "0 H\n",
      "1 H2\n"
     ]
    }
   ],
   "source": [
    "for i, key in enumerate(database.thermo.libraries['CurranPentane'].entries):\n",
    "    entry = database.thermo.libraries['CurranPentane'].entries[key]\n",
    "    print(i, entry)\n",
    "    if i >= 1:\n",
    "        break\n",
    "    "
   ]
  },
  {
   "cell_type": "code",
   "execution_count": 59,
   "id": "8ea4afeb",
   "metadata": {},
   "outputs": [
    {
     "name": "stdout",
     "output_type": "stream",
     "text": [
      "1\n",
      "H2\n",
      "<Molecule \"[H][H]\">\n"
     ]
    }
   ],
   "source": [
    "print(entry.index)\n",
    "print(entry.label)\n",
    "print(entry.item)"
   ]
  },
  {
   "cell_type": "code",
   "execution_count": 60,
   "id": "7c9180e0",
   "metadata": {},
   "outputs": [
    {
     "name": "stdout",
     "output_type": "stream",
     "text": [
      "1 H u0 p0 c0 {2,S}\n",
      "2 H u0 p0 c0 {1,S}\n",
      "\n"
     ]
    }
   ],
   "source": [
    "print(entry.item.to_adjacency_list())"
   ]
  },
  {
   "cell_type": "code",
   "execution_count": 61,
   "id": "8c8b417c",
   "metadata": {},
   "outputs": [
    {
     "name": "stdout",
     "output_type": "stream",
     "text": [
      "NASA(polynomials=[NASAPolynomial(coeffs=[2.34433,0.00798052,-1.94782e-05,2.01572e-08,-7.37612e-12,-917.935,0.68301], Tmin=(200,'K'), Tmax=(1000,'K')), NASAPolynomial(coeffs=[2.93287,0.000826608,-1.46402e-07,1.541e-11,-6.88805e-16,-813.066,-1.02433], Tmin=(1000,'K'), Tmax=(6000,'K'))], Tmin=(200,'K'), Tmax=(6000,'K'))\n"
     ]
    }
   ],
   "source": [
    "my_thermo_data = entry.data\n",
    "print(my_thermo_data)"
   ]
  },
  {
   "cell_type": "code",
   "execution_count": 62,
   "id": "79d3ef94",
   "metadata": {},
   "outputs": [
    {
     "data": {
      "text/plain": [
       "20686.38693556533"
      ]
     },
     "execution_count": 62,
     "metadata": {},
     "output_type": "execute_result"
    }
   ],
   "source": [
    "my_thermo_data.get_enthalpy(1000)"
   ]
  },
  {
   "cell_type": "code",
   "execution_count": 63,
   "id": "d7e699d6",
   "metadata": {},
   "outputs": [
    {
     "data": {
      "text/plain": [
       "[NASAPolynomial(coeffs=[2.34433,0.00798052,-1.94782e-05,2.01572e-08,-7.37612e-12,-917.935,0.68301], Tmin=(200,'K'), Tmax=(1000,'K')),\n",
       " NASAPolynomial(coeffs=[2.93287,0.000826608,-1.46402e-07,1.541e-11,-6.88805e-16,-813.066,-1.02433], Tmin=(1000,'K'), Tmax=(6000,'K'))]"
      ]
     },
     "execution_count": 63,
     "metadata": {},
     "output_type": "execute_result"
    }
   ],
   "source": [
    "my_thermo_data.polynomials"
   ]
  },
  {
   "cell_type": "code",
   "execution_count": 64,
   "id": "d2c5f4cb",
   "metadata": {},
   "outputs": [],
   "source": [
    "# Plot a thermo example\n",
    "N = 101\n",
    "\n",
    "Ts = np.linspace(300, 3000, N)\n",
    "H = np.zeros_like(Ts)\n",
    "S = np.zeros_like(Ts)\n",
    "Cp = np.zeros_like(Ts)\n",
    "\n",
    "for i in range(len(Ts)):\n",
    "    H[i] = my_thermo_data.get_enthalpy(Ts[i])\n",
    "    S[i] = my_thermo_data.get_entropy(Ts[i])\n",
    "    Cp[i] = my_thermo_data.get_heat_capacity(Ts[i])\n"
   ]
  },
  {
   "cell_type": "code",
   "execution_count": 65,
   "id": "d336520f",
   "metadata": {},
   "outputs": [
    {
     "name": "stdout",
     "output_type": "stream",
     "text": [
      "NASA.get_enthalpy(self, double T) -> double\n",
      "\n",
      "        Return the enthalpy :math:`H(T)` in J/mol at the specified\n",
      "        temperature `T` in K.\n",
      "        \n"
     ]
    }
   ],
   "source": [
    "print(my_thermo_data.get_enthalpy.__doc__)"
   ]
  },
  {
   "cell_type": "code",
   "execution_count": 66,
   "id": "f7f90024",
   "metadata": {},
   "outputs": [
    {
     "data": {
      "text/plain": [
       "Text(0, 0.5, 'Enthalpy (J/mol)')"
      ]
     },
     "execution_count": 66,
     "metadata": {},
     "output_type": "execute_result"
    },
    {
     "data": {
      "image/png": "[encoded data removed]",
      "text/plain": [
       "<Figure size 640x480 with 1 Axes>"
      ]
     },
     "metadata": {},
     "output_type": "display_data"
    }
   ],
   "source": [
    "plt.plot(Ts, H, marker='x')\n",
    "plt.xlabel('T (K)')\n",
    "plt.ylabel('Enthalpy (J/mol)')"
   ]
  },
  {
   "cell_type": "code",
   "execution_count": 67,
   "id": "1723f784",
   "metadata": {},
   "outputs": [
    {
     "data": {
      "text/plain": [
       "-4.330699985000105"
      ]
     },
     "execution_count": 67,
     "metadata": {},
     "output_type": "execute_result"
    }
   ],
   "source": [
    "my_thermo_data.get_enthalpy(298)"
   ]
  },
  {
   "cell_type": "code",
   "execution_count": 41,
   "id": "a74b1569",
   "metadata": {},
   "outputs": [
    {
     "data": {
      "text/plain": [
       "(1001,)"
      ]
     },
     "execution_count": 41,
     "metadata": {},
     "output_type": "execute_result"
    }
   ],
   "source": [
    "# Get the thermo of CCC using CurranPentane library"
   ]
  },
  {
   "cell_type": "code",
   "execution_count": 73,
   "id": "b0834be5",
   "metadata": {},
   "outputs": [
    {
     "data": {
      "text/plain": [
       "(NASA(polynomials=[NASAPolynomial(coeffs=[4.21093,0.00170887,7.0653e-05,-9.20061e-08,3.64618e-11,-14381.1,5.61004], Tmin=(200,'K'), Tmax=(1000,'K')), NASAPolynomial(coeffs=[6.6692,0.0206109,-7.36512e-06,1.18434e-09,-7.06915e-14,-16275.4,-13.1943], Tmin=(1000,'K'), Tmax=(6000,'K'))], Tmin=(200,'K'), Tmax=(6000,'K'), Cp0=(33.2579,'J/(mol*K)'), CpInf=(249.434,'J/(mol*K)'), label=\"\"\"C3H8\"\"\"),\n",
       " <rmgpy.data.thermo.ThermoLibrary at 0x7f8cb3778190>,\n",
       " <Entry index=70 label=\"C3H8\">)"
      ]
     },
     "execution_count": 73,
     "metadata": {},
     "output_type": "execute_result"
    }
   ],
   "source": [
    "database.thermo.get_thermo_data_from_library(CCC, database.thermo.libraries['CurranPentane'])"
   ]
  },
  {
   "cell_type": "code",
   "execution_count": 87,
   "id": "d85a7428",
   "metadata": {},
   "outputs": [
    {
     "name": "stdout",
     "output_type": "stream",
     "text": [
      "NASA(polynomials=[NASAPolynomial(coeffs=[2.34433,0.00798052,-1.94782e-05,2.01572e-08,-7.37612e-12,-917.935,0.68301], Tmin=(200,'K'), Tmax=(1000,'K')), NASAPolynomial(coeffs=[2.93287,0.000826608,-1.46402e-07,1.541e-11,-6.88805e-16,-813.066,-1.02433], Tmin=(1000,'K'), Tmax=(6000,'K'))], Tmin=(200,'K'), Tmax=(6000,'K'), Cp0=(29.1007,'J/(mol*K)'), CpInf=(37.4151,'J/(mol*K)'), label=\"\"\"H2\"\"\")\n",
      "\n",
      "NASA(polynomials=[NASAPolynomial(coeffs=[3.13173,0.0020779,-4.13613e-06,3.59666e-09,-1.04398e-12,-995.633,-2.60152], Tmin=(300,'K'), Tmax=(1057.74,'K')), NASAPolynomial(coeffs=[3.78525,-0.00106491,1.27288e-06,-4.12619e-10,4.54634e-14,-1096.33,-5.61353], Tmin=(1057.74,'K'), Tmax=(3000,'K'))], Tmin=(300,'K'), Tmax=(3000,'K'), E0=(-8.52128,'kJ/mol'), Cp0=(29.1007,'J/(mol*K)'), CpInf=(37.4151,'J/(mol*K)'), label=\"\"\"H2\"\"\")\n"
     ]
    }
   ],
   "source": [
    "curran_H2_thermo, library, entry= database.thermo.get_thermo_data_from_library(H2, database.thermo.libraries['CurranPentane'])\n",
    "burke_H2_thermo, library, entry= database.thermo.get_thermo_data_from_library(H2, database.thermo.libraries['BurkeH2O2'])\n",
    "\n",
    "burke_H2_thermo = burke_H2_thermo.to_nasa(300, 3000, 1000)\n",
    "\n",
    "print(curran_H2_thermo)\n",
    "print()\n",
    "print(burke_H2_thermo)"
   ]
  },
  {
   "cell_type": "code",
   "execution_count": 88,
   "id": "48df0b61",
   "metadata": {},
   "outputs": [
    {
     "data": {
      "text/plain": [
       "<matplotlib.legend.Legend at 0x7f8ca08fd150>"
      ]
     },
     "execution_count": 88,
     "metadata": {},
     "output_type": "execute_result"
    },
    {
     "data": {
      "image/png": "[encoded data removed]",
      "text/plain": [
       "<Figure size 640x480 with 1 Axes>"
      ]
     },
     "metadata": {},
     "output_type": "display_data"
    }
   ],
   "source": [
    "# Compare the two\n",
    "N = 101\n",
    "\n",
    "Ts = np.linspace(300, 3000, N)\n",
    "H_Curran = np.zeros_like(Ts)\n",
    "H_Burke = np.zeros_like(Ts)\n",
    "\n",
    "for i in range(len(Ts)):\n",
    "    H_Curran[i] = curran_H2_thermo.get_enthalpy(Ts[i])\n",
    "    H_Burke[i] = burke_H2_thermo.get_enthalpy(Ts[i])\n",
    "\n",
    "plt.plot(Ts, H_Curran, label='Curran')\n",
    "plt.plot(Ts, H_Burke, label='Burke')\n",
    "plt.xlabel('T (K)')\n",
    "plt.ylabel('Enthalpy (J/mol)')\n",
    "plt.legend()"
   ]
  },
  {
   "cell_type": "code",
   "execution_count": null,
   "id": "cd01d380",
   "metadata": {},
   "outputs": [],
   "source": []
  },
  {
   "cell_type": "code",
   "execution_count": null,
   "id": "0cd66a25",
   "metadata": {},
   "outputs": [],
   "source": []
  }
 ],
 "metadata": {
  "jupytext": {
   "formats": "ipynb,auto:light"
  },
  "kernelspec": {
   "display_name": "Python 3 (ipykernel)",
   "language": "python",
   "name": "python3"
  },
  "language_info": {
   "codemirror_mode": {
    "name": "ipython",
    "version": 3
   },
   "file_extension": ".py",
   "mimetype": "text/x-python",
   "name": "python",
   "nbconvert_exporter": "python",
   "pygments_lexer": "ipython3",
   "version": "3.7.12"
  }
 },
 "nbformat": 4,
 "nbformat_minor": 5
}
