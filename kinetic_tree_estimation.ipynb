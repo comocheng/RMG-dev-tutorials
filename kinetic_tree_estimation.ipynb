{
 "cells": [
  {
   "cell_type": "code",
   "execution_count": 1,
   "id": "ffecb8ed",
   "metadata": {},
   "outputs": [],
   "source": [
    "import rmgpy.species\n",
    "import rmgpy.kinetics\n",
    "import rmgpy.thermo\n",
    "import rmgpy.data.rmg\n",
    "\n",
    "import copy\n",
    "\n",
    "import numpy as np\n",
    "\n",
    "import matplotlib.pyplot as plt\n",
    "%matplotlib inline"
   ]
  },
  {
   "cell_type": "code",
   "execution_count": 2,
   "id": "46616470",
   "metadata": {},
   "outputs": [],
   "source": [
    "def plot_kinetics(rxns, labels=None):\n",
    "    \"\"\"Function for plotting reaction kinetics\n",
    "    Takes in a list of RMG reactions (rmgpy.reaction.Reaction) or a single reaction\n",
    "    \"\"\"\n",
    "    plt.xlabel('1000 / T (K^-1)')\n",
    "    plt.ylabel('log10(k)')\n",
    "\n",
    "    if type(rxns) != list:\n",
    "        rxns = [rxns]\n",
    "\n",
    "    T = np.linspace(300, 3000, 1001)\n",
    "    for rxn in rxns:\n",
    "        k = np.zeros(len(T))\n",
    "        for i in range(0, len(T)):\n",
    "            k[i] = rxn.get_rate_coefficient(T[i], 101325)\n",
    "        plt.plot(1000.0 / T, np.log10(k))\n",
    "\n",
    "    if labels:\n",
    "        plt.legend(labels)\n",
    "    plt.show()"
   ]
  },
  {
   "cell_type": "code",
   "execution_count": 3,
   "id": "085cf586",
   "metadata": {},
   "outputs": [],
   "source": [
    "database = rmgpy.data.rmg.RMGDatabase()\n",
    "\n",
    "thermo_libraries = [\n",
    "    'Klippenstein_Glarborg2016',\n",
    "    'BurkeH2O2',\n",
    "    'thermo_DFT_CCSDTF12_BAC', \n",
    "    'DFT_QCI_thermo',\n",
    "    'primaryThermoLibrary',\n",
    "    'CurranPentane'\n",
    "]\n",
    "\n",
    "database.load(\n",
    "    path = rmgpy.settings['database.directory'],\n",
    "    thermo_libraries = thermo_libraries,\n",
    "    transport_libraries = [],\n",
    "    reaction_libraries = [],\n",
    "    seed_mechanisms = [],\n",
    "    kinetics_families = ['H_Abstraction', 'Disproportionation'],\n",
    "    kinetics_depositories = ['training'],\n",
    "    depository = False,\n",
    ")\n",
    "# !!!!!!!!!!!!!!!!!!!!!!!! Keep this for kinetics families\n",
    "for family in database.kinetics.families:\n",
    "    if not database.kinetics.families[family].auto_generated:\n",
    "        database.kinetics.families[family].add_rules_from_training(thermo_database=database.thermo)\n",
    "        database.kinetics.families[family].fill_rules_by_averaging_up(verbose=True)\n",
    "\n"
   ]
  },
  {
   "cell_type": "markdown",
   "id": "82fceaf7",
   "metadata": {},
   "source": [
    "# pictures of the different families\n",
    "https://github.com/ReactionMechanismGenerator/RMG-database/blob/main/families/rmg_reaction_families.pdf"
   ]
  },
  {
   "cell_type": "code",
   "execution_count": 4,
   "id": "2c6f862f",
   "metadata": {},
   "outputs": [],
   "source": []
  },
  {
   "cell_type": "code",
   "execution_count": 7,
   "id": "151fdfc3",
   "metadata": {},
   "outputs": [
    {
     "data": {
      "text/plain": [
       "<ReactionFamily \"Disproportionation\">"
      ]
     },
     "execution_count": 7,
     "metadata": {},
     "output_type": "execute_result"
    }
   ],
   "source": [
    "database.kinetics.families['Disproportionation'].estimate_kinetics_using_rate_rules()"
   ]
  },
  {
   "cell_type": "code",
   "execution_count": 55,
   "id": "a334c67a",
   "metadata": {},
   "outputs": [
    {
     "name": "stdout",
     "output_type": "stream",
     "text": [
      "[O]O + [CH2]CC <=> OO + C=CC\n"
     ]
    },
    {
     "data": {
      "image/png": "[encoded data removed]",
      "text/plain": [
       "Reaction(reactants=[Species(label=\"[O]O\", thermo=NASA(polynomials=[NASAPolynomial(coeffs=[4.3018,-0.00474912,2.11583e-05,-2.42764e-08,9.29225e-12,264.018,3.71666], Tmin=(200,'K'), Tmax=(1000,'K')), NASAPolynomial(coeffs=[4.17229,0.00188118,-3.46277e-07,1.94658e-11,1.76257e-16,31.0207,2.95768], Tmin=(1000,'K'), Tmax=(5000,'K'))], Tmin=(200,'K'), Tmax=(5000,'K'), Cp0=(33.2579,'J/(mol*K)'), CpInf=(58.2013,'J/(mol*K)'), label=\"\"\"HO2\"\"\", comment=\"\"\"Thermo library: Klippenstein_Glarborg2016\"\"\"), molecule=[Molecule(smiles=\"[O]O\")], molecular_weight=(33.0068,'amu')), Species(label=\"[CH2]CC\", thermo=ThermoData(Tdata=([300,400,500,600,800,1000,1500],'K'), Cpdata=([17.348,21.505,25.276,28.526,33.776,37.81,44.287],'cal/(mol*K)','+|-',[1.2,1.5,1.7,1.7,1.7,1.7,1.3]), H298=(24.271,'kcal/mol','+|-',0.9), S298=(69.303,'cal/(mol*K)','+|-',1), Cp0=(33.2579,'J/(mol*K)'), CpInf=(224.491,'J/(mol*K)'), label=\"\"\"npropyl\"\"\", comment=\"\"\"Thermo library: DFT_QCI_thermo\"\"\"), molecule=[Molecule(smiles=\"[CH2]CC\")], molecular_weight=(43.0877,'amu'))], products=[Species(label=\"OO\", thermo=NASA(polynomials=[NASAPolynomial(coeffs=[4.31515,-0.000847391,1.76404e-05,-2.26763e-08,9.0895e-12,-17706.7,3.27373], Tmin=(200,'K'), Tmax=(1000,'K')), NASAPolynomial(coeffs=[4.57977,0.00405326,-1.29845e-06,1.98211e-10,-1.13969e-14,-18007.2,0.664971], Tmin=(1000,'K'), Tmax=(6000,'K'))], Tmin=(200,'K'), Tmax=(6000,'K'), Cp0=(33.2579,'J/(mol*K)'), CpInf=(78.9875,'J/(mol*K)'), label=\"\"\"H2O2\"\"\", comment=\"\"\"Thermo library: Klippenstein_Glarborg2016\"\"\"), molecule=[Molecule(smiles=\"OO\")], molecular_weight=(34.0147,'amu')), Species(label=\"C=CC\", thermo=ThermoData(Tdata=([300,400,500,600,800,1000,1500],'K'), Cpdata=([15.382,19.098,22.571,25.602,30.502,34.236,40.173],'cal/(mol*K)','+|-',[1,1.4,1.5,1.6,1.7,1.6,1.2]), H298=(4.607,'kcal/mol','+|-',0.3), S298=(63.63,'cal/(mol*K)','+|-',0.9), Cp0=(33.2579,'J/(mol*K)'), CpInf=(203.705,'J/(mol*K)'), label=\"\"\"C3H6\"\"\", comment=\"\"\"Thermo library: DFT_QCI_thermo\"\"\"), molecule=[Molecule(smiles=\"C=CC\")], molecular_weight=(42.0798,'amu'))],)"
      ]
     },
     "metadata": {},
     "output_type": "display_data"
    },
    {
     "name": "stdout",
     "output_type": "stream",
     "text": [
      "Atoms in molcule do not start with atom labels. You must add these yourself.\n",
      "{}\n",
      "{}\n",
      "\n",
      "Atom labels after calling the function to add labels:\n",
      "{'*1': <Atom 'O.'>}\n",
      "{'*2': <Atom 'C'>, '*3': <Atom 'C.'>, '*4': <Atom 'H'>}\n",
      "\n",
      "['Root_Ext-1R!H-R_4R->O_Ext-4O-R_Sp-5R!H-1R!H']\n",
      "[<Entry index=4 label=\"Root_Ext-1R!H-R_4R->O_Ext-4O-R_Sp-5R!H-1R!H\">]\n",
      "\n",
      "ArrheniusBM(A=(1.02976e+08,'m^3/(mol*s)'), n=-1.08436, w0=(563000,'J/mol'), E0=(46128.3,'J/mol'), Tmin=(300,'K'), Tmax=(1500,'K'), uncertainty=RateUncertainty(mu=0.09151076886860776, var=0.2905474551235391, Tref=1000.0, N=8, data_mean=0.0, correlation='Root_Ext-1R!H-R_4R->O_Ext-4O-R_Sp-5R!H-1R!H',), comment=\"\"\"Estimated from node Root_Ext-1R!H-R_4R->O_Ext-4O-R_Sp-5R!H-1R!H\"\"\")\n",
      "\n",
      "Convert to regular modified Arrhenius\n",
      "Arrhenius(A=(1.02976e+08,'m^3/(mol*s)'), n=-1.08436, Ea=(0,'kJ/mol'), T0=(1,'K'), Tmin=(300,'K'), Tmax=(1500,'K'), uncertainty=RateUncertainty(mu=0.09151076886860776, var=0.2905474551235391, Tref=1000.0, N=8, data_mean=0.0, correlation='Root_Ext-1R!H-R_4R->O_Ext-4O-R_Sp-5R!H-1R!H',), comment=\"\"\"Estimated from node Root_Ext-1R!H-R_4R->O_Ext-4O-R_Sp-5R!H-1R!H\"\"\")\n"
     ]
    }
   ],
   "source": [
    "# code for estimating kinetics: https://github.com/ReactionMechanismGenerator/RMG-Py/blob/main/rmgpy/data/kinetics/family.py\n",
    "# Disproportionation\n",
    "r1 = rmgpy.reaction.Reaction()\n",
    "s1 = rmgpy.species.Species(smiles='[O]O')\n",
    "s2 = rmgpy.species.Species(smiles='[CH2]CC')\n",
    "s3 = rmgpy.species.Species(smiles='OO')\n",
    "s4 = rmgpy.species.Species(smiles='C=CC')\n",
    "\n",
    "s1.thermo = database.thermo.get_thermo_data(s1)\n",
    "s2.thermo = database.thermo.get_thermo_data(s2)\n",
    "s3.thermo = database.thermo.get_thermo_data(s3)\n",
    "s4.thermo = database.thermo.get_thermo_data(s4)\n",
    "\n",
    "r1.reactants = [s1, s2]\n",
    "r1.products = [s3, s4]\n",
    "\n",
    "\n",
    "print(r1)\n",
    "display(r1)\n",
    "\n",
    "print('Atoms in molcule do not start with atom labels. You must add these yourself.')\n",
    "print(r1.reactants[0].molecule[0].get_all_labeled_atoms())\n",
    "print(r1.reactants[1].molecule[0].get_all_labeled_atoms())\n",
    "print()\n",
    "\n",
    "database.kinetics.families['Disproportionation'].add_atom_labels_for_reaction(r1)\n",
    "print('Atom labels after calling the function to add labels:')\n",
    "print(r1.reactants[0].molecule[0].get_all_labeled_atoms())\n",
    "print(r1.reactants[1].molecule[0].get_all_labeled_atoms())\n",
    "print()\n",
    "\n",
    "template_labels = database.kinetics.families['Disproportionation'].get_reaction_template_labels(r1)\n",
    "print(template_labels)\n",
    "template = database.kinetics.families['Disproportionation'].retrieve_template(template_labels)\n",
    "print(template)\n",
    "print()\n",
    "\n",
    "kinetics = database.kinetics.families['Disproportionation'].get_kinetics_for_template(template, degeneracy=r1.degeneracy)[0]\n",
    "print(kinetics)\n",
    "print()\n",
    "\n",
    "print('Convert to regular modified Arrhenius')\n",
    "T = 1000\n",
    "H_rxn = r1.get_enthalpy_of_reaction(T)\n",
    "arrhenius_kinetics = kinetics.to_arrhenius(H_rxn)\n",
    "print(arrhenius_kinetics)"
   ]
  },
  {
   "cell_type": "code",
   "execution_count": null,
   "id": "b763cada",
   "metadata": {},
   "outputs": [],
   "source": []
  },
  {
   "cell_type": "code",
   "execution_count": 37,
   "id": "a70a8e56",
   "metadata": {},
   "outputs": [
    {
     "data": {
      "text/plain": [
       "536"
      ]
     },
     "execution_count": 37,
     "metadata": {},
     "output_type": "execute_result"
    }
   ],
   "source": [
    "len(database.kinetics.families['H_Abstraction'].groups.entries)"
   ]
  },
  {
   "cell_type": "code",
   "execution_count": 42,
   "id": "5da96037",
   "metadata": {},
   "outputs": [],
   "source": [
    "# database.kinetics.families['H_Abstraction'].groups.entries"
   ]
  },
  {
   "cell_type": "code",
   "execution_count": 38,
   "id": "0fbbf445",
   "metadata": {},
   "outputs": [
    {
     "data": {
      "text/plain": [
       "9064"
      ]
     },
     "execution_count": 38,
     "metadata": {},
     "output_type": "execute_result"
    }
   ],
   "source": [
    "len(database.kinetics.families['H_Abstraction'].rules.entries)"
   ]
  },
  {
   "cell_type": "code",
   "execution_count": 43,
   "id": "136ca36b",
   "metadata": {},
   "outputs": [],
   "source": [
    "# database.kinetics.families['H_Abstraction'].rules.entries"
   ]
  },
  {
   "cell_type": "code",
   "execution_count": null,
   "id": "309911f2",
   "metadata": {},
   "outputs": [],
   "source": []
  },
  {
   "cell_type": "code",
   "execution_count": null,
   "id": "526b175b",
   "metadata": {},
   "outputs": [],
   "source": []
  },
  {
   "cell_type": "code",
   "execution_count": null,
   "id": "aa682704",
   "metadata": {},
   "outputs": [],
   "source": []
  },
  {
   "cell_type": "code",
   "execution_count": 35,
   "id": "dafed385",
   "metadata": {},
   "outputs": [
    {
     "data": {
      "text/plain": [
       "234"
      ]
     },
     "execution_count": 35,
     "metadata": {},
     "output_type": "execute_result"
    }
   ],
   "source": [
    "len(database.kinetics.families['Disproportionation'].groups.entries)"
   ]
  },
  {
   "cell_type": "code",
   "execution_count": 48,
   "id": "617470ab",
   "metadata": {},
   "outputs": [
    {
     "data": {
      "image/png": "[encoded data removed]",
      "text/plain": [
       "<rmgpy.molecule.group.Group at 0x7f787ab343d0>"
      ]
     },
     "execution_count": 48,
     "metadata": {},
     "output_type": "execute_result"
    }
   ],
   "source": [
    "database.kinetics.families['Disproportionation'].groups.entries['Root_Ext-1R!H-R_4R->O_Ext-4O-R_Sp-5R!H-1R!H'].item"
   ]
  },
  {
   "cell_type": "code",
   "execution_count": 52,
   "id": "4e483de1",
   "metadata": {},
   "outputs": [
    {
     "data": {
      "text/plain": [
       "ArrheniusBM(A=(1.02976e+08,'m^3/(mol*s)'), n=-1.08436, w0=(563000,'J/mol'), E0=(46128.3,'J/mol'), Tmin=(300,'K'), Tmax=(1500,'K'), uncertainty=RateUncertainty(mu=0.09151076886860776, var=0.2905474551235391, Tref=1000.0, N=8, data_mean=0.0, correlation='Root_Ext-1R!H-R_4R->O_Ext-4O-R_Sp-5R!H-1R!H',), comment=\"\"\"BM rule fitted to 8 training reactions at node Root_Ext-1R!H-R_4R->O_Ext-4O-R_Sp-5R!H-1R!H\n",
       "    Total Standard Deviation in ln(k): 1.3105279586067948\"\"\")"
      ]
     },
     "execution_count": 52,
     "metadata": {},
     "output_type": "execute_result"
    }
   ],
   "source": [
    "database.kinetics.families['Disproportionation'].rules.entries['Root_Ext-1R!H-R_4R->O_Ext-4O-R_Sp-5R!H-1R!H'][0].data"
   ]
  },
  {
   "cell_type": "markdown",
   "id": "54c377cf",
   "metadata": {},
   "source": [
    "# Blowers masel description: https://cantera.org/stable/reference/kinetics/rate-constants.html#blowers-masel-reactions"
   ]
  },
  {
   "cell_type": "code",
   "execution_count": 44,
   "id": "eb8e03c4",
   "metadata": {},
   "outputs": [],
   "source": [
    "# database.kinetics.families['Disproportionation'].groups.entries"
   ]
  },
  {
   "cell_type": "code",
   "execution_count": 34,
   "id": "e1b9ae9b",
   "metadata": {},
   "outputs": [
    {
     "data": {
      "text/plain": [
       "232"
      ]
     },
     "execution_count": 34,
     "metadata": {},
     "output_type": "execute_result"
    }
   ],
   "source": [
    "len(database.kinetics.families['Disproportionation'].rules.entries)"
   ]
  },
  {
   "cell_type": "code",
   "execution_count": 45,
   "id": "e384df9c",
   "metadata": {},
   "outputs": [
    {
     "data": {
      "text/plain": [
       "OrderedDict([('Root', [<Entry index=1 label=\"Root\">]),\n",
       "             ('Root_Ext-1R!H-R', [<Entry index=2 label=\"Root_Ext-1R!H-R\">]),\n",
       "             ('Root_Ext-2R!H-R', [<Entry index=3 label=\"Root_Ext-2R!H-R\">]),\n",
       "             ('Root_4R->H', [<Entry index=4 label=\"Root_4R->H\">]),\n",
       "             ('Root_N-4R->H', [<Entry index=5 label=\"Root_N-4R->H\">]),\n",
       "             ('Root_Ext-1R!H-R_4R->O',\n",
       "              [<Entry index=6 label=\"Root_Ext-1R!H-R_4R->O\">]),\n",
       "             ('Root_Ext-1R!H-R_N-4R->O',\n",
       "              [<Entry index=7 label=\"Root_Ext-1R!H-R_N-4R->O\">]),\n",
       "             ('Root_Ext-2R!H-R_2R!H->C',\n",
       "              [<Entry index=8 label=\"Root_Ext-2R!H-R_2R!H->C\">]),\n",
       "             ('Root_Ext-2R!H-R_N-2R!H->C',\n",
       "              [<Entry index=9 label=\"Root_Ext-2R!H-R_N-2R!H->C\">]),\n",
       "             ('Root_4R->H_Sp-2R!H-1R!H',\n",
       "              [<Entry index=10 label=\"Root_4R->H_Sp-2R!H-1R!H\">]),\n",
       "             ('Root_4R->H_N-Sp-2R!H-1R!H',\n",
       "              [<Entry index=11 label=\"Root_4R->H_N-Sp-2R!H-1R!H\">]),\n",
       "             ('Root_N-4R->H_4CNOS-u1',\n",
       "              [<Entry index=12 label=\"Root_N-4R->H_4CNOS-u1\">]),\n",
       "             ('Root_N-4R->H_N-4CNOS-u1',\n",
       "              [<Entry index=13 label=\"Root_N-4R->H_N-4CNOS-u1\">]),\n",
       "             ('Root_Ext-1R!H-R_4R->O_Ext-4O-R',\n",
       "              [<Entry index=14 label=\"Root_Ext-1R!H-R_4R->O_Ext-4O-R\">]),\n",
       "             ('Root_Ext-1R!H-R_4R->O_Sp-5R!H-1R!H',\n",
       "              [<Entry index=15 label=\"Root_Ext-1R!H-R_4R->O_Sp-5R!H-1R!H\">]),\n",
       "             ('Root_Ext-1R!H-R_4R->O_N-Sp-5R!H-1R!H',\n",
       "              [<Entry index=16 label=\"Root_Ext-1R!H-R_4R->O_N-Sp-5R!H-1R!H\">]),\n",
       "             ('Root_Ext-1R!H-R_N-4R->O_Ext-1R!H-R',\n",
       "              [<Entry index=17 label=\"Root_Ext-1R!H-R_N-4R->O_Ext-1R!H-R\">]),\n",
       "             ('Root_Ext-1R!H-R_N-4R->O_Sp-5R!H=1R!H',\n",
       "              [<Entry index=18 label=\"Root_Ext-1R!H-R_N-4R->O_Sp-5R!H=1R!H\">]),\n",
       "             ('Root_Ext-1R!H-R_N-4R->O_N-Sp-5R!H=1R!H',\n",
       "              [<Entry index=19 label=\"Root_Ext-1R!H-R_N-4R->O_N-Sp-5R!H=1R!H\">]),\n",
       "             ('Root_Ext-2R!H-R_2R!H->C_4R->C',\n",
       "              [<Entry index=20 label=\"Root_Ext-2R!H-R_2R!H->C_4R->C\">]),\n",
       "             ('Root_Ext-2R!H-R_2R!H->C_N-4R->C',\n",
       "              [<Entry index=21 label=\"Root_Ext-2R!H-R_2R!H->C_N-4R->C\">]),\n",
       "             ('Root_Ext-2R!H-R_N-2R!H->C_4R->H',\n",
       "              [<Entry index=22 label=\"Root_Ext-2R!H-R_N-2R!H->C_4R->H\">]),\n",
       "             ('Root_Ext-2R!H-R_N-2R!H->C_N-4R->H',\n",
       "              [<Entry index=23 label=\"Root_Ext-2R!H-R_N-2R!H->C_N-4R->H\">]),\n",
       "             ('Root_4R->H_Sp-2R!H-1R!H_2R!H-u1',\n",
       "              [<Entry index=24 label=\"Root_4R->H_Sp-2R!H-1R!H_2R!H-u1\">]),\n",
       "             ('Root_4R->H_Sp-2R!H-1R!H_N-2R!H-u1',\n",
       "              [<Entry index=25 label=\"Root_4R->H_Sp-2R!H-1R!H_N-2R!H-u1\">]),\n",
       "             ('Root_4R->H_N-Sp-2R!H-1R!H_1R!H->C',\n",
       "              [<Entry index=26 label=\"Root_4R->H_N-Sp-2R!H-1R!H_1R!H->C\">]),\n",
       "             ('Root_4R->H_N-Sp-2R!H-1R!H_N-1R!H->C',\n",
       "              [<Entry index=27 label=\"Root_4R->H_N-Sp-2R!H-1R!H_N-1R!H->C\">]),\n",
       "             ('Root_N-4R->H_4CNOS-u1_1R!H->O',\n",
       "              [<Entry index=28 label=\"Root_N-4R->H_4CNOS-u1_1R!H->O\">]),\n",
       "             ('Root_N-4R->H_4CNOS-u1_N-1R!H->O',\n",
       "              [<Entry index=29 label=\"Root_N-4R->H_4CNOS-u1_N-1R!H->O\">]),\n",
       "             ('Root_N-4R->H_N-4CNOS-u1_1R!H->O',\n",
       "              [<Entry index=30 label=\"Root_N-4R->H_N-4CNOS-u1_1R!H->O\">]),\n",
       "             ('Root_N-4R->H_N-4CNOS-u1_N-1R!H->O',\n",
       "              [<Entry index=31 label=\"Root_N-4R->H_N-4CNOS-u1_N-1R!H->O\">]),\n",
       "             ('Root_Ext-1R!H-R_4R->O_Ext-4O-R_Sp-5R!H-1R!H',\n",
       "              [<Entry index=32 label=\"Root_Ext-1R!H-R_4R->O_Ext-4O-R_Sp-5R!H-1R!H\">]),\n",
       "             ('Root_Ext-1R!H-R_4R->O_Ext-4O-R_N-Sp-5R!H-1R!H',\n",
       "              [<Entry index=33 label=\"Root_Ext-1R!H-R_4R->O_Ext-4O-R_N-Sp-5R!H-1R!H\">]),\n",
       "             ('Root_Ext-1R!H-R_4R->O_Sp-5R!H-1R!H_Ext-1R!H-R',\n",
       "              [<Entry index=34 label=\"Root_Ext-1R!H-R_4R->O_Sp-5R!H-1R!H_Ext-1R!H-R\">]),\n",
       "             ('Root_Ext-1R!H-R_N-4R->O_Ext-1R!H-R_4CHNS->C',\n",
       "              [<Entry index=35 label=\"Root_Ext-1R!H-R_N-4R->O_Ext-1R!H-R_4CHNS->C\">]),\n",
       "             ('Root_Ext-1R!H-R_N-4R->O_Ext-1R!H-R_N-4CHNS->C',\n",
       "              [<Entry index=36 label=\"Root_Ext-1R!H-R_N-4R->O_Ext-1R!H-R_N-4CHNS->C\">]),\n",
       "             ('Root_Ext-1R!H-R_N-4R->O_Sp-5R!H=1R!H_Ext-4CHNS-R',\n",
       "              [<Entry index=37 label=\"Root_Ext-1R!H-R_N-4R->O_Sp-5R!H=1R!H_Ext-4CHNS-R\">]),\n",
       "             ('Root_Ext-1R!H-R_N-4R->O_N-Sp-5R!H=1R!H_Ext-4CHNS-R',\n",
       "              [<Entry index=38 label=\"Root_Ext-1R!H-R_N-4R->O_N-Sp-5R!H=1R!H_Ext-4CHNS-R\">]),\n",
       "             ('Root_Ext-1R!H-R_N-4R->O_N-Sp-5R!H=1R!H_4CHNS->C',\n",
       "              [<Entry index=39 label=\"Root_Ext-1R!H-R_N-4R->O_N-Sp-5R!H=1R!H_4CHNS->C\">]),\n",
       "             ('Root_Ext-1R!H-R_N-4R->O_N-Sp-5R!H=1R!H_N-4CHNS->C',\n",
       "              [<Entry index=40 label=\"Root_Ext-1R!H-R_N-4R->O_N-Sp-5R!H=1R!H_N-4CHNS->C\">]),\n",
       "             ('Root_Ext-2R!H-R_N-2R!H->C_N-4R->H_4CNO->O',\n",
       "              [<Entry index=41 label=\"Root_Ext-2R!H-R_N-2R!H->C_N-4R->H_4CNO->O\">]),\n",
       "             ('Root_Ext-2R!H-R_N-2R!H->C_N-4R->H_N-4CNO->O',\n",
       "              [<Entry index=42 label=\"Root_Ext-2R!H-R_N-2R!H->C_N-4R->H_N-4CNO->O\">]),\n",
       "             ('Root_4R->H_Sp-2R!H-1R!H_2R!H-u1_1R!H->O',\n",
       "              [<Entry index=43 label=\"Root_4R->H_Sp-2R!H-1R!H_2R!H-u1_1R!H->O\">]),\n",
       "             ('Root_4R->H_Sp-2R!H-1R!H_2R!H-u1_N-1R!H->O',\n",
       "              [<Entry index=44 label=\"Root_4R->H_Sp-2R!H-1R!H_2R!H-u1_N-1R!H->O\">]),\n",
       "             ('Root_4R->H_N-Sp-2R!H-1R!H_N-1R!H->C_2R!H->C',\n",
       "              [<Entry index=45 label=\"Root_4R->H_N-Sp-2R!H-1R!H_N-1R!H->C_2R!H->C\">]),\n",
       "             ('Root_4R->H_N-Sp-2R!H-1R!H_N-1R!H->C_N-2R!H->C',\n",
       "              [<Entry index=46 label=\"Root_4R->H_N-Sp-2R!H-1R!H_N-1R!H->C_N-2R!H->C\">]),\n",
       "             ('Root_N-4R->H_4CNOS-u1_1R!H->O_2R!H->C',\n",
       "              [<Entry index=47 label=\"Root_N-4R->H_4CNOS-u1_1R!H->O_2R!H->C\">]),\n",
       "             ('Root_N-4R->H_4CNOS-u1_1R!H->O_N-2R!H->C',\n",
       "              [<Entry index=48 label=\"Root_N-4R->H_4CNOS-u1_1R!H->O_N-2R!H->C\">]),\n",
       "             ('Root_N-4R->H_4CNOS-u1_N-1R!H->O_4CNOS->O',\n",
       "              [<Entry index=49 label=\"Root_N-4R->H_4CNOS-u1_N-1R!H->O_4CNOS->O\">]),\n",
       "             ('Root_N-4R->H_4CNOS-u1_N-1R!H->O_N-4CNOS->O',\n",
       "              [<Entry index=50 label=\"Root_N-4R->H_4CNOS-u1_N-1R!H->O_N-4CNOS->O\">]),\n",
       "             ('Root_N-4R->H_N-4CNOS-u1_1R!H->O_4CNOS->C',\n",
       "              [<Entry index=51 label=\"Root_N-4R->H_N-4CNOS-u1_1R!H->O_4CNOS->C\">]),\n",
       "             ('Root_N-4R->H_N-4CNOS-u1_1R!H->O_N-4CNOS->C',\n",
       "              [<Entry index=52 label=\"Root_N-4R->H_N-4CNOS-u1_1R!H->O_N-4CNOS->C\">]),\n",
       "             ('Root_N-4R->H_N-4CNOS-u1_N-1R!H->O_Sp-2R!H-1CNS',\n",
       "              [<Entry index=53 label=\"Root_N-4R->H_N-4CNOS-u1_N-1R!H->O_Sp-2R!H-1CNS\">]),\n",
       "             ('Root_N-4R->H_N-4CNOS-u1_N-1R!H->O_N-Sp-2R!H-1CNS',\n",
       "              [<Entry index=54 label=\"Root_N-4R->H_N-4CNOS-u1_N-1R!H->O_N-Sp-2R!H-1CNS\">]),\n",
       "             ('Root_Ext-1R!H-R_4R->O_Ext-4O-R_Sp-5R!H-1R!H_Ext-5R!H-R',\n",
       "              [<Entry index=55 label=\"Root_Ext-1R!H-R_4R->O_Ext-4O-R_Sp-5R!H-1R!H_Ext-5R!H-R\">]),\n",
       "             ('Root_Ext-1R!H-R_4R->O_Ext-4O-R_Sp-5R!H-1R!H_Ext-1R!H-R',\n",
       "              [<Entry index=56 label=\"Root_Ext-1R!H-R_4R->O_Ext-4O-R_Sp-5R!H-1R!H_Ext-1R!H-R\">]),\n",
       "             ('Root_Ext-1R!H-R_N-4R->O_Ext-1R!H-R_4CHNS->C_Ext-4C-R',\n",
       "              [<Entry index=57 label=\"Root_Ext-1R!H-R_N-4R->O_Ext-1R!H-R_4CHNS->C_Ext-4C-R\">]),\n",
       "             ('Root_Ext-1R!H-R_N-4R->O_Ext-1R!H-R_N-4CHNS->C_4HS->H',\n",
       "              [<Entry index=58 label=\"Root_Ext-1R!H-R_N-4R->O_Ext-1R!H-R_N-4CHNS->C_4HS->H\">]),\n",
       "             ('Root_Ext-1R!H-R_N-4R->O_Ext-1R!H-R_N-4CHNS->C_N-4HS->H',\n",
       "              [<Entry index=59 label=\"Root_Ext-1R!H-R_N-4R->O_Ext-1R!H-R_N-4CHNS->C_N-4HS->H\">]),\n",
       "             ('Root_Ext-1R!H-R_N-4R->O_Sp-5R!H=1R!H_Ext-4CHNS-R_Ext-6R!H-R',\n",
       "              [<Entry index=60 label=\"Root_Ext-1R!H-R_N-4R->O_Sp-5R!H=1R!H_Ext-4CHNS-R_Ext-6R!H-R\">]),\n",
       "             ('Root_Ext-1R!H-R_N-4R->O_Sp-5R!H=1R!H_Ext-4CHNS-R_Ext-4CHNS-R',\n",
       "              [<Entry index=61 label=\"Root_Ext-1R!H-R_N-4R->O_Sp-5R!H=1R!H_Ext-4CHNS-R_Ext-4CHNS-R\">]),\n",
       "             ('Root_Ext-1R!H-R_N-4R->O_Sp-5R!H=1R!H_Ext-4CHNS-R_Sp-6R!H-4CHNS',\n",
       "              [<Entry index=62 label=\"Root_Ext-1R!H-R_N-4R->O_Sp-5R!H=1R!H_Ext-4CHNS-R_Sp-6R!H-4CHNS\">]),\n",
       "             ('Root_Ext-1R!H-R_N-4R->O_Sp-5R!H=1R!H_Ext-4CHNS-R_N-Sp-6R!H-4CHNS',\n",
       "              [<Entry index=63 label=\"Root_Ext-1R!H-R_N-4R->O_Sp-5R!H=1R!H_Ext-4CHNS-R_N-Sp-6R!H-4CHNS\">]),\n",
       "             ('Root_Ext-1R!H-R_N-4R->O_N-Sp-5R!H=1R!H_Ext-4CHNS-R_6R!H->S',\n",
       "              [<Entry index=64 label=\"Root_Ext-1R!H-R_N-4R->O_N-Sp-5R!H=1R!H_Ext-4CHNS-R_6R!H->S\">]),\n",
       "             ('Root_Ext-1R!H-R_N-4R->O_N-Sp-5R!H=1R!H_Ext-4CHNS-R_N-6R!H->S',\n",
       "              [<Entry index=65 label=\"Root_Ext-1R!H-R_N-4R->O_N-Sp-5R!H=1R!H_Ext-4CHNS-R_N-6R!H->S\">]),\n",
       "             ('Root_Ext-1R!H-R_N-4R->O_N-Sp-5R!H=1R!H_4CHNS->C_4C-u1',\n",
       "              [<Entry index=66 label=\"Root_Ext-1R!H-R_N-4R->O_N-Sp-5R!H=1R!H_4CHNS->C_4C-u1\">]),\n",
       "             ('Root_Ext-1R!H-R_N-4R->O_N-Sp-5R!H=1R!H_4CHNS->C_N-4C-u1',\n",
       "              [<Entry index=67 label=\"Root_Ext-1R!H-R_N-4R->O_N-Sp-5R!H=1R!H_4CHNS->C_N-4C-u1\">]),\n",
       "             ('Root_Ext-2R!H-R_N-2R!H->C_N-4R->H_N-4CNO->O_4CN->C',\n",
       "              [<Entry index=68 label=\"Root_Ext-2R!H-R_N-2R!H->C_N-4R->H_N-4CNO->O_4CN->C\">]),\n",
       "             ('Root_Ext-2R!H-R_N-2R!H->C_N-4R->H_N-4CNO->O_N-4CN->C',\n",
       "              [<Entry index=69 label=\"Root_Ext-2R!H-R_N-2R!H->C_N-4R->H_N-4CNO->O_N-4CN->C\">]),\n",
       "             ('Root_4R->H_Sp-2R!H-1R!H_2R!H-u1_1R!H->O_2R!H->C',\n",
       "              [<Entry index=70 label=\"Root_4R->H_Sp-2R!H-1R!H_2R!H-u1_1R!H->O_2R!H->C\">]),\n",
       "             ('Root_4R->H_Sp-2R!H-1R!H_2R!H-u1_1R!H->O_N-2R!H->C',\n",
       "              [<Entry index=71 label=\"Root_4R->H_Sp-2R!H-1R!H_2R!H-u1_1R!H->O_N-2R!H->C\">]),\n",
       "             ('Root_4R->H_Sp-2R!H-1R!H_2R!H-u1_N-1R!H->O_1CN->C',\n",
       "              [<Entry index=72 label=\"Root_4R->H_Sp-2R!H-1R!H_2R!H-u1_N-1R!H->O_1CN->C\">]),\n",
       "             ('Root_4R->H_Sp-2R!H-1R!H_2R!H-u1_N-1R!H->O_N-1CN->C',\n",
       "              [<Entry index=73 label=\"Root_4R->H_Sp-2R!H-1R!H_2R!H-u1_N-1R!H->O_N-1CN->C\">]),\n",
       "             ('Root_N-4R->H_4CNOS-u1_1R!H->O_2R!H->C_Ext-4CNOS-R',\n",
       "              [<Entry index=74 label=\"Root_N-4R->H_4CNOS-u1_1R!H->O_2R!H->C_Ext-4CNOS-R\">]),\n",
       "             ('Root_N-4R->H_4CNOS-u1_1R!H->O_2R!H->C_4CNOS->C',\n",
       "              [<Entry index=75 label=\"Root_N-4R->H_4CNOS-u1_1R!H->O_2R!H->C_4CNOS->C\">]),\n",
       "             ('Root_N-4R->H_4CNOS-u1_1R!H->O_2R!H->C_N-4CNOS->C',\n",
       "              [<Entry index=76 label=\"Root_N-4R->H_4CNOS-u1_1R!H->O_2R!H->C_N-4CNOS->C\">]),\n",
       "             ('Root_N-4R->H_4CNOS-u1_1R!H->O_N-2R!H->C_4CNOS->O',\n",
       "              [<Entry index=77 label=\"Root_N-4R->H_4CNOS-u1_1R!H->O_N-2R!H->C_4CNOS->O\">]),\n",
       "             ('Root_N-4R->H_4CNOS-u1_1R!H->O_N-2R!H->C_N-4CNOS->O',\n",
       "              [<Entry index=78 label=\"Root_N-4R->H_4CNOS-u1_1R!H->O_N-2R!H->C_N-4CNOS->O\">]),\n",
       "             ('Root_N-4R->H_4CNOS-u1_N-1R!H->O_4CNOS->O_Ext-4O-R',\n",
       "              [<Entry index=79 label=\"Root_N-4R->H_4CNOS-u1_N-1R!H->O_4CNOS->O_Ext-4O-R\">]),\n",
       "             ('Root_N-4R->H_4CNOS-u1_N-1R!H->O_4CNOS->O_Sp-2R!H-1CNS',\n",
       "              [<Entry index=80 label=\"Root_N-4R->H_4CNOS-u1_N-1R!H->O_4CNOS->O_Sp-2R!H-1CNS\">]),\n",
       "             ('Root_N-4R->H_4CNOS-u1_N-1R!H->O_4CNOS->O_N-Sp-2R!H-1CNS',\n",
       "              [<Entry index=81 label=\"Root_N-4R->H_4CNOS-u1_N-1R!H->O_4CNOS->O_N-Sp-2R!H-1CNS\">]),\n",
       "             ('Root_N-4R->H_4CNOS-u1_N-1R!H->O_N-4CNOS->O_Ext-4CNS-R',\n",
       "              [<Entry index=82 label=\"Root_N-4R->H_4CNOS-u1_N-1R!H->O_N-4CNOS->O_Ext-4CNS-R\">]),\n",
       "             ('Root_N-4R->H_4CNOS-u1_N-1R!H->O_N-4CNOS->O_4CNS->C',\n",
       "              [<Entry index=83 label=\"Root_N-4R->H_4CNOS-u1_N-1R!H->O_N-4CNOS->O_4CNS->C\">]),\n",
       "             ('Root_N-4R->H_4CNOS-u1_N-1R!H->O_N-4CNOS->O_N-4CNS->C',\n",
       "              [<Entry index=84 label=\"Root_N-4R->H_4CNOS-u1_N-1R!H->O_N-4CNOS->O_N-4CNS->C\">]),\n",
       "             ('Root_N-4R->H_N-4CNOS-u1_1R!H->O_N-4CNOS->C_2R!H->C',\n",
       "              [<Entry index=85 label=\"Root_N-4R->H_N-4CNOS-u1_1R!H->O_N-4CNOS->C_2R!H->C\">]),\n",
       "             ('Root_N-4R->H_N-4CNOS-u1_1R!H->O_N-4CNOS->C_N-2R!H->C',\n",
       "              [<Entry index=86 label=\"Root_N-4R->H_N-4CNOS-u1_1R!H->O_N-4CNOS->C_N-2R!H->C\">]),\n",
       "             ('Root_N-4R->H_N-4CNOS-u1_N-1R!H->O_Sp-2R!H-1CNS_1CNS->C',\n",
       "              [<Entry index=87 label=\"Root_N-4R->H_N-4CNOS-u1_N-1R!H->O_Sp-2R!H-1CNS_1CNS->C\">]),\n",
       "             ('Root_N-4R->H_N-4CNOS-u1_N-1R!H->O_Sp-2R!H-1CNS_N-1CNS->C',\n",
       "              [<Entry index=88 label=\"Root_N-4R->H_N-4CNOS-u1_N-1R!H->O_Sp-2R!H-1CNS_N-1CNS->C\">]),\n",
       "             ('Root_N-4R->H_N-4CNOS-u1_N-1R!H->O_N-Sp-2R!H-1CNS_1CNS->C',\n",
       "              [<Entry index=89 label=\"Root_N-4R->H_N-4CNOS-u1_N-1R!H->O_N-Sp-2R!H-1CNS_1CNS->C\">]),\n",
       "             ('Root_N-4R->H_N-4CNOS-u1_N-1R!H->O_N-Sp-2R!H-1CNS_N-1CNS->C',\n",
       "              [<Entry index=90 label=\"Root_N-4R->H_N-4CNOS-u1_N-1R!H->O_N-Sp-2R!H-1CNS_N-1CNS->C\">]),\n",
       "             ('Root_Ext-1R!H-R_4R->O_Ext-4O-R_Sp-5R!H-1R!H_Ext-5R!H-R_Ext-1R!H-R',\n",
       "              [<Entry index=91 label=\"Root_Ext-1R!H-R_4R->O_Ext-4O-R_Sp-5R!H-1R!H_Ext-5R!H-R_Ext-1R!H-R\">]),\n",
       "             ('Root_Ext-1R!H-R_N-4R->O_Ext-1R!H-R_4CHNS->C_Ext-4C-R_Sp-7R!H#4C',\n",
       "              [<Entry index=92 label=\"Root_Ext-1R!H-R_N-4R->O_Ext-1R!H-R_4CHNS->C_Ext-4C-R_Sp-7R!H#4C\">]),\n",
       "             ('Root_Ext-1R!H-R_N-4R->O_Ext-1R!H-R_4CHNS->C_Ext-4C-R_N-Sp-7R!H#4C',\n",
       "              [<Entry index=93 label=\"Root_Ext-1R!H-R_N-4R->O_Ext-1R!H-R_4CHNS->C_Ext-4C-R_N-Sp-7R!H#4C\">]),\n",
       "             ('Root_Ext-1R!H-R_N-4R->O_Ext-1R!H-R_N-4CHNS->C_N-4HS->H_Ext-4S-R_Ext-7R!H-R',\n",
       "              [<Entry index=94 label=\"Root_Ext-1R!H-R_N-4R->O_Ext-1R!H-R_N-4CHNS->C_N-4HS->H_Ext-4S-R_Ext-7R!H-R\">]),\n",
       "             ('Root_Ext-1R!H-R_N-4R->O_Sp-5R!H=1R!H_Ext-4CHNS-R_Ext-4CHNS-R_Ext-4CHNS-R',\n",
       "              [<Entry index=95 label=\"Root_Ext-1R!H-R_N-4R->O_Sp-5R!H=1R!H_Ext-4CHNS-R_Ext-4CHNS-R_Ext-4CHNS-R\">]),\n",
       "             ('Root_Ext-1R!H-R_N-4R->O_N-Sp-5R!H=1R!H_Ext-4CHNS-R_6R!H->S_Ext-2R!H-R',\n",
       "              [<Entry index=96 label=\"Root_Ext-1R!H-R_N-4R->O_N-Sp-5R!H=1R!H_Ext-4CHNS-R_6R!H->S_Ext-2R!H-R\">]),\n",
       "             ('Root_Ext-1R!H-R_N-4R->O_N-Sp-5R!H=1R!H_Ext-4CHNS-R_N-6R!H->S_4CHNS->C',\n",
       "              [<Entry index=97 label=\"Root_Ext-1R!H-R_N-4R->O_N-Sp-5R!H=1R!H_Ext-4CHNS-R_N-6R!H->S_4CHNS->C\">]),\n",
       "             ('Root_Ext-1R!H-R_N-4R->O_N-Sp-5R!H=1R!H_Ext-4CHNS-R_N-6R!H->S_N-4CHNS->C',\n",
       "              [<Entry index=98 label=\"Root_Ext-1R!H-R_N-4R->O_N-Sp-5R!H=1R!H_Ext-4CHNS-R_N-6R!H->S_N-4CHNS->C\">]),\n",
       "             ('Root_4R->H_Sp-2R!H-1R!H_2R!H-u1_N-1R!H->O_1CN->C_2R!H->C',\n",
       "              [<Entry index=99 label=\"Root_4R->H_Sp-2R!H-1R!H_2R!H-u1_N-1R!H->O_1CN->C_2R!H->C\">]),\n",
       "             ('Root_4R->H_Sp-2R!H-1R!H_2R!H-u1_N-1R!H->O_1CN->C_N-2R!H->C',\n",
       "              [<Entry index=100 label=\"Root_4R->H_Sp-2R!H-1R!H_2R!H-u1_N-1R!H->O_1CN->C_N-2R!H->C\">]),\n",
       "             ('Root_4R->H_Sp-2R!H-1R!H_2R!H-u1_N-1R!H->O_N-1CN->C_2R!H->C',\n",
       "              [<Entry index=101 label=\"Root_4R->H_Sp-2R!H-1R!H_2R!H-u1_N-1R!H->O_N-1CN->C_2R!H->C\">]),\n",
       "             ('Root_4R->H_Sp-2R!H-1R!H_2R!H-u1_N-1R!H->O_N-1CN->C_N-2R!H->C',\n",
       "              [<Entry index=102 label=\"Root_4R->H_Sp-2R!H-1R!H_2R!H-u1_N-1R!H->O_N-1CN->C_N-2R!H->C\">]),\n",
       "             ('Root_N-4R->H_4CNOS-u1_1R!H->O_2R!H->C_Ext-4CNOS-R_Sp-5R!H=4CCNNOOSS',\n",
       "              [<Entry index=103 label=\"Root_N-4R->H_4CNOS-u1_1R!H->O_2R!H->C_Ext-4CNOS-R_Sp-5R!H=4CCNNOOSS\">]),\n",
       "             ('Root_N-4R->H_4CNOS-u1_1R!H->O_2R!H->C_Ext-4CNOS-R_N-Sp-5R!H=4CCNNOOSS',\n",
       "              [<Entry index=104 label=\"Root_N-4R->H_4CNOS-u1_1R!H->O_2R!H->C_Ext-4CNOS-R_N-Sp-5R!H=4CCNNOOSS\">]),\n",
       "             ('Root_N-4R->H_4CNOS-u1_1R!H->O_N-2R!H->C_4CNOS->O_Ext-4O-R',\n",
       "              [<Entry index=105 label=\"Root_N-4R->H_4CNOS-u1_1R!H->O_N-2R!H->C_4CNOS->O_Ext-4O-R\">]),\n",
       "             ('Root_N-4R->H_4CNOS-u1_1R!H->O_N-2R!H->C_N-4CNOS->O_4CN->C',\n",
       "              [<Entry index=106 label=\"Root_N-4R->H_4CNOS-u1_1R!H->O_N-2R!H->C_N-4CNOS->O_4CN->C\">]),\n",
       "             ('Root_N-4R->H_4CNOS-u1_1R!H->O_N-2R!H->C_N-4CNOS->O_N-4CN->C',\n",
       "              [<Entry index=107 label=\"Root_N-4R->H_4CNOS-u1_1R!H->O_N-2R!H->C_N-4CNOS->O_N-4CN->C\">]),\n",
       "             ('Root_N-4R->H_4CNOS-u1_N-1R!H->O_4CNOS->O_Ext-4O-R_5R!H-u0',\n",
       "              [<Entry index=108 label=\"Root_N-4R->H_4CNOS-u1_N-1R!H->O_4CNOS->O_Ext-4O-R_5R!H-u0\">]),\n",
       "             ('Root_N-4R->H_4CNOS-u1_N-1R!H->O_4CNOS->O_Ext-4O-R_N-5R!H-u0',\n",
       "              [<Entry index=109 label=\"Root_N-4R->H_4CNOS-u1_N-1R!H->O_4CNOS->O_Ext-4O-R_N-5R!H-u0\">]),\n",
       "             ('Root_N-4R->H_4CNOS-u1_N-1R!H->O_4CNOS->O_Sp-2R!H-1CNS_1CNS->C',\n",
       "              [<Entry index=110 label=\"Root_N-4R->H_4CNOS-u1_N-1R!H->O_4CNOS->O_Sp-2R!H-1CNS_1CNS->C\">]),\n",
       "             ('Root_N-4R->H_4CNOS-u1_N-1R!H->O_4CNOS->O_Sp-2R!H-1CNS_N-1CNS->C',\n",
       "              [<Entry index=111 label=\"Root_N-4R->H_4CNOS-u1_N-1R!H->O_4CNOS->O_Sp-2R!H-1CNS_N-1CNS->C\">]),\n",
       "             ('Root_N-4R->H_4CNOS-u1_N-1R!H->O_4CNOS->O_N-Sp-2R!H-1CNS_1CNS->C',\n",
       "              [<Entry index=112 label=\"Root_N-4R->H_4CNOS-u1_N-1R!H->O_4CNOS->O_N-Sp-2R!H-1CNS_1CNS->C\">]),\n",
       "             ('Root_N-4R->H_4CNOS-u1_N-1R!H->O_4CNOS->O_N-Sp-2R!H-1CNS_N-1CNS->C',\n",
       "              [<Entry index=113 label=\"Root_N-4R->H_4CNOS-u1_N-1R!H->O_4CNOS->O_N-Sp-2R!H-1CNS_N-1CNS->C\">]),\n",
       "             ('Root_N-4R->H_4CNOS-u1_N-1R!H->O_N-4CNOS->O_Ext-4CNS-R_Sp-5R!H#4CCCNNNSSS',\n",
       "              [<Entry index=114 label=\"Root_N-4R->H_4CNOS-u1_N-1R!H->O_N-4CNOS->O_Ext-4CNS-R_Sp-5R!H#4CCCNNNSSS\">]),\n",
       "             ('Root_N-4R->H_4CNOS-u1_N-1R!H->O_N-4CNOS->O_Ext-4CNS-R_N-Sp-5R!H#4CCCNNNSSS',\n",
       "              [<Entry index=115 label=\"Root_N-4R->H_4CNOS-u1_N-1R!H->O_N-4CNOS->O_Ext-4CNS-R_N-Sp-5R!H#4CCCNNNSSS\">]),\n",
       "             ('Root_N-4R->H_4CNOS-u1_N-1R!H->O_N-4CNOS->O_4CNS->C_1CNS->C',\n",
       "              [<Entry index=116 label=\"Root_N-4R->H_4CNOS-u1_N-1R!H->O_N-4CNOS->O_4CNS->C_1CNS->C\">]),\n",
       "             ('Root_N-4R->H_4CNOS-u1_N-1R!H->O_N-4CNOS->O_4CNS->C_N-1CNS->C',\n",
       "              [<Entry index=117 label=\"Root_N-4R->H_4CNOS-u1_N-1R!H->O_N-4CNOS->O_4CNS->C_N-1CNS->C\">]),\n",
       "             ('Root_N-4R->H_4CNOS-u1_N-1R!H->O_N-4CNOS->O_N-4CNS->C_Sp-2R!H-1CNS',\n",
       "              [<Entry index=118 label=\"Root_N-4R->H_4CNOS-u1_N-1R!H->O_N-4CNOS->O_N-4CNS->C_Sp-2R!H-1CNS\">]),\n",
       "             ('Root_N-4R->H_4CNOS-u1_N-1R!H->O_N-4CNOS->O_N-4CNS->C_N-Sp-2R!H-1CNS',\n",
       "              [<Entry index=119 label=\"Root_N-4R->H_4CNOS-u1_N-1R!H->O_N-4CNOS->O_N-4CNS->C_N-Sp-2R!H-1CNS\">]),\n",
       "             ('Root_N-4R->H_N-4CNOS-u1_N-1R!H->O_Sp-2R!H-1CNS_1CNS->C_2R!H->C',\n",
       "              [<Entry index=120 label=\"Root_N-4R->H_N-4CNOS-u1_N-1R!H->O_Sp-2R!H-1CNS_1CNS->C_2R!H->C\">]),\n",
       "             ('Root_N-4R->H_N-4CNOS-u1_N-1R!H->O_Sp-2R!H-1CNS_1CNS->C_N-2R!H->C',\n",
       "              [<Entry index=121 label=\"Root_N-4R->H_N-4CNOS-u1_N-1R!H->O_Sp-2R!H-1CNS_1CNS->C_N-2R!H->C\">]),\n",
       "             ('Root_N-4R->H_N-4CNOS-u1_N-1R!H->O_Sp-2R!H-1CNS_N-1CNS->C_2R!H->C',\n",
       "              [<Entry index=122 label=\"Root_N-4R->H_N-4CNOS-u1_N-1R!H->O_Sp-2R!H-1CNS_N-1CNS->C_2R!H->C\">]),\n",
       "             ('Root_N-4R->H_N-4CNOS-u1_N-1R!H->O_Sp-2R!H-1CNS_N-1CNS->C_N-2R!H->C',\n",
       "              [<Entry index=123 label=\"Root_N-4R->H_N-4CNOS-u1_N-1R!H->O_Sp-2R!H-1CNS_N-1CNS->C_N-2R!H->C\">]),\n",
       "             ('Root_N-4R->H_N-4CNOS-u1_N-1R!H->O_N-Sp-2R!H-1CNS_N-1CNS->C_2R!H->C',\n",
       "              [<Entry index=124 label=\"Root_N-4R->H_N-4CNOS-u1_N-1R!H->O_N-Sp-2R!H-1CNS_N-1CNS->C_2R!H->C\">]),\n",
       "             ('Root_N-4R->H_N-4CNOS-u1_N-1R!H->O_N-Sp-2R!H-1CNS_N-1CNS->C_N-2R!H->C',\n",
       "              [<Entry index=125 label=\"Root_N-4R->H_N-4CNOS-u1_N-1R!H->O_N-Sp-2R!H-1CNS_N-1CNS->C_N-2R!H->C\">]),\n",
       "             ('Root_Ext-1R!H-R_4R->O_Ext-4O-R_Sp-5R!H-1R!H_Ext-5R!H-R_Ext-1R!H-R_Ext-8R!H-R',\n",
       "              [<Entry index=126 label=\"Root_Ext-1R!H-R_4R->O_Ext-4O-R_Sp-5R!H-1R!H_Ext-5R!H-R_Ext-1R!H-R_Ext-8R!H-R\">]),\n",
       "             ('Root_Ext-1R!H-R_N-4R->O_Ext-1R!H-R_4CHNS->C_Ext-4C-R_N-Sp-7R!H#4C_7R!H->C',\n",
       "              [<Entry index=127 label=\"Root_Ext-1R!H-R_N-4R->O_Ext-1R!H-R_4CHNS->C_Ext-4C-R_N-Sp-7R!H#4C_7R!H->C\">]),\n",
       "             ('Root_Ext-1R!H-R_N-4R->O_Ext-1R!H-R_4CHNS->C_Ext-4C-R_N-Sp-7R!H#4C_N-7R!H->C',\n",
       "              [<Entry index=128 label=\"Root_Ext-1R!H-R_N-4R->O_Ext-1R!H-R_4CHNS->C_Ext-4C-R_N-Sp-7R!H#4C_N-7R!H->C\">]),\n",
       "             ('Root_Ext-1R!H-R_N-4R->O_N-Sp-5R!H=1R!H_Ext-4CHNS-R_N-6R!H->S_4CHNS->C_Sp-6BrBrBrCCCClClClFFFIIINNNOOOPPPSiSiSi#4C',\n",
       "              [<Entry index=129 label=\"Root_Ext-1R!H-R_N-4R->O_N-Sp-5R!H=1R!H_Ext-4CHNS-R_N-6R!H->S_4CHNS->C_Sp-6BrBrBrCCCClClClFFFIIINNNOOOPPPSiSiSi#4C\">]),\n",
       "             ('Root_Ext-1R!H-R_N-4R->O_N-Sp-5R!H=1R!H_Ext-4CHNS-R_N-6R!H->S_4CHNS->C_N-Sp-6BrBrBrCCCClClClFFFIIINNNOOOPPPSiSiSi#4C',\n",
       "              [<Entry index=130 label=\"Root_Ext-1R!H-R_N-4R->O_N-Sp-5R!H=1R!H_Ext-4CHNS-R_N-6R!H->S_4CHNS->C_N-Sp-6BrBrBrCCCClClClFFFIIINNNOOOPPPSiSiSi#4C\">]),\n",
       "             ('Root_4R->H_Sp-2R!H-1R!H_2R!H-u1_N-1R!H->O_1CN->C_N-2R!H->C_2NO->N',\n",
       "              [<Entry index=131 label=\"Root_4R->H_Sp-2R!H-1R!H_2R!H-u1_N-1R!H->O_1CN->C_N-2R!H->C_2NO->N\">]),\n",
       "             ('Root_4R->H_Sp-2R!H-1R!H_2R!H-u1_N-1R!H->O_1CN->C_N-2R!H->C_N-2NO->N',\n",
       "              [<Entry index=132 label=\"Root_4R->H_Sp-2R!H-1R!H_2R!H-u1_N-1R!H->O_1CN->C_N-2R!H->C_N-2NO->N\">]),\n",
       "             ('Root_4R->H_Sp-2R!H-1R!H_2R!H-u1_N-1R!H->O_N-1CN->C_N-2R!H->C_2NO->N',\n",
       "              [<Entry index=133 label=\"Root_4R->H_Sp-2R!H-1R!H_2R!H-u1_N-1R!H->O_N-1CN->C_N-2R!H->C_2NO->N\">]),\n",
       "             ('Root_4R->H_Sp-2R!H-1R!H_2R!H-u1_N-1R!H->O_N-1CN->C_N-2R!H->C_N-2NO->N',\n",
       "              [<Entry index=134 label=\"Root_4R->H_Sp-2R!H-1R!H_2R!H-u1_N-1R!H->O_N-1CN->C_N-2R!H->C_N-2NO->N\">]),\n",
       "             ('Root_N-4R->H_4CNOS-u1_1R!H->O_2R!H->C_Ext-4CNOS-R_Sp-5R!H=4CCNNOOSS_5R!H->C',\n",
       "              [<Entry index=135 label=\"Root_N-4R->H_4CNOS-u1_1R!H->O_2R!H->C_Ext-4CNOS-R_Sp-5R!H=4CCNNOOSS_5R!H->C\">]),\n",
       "             ('Root_N-4R->H_4CNOS-u1_1R!H->O_2R!H->C_Ext-4CNOS-R_Sp-5R!H=4CCNNOOSS_N-5R!H->C',\n",
       "              [<Entry index=136 label=\"Root_N-4R->H_4CNOS-u1_1R!H->O_2R!H->C_Ext-4CNOS-R_Sp-5R!H=4CCNNOOSS_N-5R!H->C\">]),\n",
       "             ('Root_N-4R->H_4CNOS-u1_1R!H->O_2R!H->C_Ext-4CNOS-R_N-Sp-5R!H=4CCNNOOSS_Ext-4CNOS-R',\n",
       "              [<Entry index=137 label=\"Root_N-4R->H_4CNOS-u1_1R!H->O_2R!H->C_Ext-4CNOS-R_N-Sp-5R!H=4CCNNOOSS_Ext-4CNOS-R\">]),\n",
       "             ('Root_N-4R->H_4CNOS-u1_1R!H->O_2R!H->C_Ext-4CNOS-R_N-Sp-5R!H=4CCNNOOSS_Ext-5R!H-R',\n",
       "              [<Entry index=138 label=\"Root_N-4R->H_4CNOS-u1_1R!H->O_2R!H->C_Ext-4CNOS-R_N-Sp-5R!H=4CCNNOOSS_Ext-5R!H-R\">]),\n",
       "             ('Root_N-4R->H_4CNOS-u1_1R!H->O_2R!H->C_Ext-4CNOS-R_N-Sp-5R!H=4CCNNOOSS_4CNOS->C',\n",
       "              [<Entry index=139 label=\"Root_N-4R->H_4CNOS-u1_1R!H->O_2R!H->C_Ext-4CNOS-R_N-Sp-5R!H=4CCNNOOSS_4CNOS->C\">]),\n",
       "             ('Root_N-4R->H_4CNOS-u1_1R!H->O_2R!H->C_Ext-4CNOS-R_N-Sp-5R!H=4CCNNOOSS_N-4CNOS->C',\n",
       "              [<Entry index=140 label=\"Root_N-4R->H_4CNOS-u1_1R!H->O_2R!H->C_Ext-4CNOS-R_N-Sp-5R!H=4CCNNOOSS_N-4CNOS->C\">]),\n",
       "             ('Root_N-4R->H_4CNOS-u1_1R!H->O_N-2R!H->C_4CNOS->O_Ext-4O-R_2NOS->N',\n",
       "              [<Entry index=141 label=\"Root_N-4R->H_4CNOS-u1_1R!H->O_N-2R!H->C_4CNOS->O_Ext-4O-R_2NOS->N\">]),\n",
       "             ('Root_N-4R->H_4CNOS-u1_1R!H->O_N-2R!H->C_4CNOS->O_Ext-4O-R_N-2NOS->N',\n",
       "              [<Entry index=142 label=\"Root_N-4R->H_4CNOS-u1_1R!H->O_N-2R!H->C_4CNOS->O_Ext-4O-R_N-2NOS->N\">]),\n",
       "             ('Root_N-4R->H_4CNOS-u1_1R!H->O_N-2R!H->C_N-4CNOS->O_N-4CN->C_Ext-4N-R',\n",
       "              [<Entry index=143 label=\"Root_N-4R->H_4CNOS-u1_1R!H->O_N-2R!H->C_N-4CNOS->O_N-4CN->C_Ext-4N-R\">]),\n",
       "             ('Root_N-4R->H_4CNOS-u1_1R!H->O_N-2R!H->C_N-4CNOS->O_N-4CN->C_2NOS->N',\n",
       "              [<Entry index=144 label=\"Root_N-4R->H_4CNOS-u1_1R!H->O_N-2R!H->C_N-4CNOS->O_N-4CN->C_2NOS->N\">]),\n",
       "             ('Root_N-4R->H_4CNOS-u1_1R!H->O_N-2R!H->C_N-4CNOS->O_N-4CN->C_N-2NOS->N',\n",
       "              [<Entry index=145 label=\"Root_N-4R->H_4CNOS-u1_1R!H->O_N-2R!H->C_N-4CNOS->O_N-4CN->C_N-2NOS->N\">]),\n",
       "             ('Root_N-4R->H_4CNOS-u1_N-1R!H->O_4CNOS->O_Ext-4O-R_5R!H-u0_Sp-2R!H-1CNS',\n",
       "              [<Entry index=146 label=\"Root_N-4R->H_4CNOS-u1_N-1R!H->O_4CNOS->O_Ext-4O-R_5R!H-u0_Sp-2R!H-1CNS\">]),\n",
       "             ('Root_N-4R->H_4CNOS-u1_N-1R!H->O_4CNOS->O_Ext-4O-R_5R!H-u0_N-Sp-2R!H-1CNS',\n",
       "              [<Entry index=147 label=\"Root_N-4R->H_4CNOS-u1_N-1R!H->O_4CNOS->O_Ext-4O-R_5R!H-u0_N-Sp-2R!H-1CNS\">]),\n",
       "             ('Root_N-4R->H_4CNOS-u1_N-1R!H->O_4CNOS->O_Ext-4O-R_N-5R!H-u0_Sp-2R!H-1CNS',\n",
       "              [<Entry index=148 label=\"Root_N-4R->H_4CNOS-u1_N-1R!H->O_4CNOS->O_Ext-4O-R_N-5R!H-u0_Sp-2R!H-1CNS\">]),\n",
       "             ('Root_N-4R->H_4CNOS-u1_N-1R!H->O_4CNOS->O_Ext-4O-R_N-5R!H-u0_N-Sp-2R!H-1CNS',\n",
       "              [<Entry index=149 label=\"Root_N-4R->H_4CNOS-u1_N-1R!H->O_4CNOS->O_Ext-4O-R_N-5R!H-u0_N-Sp-2R!H-1CNS\">]),\n",
       "             ('Root_N-4R->H_4CNOS-u1_N-1R!H->O_4CNOS->O_Sp-2R!H-1CNS_1CNS->C_2R!H->C',\n",
       "              [<Entry index=150 label=\"Root_N-4R->H_4CNOS-u1_N-1R!H->O_4CNOS->O_Sp-2R!H-1CNS_1CNS->C_2R!H->C\">]),\n",
       "             ('Root_N-4R->H_4CNOS-u1_N-1R!H->O_4CNOS->O_Sp-2R!H-1CNS_1CNS->C_N-2R!H->C',\n",
       "              [<Entry index=151 label=\"Root_N-4R->H_4CNOS-u1_N-1R!H->O_4CNOS->O_Sp-2R!H-1CNS_1CNS->C_N-2R!H->C\">]),\n",
       "             ('Root_N-4R->H_4CNOS-u1_N-1R!H->O_4CNOS->O_Sp-2R!H-1CNS_N-1CNS->C_2R!H->N',\n",
       "              [<Entry index=152 label=\"Root_N-4R->H_4CNOS-u1_N-1R!H->O_4CNOS->O_Sp-2R!H-1CNS_N-1CNS->C_2R!H->N\">]),\n",
       "             ('Root_N-4R->H_4CNOS-u1_N-1R!H->O_4CNOS->O_Sp-2R!H-1CNS_N-1CNS->C_N-2R!H->N',\n",
       "              [<Entry index=153 label=\"Root_N-4R->H_4CNOS-u1_N-1R!H->O_4CNOS->O_Sp-2R!H-1CNS_N-1CNS->C_N-2R!H->N\">]),\n",
       "             ('Root_N-4R->H_4CNOS-u1_N-1R!H->O_4CNOS->O_N-Sp-2R!H-1CNS_N-1CNS->C_2R!H->C',\n",
       "              [<Entry index=154 label=\"Root_N-4R->H_4CNOS-u1_N-1R!H->O_4CNOS->O_N-Sp-2R!H-1CNS_N-1CNS->C_2R!H->C\">]),\n",
       "             ('Root_N-4R->H_4CNOS-u1_N-1R!H->O_4CNOS->O_N-Sp-2R!H-1CNS_N-1CNS->C_N-2R!H->C',\n",
       "              [<Entry index=155 label=\"Root_N-4R->H_4CNOS-u1_N-1R!H->O_4CNOS->O_N-Sp-2R!H-1CNS_N-1CNS->C_N-2R!H->C\">]),\n",
       "             ('Root_N-4R->H_4CNOS-u1_N-1R!H->O_N-4CNOS->O_Ext-4CNS-R_N-Sp-5R!H#4CCCNNNSSS_2R!H->S',\n",
       "              [<Entry index=156 label=\"Root_N-4R->H_4CNOS-u1_N-1R!H->O_N-4CNOS->O_Ext-4CNS-R_N-Sp-5R!H#4CCCNNNSSS_2R!H->S\">]),\n",
       "             ('Root_N-4R->H_4CNOS-u1_N-1R!H->O_N-4CNOS->O_Ext-4CNS-R_N-Sp-5R!H#4CCCNNNSSS_N-2R!H->S',\n",
       "              [<Entry index=157 label=\"Root_N-4R->H_4CNOS-u1_N-1R!H->O_N-4CNOS->O_Ext-4CNS-R_N-Sp-5R!H#4CCCNNNSSS_N-2R!H->S\">]),\n",
       "             ('Root_N-4R->H_4CNOS-u1_N-1R!H->O_N-4CNOS->O_4CNS->C_1CNS->C_Sp-2R!H-1C',\n",
       "              [<Entry index=158 label=\"Root_N-4R->H_4CNOS-u1_N-1R!H->O_N-4CNOS->O_4CNS->C_1CNS->C_Sp-2R!H-1C\">]),\n",
       "             ('Root_N-4R->H_4CNOS-u1_N-1R!H->O_N-4CNOS->O_4CNS->C_1CNS->C_N-Sp-2R!H-1C',\n",
       "              [<Entry index=159 label=\"Root_N-4R->H_4CNOS-u1_N-1R!H->O_N-4CNOS->O_4CNS->C_1CNS->C_N-Sp-2R!H-1C\">]),\n",
       "             ('Root_N-4R->H_4CNOS-u1_N-1R!H->O_N-4CNOS->O_4CNS->C_N-1CNS->C_2R!H->C',\n",
       "              [<Entry index=160 label=\"Root_N-4R->H_4CNOS-u1_N-1R!H->O_N-4CNOS->O_4CNS->C_N-1CNS->C_2R!H->C\">]),\n",
       "             ('Root_N-4R->H_4CNOS-u1_N-1R!H->O_N-4CNOS->O_4CNS->C_N-1CNS->C_N-2R!H->C',\n",
       "              [<Entry index=161 label=\"Root_N-4R->H_4CNOS-u1_N-1R!H->O_N-4CNOS->O_4CNS->C_N-1CNS->C_N-2R!H->C\">]),\n",
       "             ('Root_N-4R->H_4CNOS-u1_N-1R!H->O_N-4CNOS->O_N-4CNS->C_Sp-2R!H-1CNS_2R!H->N',\n",
       "              [<Entry index=162 label=\"Root_N-4R->H_4CNOS-u1_N-1R!H->O_N-4CNOS->O_N-4CNS->C_Sp-2R!H-1CNS_2R!H->N\">]),\n",
       "             ('Root_N-4R->H_4CNOS-u1_N-1R!H->O_N-4CNOS->O_N-4CNS->C_Sp-2R!H-1CNS_N-2R!H->N',\n",
       "              [<Entry index=163 label=\"Root_N-4R->H_4CNOS-u1_N-1R!H->O_N-4CNOS->O_N-4CNS->C_Sp-2R!H-1CNS_N-2R!H->N\">]),\n",
       "             ('Root_N-4R->H_4CNOS-u1_N-1R!H->O_N-4CNOS->O_N-4CNS->C_N-Sp-2R!H-1CNS_1CNS->C',\n",
       "              [<Entry index=164 label=\"Root_N-4R->H_4CNOS-u1_N-1R!H->O_N-4CNOS->O_N-4CNS->C_N-Sp-2R!H-1CNS_1CNS->C\">]),\n",
       "             ('Root_N-4R->H_4CNOS-u1_N-1R!H->O_N-4CNOS->O_N-4CNS->C_N-Sp-2R!H-1CNS_N-1CNS->C',\n",
       "              [<Entry index=165 label=\"Root_N-4R->H_4CNOS-u1_N-1R!H->O_N-4CNOS->O_N-4CNS->C_N-Sp-2R!H-1CNS_N-1CNS->C\">]),\n",
       "             ('Root_N-4R->H_N-4CNOS-u1_N-1R!H->O_Sp-2R!H-1CNS_N-1CNS->C_N-2R!H->C_2NO-u1',\n",
       "              [<Entry index=166 label=\"Root_N-4R->H_N-4CNOS-u1_N-1R!H->O_Sp-2R!H-1CNS_N-1CNS->C_N-2R!H->C_2NO-u1\">]),\n",
       "             ('Root_N-4R->H_N-4CNOS-u1_N-1R!H->O_Sp-2R!H-1CNS_N-1CNS->C_N-2R!H->C_N-2NO-u1',\n",
       "              [<Entry index=167 label=\"Root_N-4R->H_N-4CNOS-u1_N-1R!H->O_Sp-2R!H-1CNS_N-1CNS->C_N-2R!H->C_N-2NO-u1\">]),\n",
       "             ('Root_Ext-1R!H-R_N-4R->O_Ext-1R!H-R_4CHNS->C_Ext-4C-R_N-Sp-7R!H#4C_7R!H->C_Ext-4C-R',\n",
       "              [<Entry index=168 label=\"Root_Ext-1R!H-R_N-4R->O_Ext-1R!H-R_4CHNS->C_Ext-4C-R_N-Sp-7R!H#4C_7R!H->C_Ext-4C-R\">]),\n",
       "             ('Root_Ext-1R!H-R_N-4R->O_Ext-1R!H-R_4CHNS->C_Ext-4C-R_N-Sp-7R!H#4C_7R!H->C_Ext-7C-R',\n",
       "              [<Entry index=169 label=\"Root_Ext-1R!H-R_N-4R->O_Ext-1R!H-R_4CHNS->C_Ext-4C-R_N-Sp-7R!H#4C_7R!H->C_Ext-7C-R\">]),\n",
       "             ('Root_Ext-1R!H-R_N-4R->O_Ext-1R!H-R_4CHNS->C_Ext-4C-R_N-Sp-7R!H#4C_7R!H->C_Sp-7C-4C',\n",
       "              [<Entry index=170 label=\"Root_Ext-1R!H-R_N-4R->O_Ext-1R!H-R_4CHNS->C_Ext-4C-R_N-Sp-7R!H#4C_7R!H->C_Sp-7C-4C\">]),\n",
       "             ('Root_Ext-1R!H-R_N-4R->O_Ext-1R!H-R_4CHNS->C_Ext-4C-R_N-Sp-7R!H#4C_7R!H->C_N-Sp-7C-4C',\n",
       "              [<Entry index=171 label=\"Root_Ext-1R!H-R_N-4R->O_Ext-1R!H-R_4CHNS->C_Ext-4C-R_N-Sp-7R!H#4C_7R!H->C_N-Sp-7C-4C\">]),\n",
       "             ('Root_Ext-1R!H-R_N-4R->O_N-Sp-5R!H=1R!H_Ext-4CHNS-R_N-6R!H->S_4CHNS->C_N-Sp-6BrBrBrCCCClClClFFFIIINNNOOOPPPSiSiSi#4C_6BrCClFINOPSi->C',\n",
       "              [<Entry index=172 label=\"Root_Ext-1R!H-R_N-4R->O_N-Sp-5R!H=1R!H_Ext-4CHNS-R_N-6R!H->S_4CHNS->C_N-Sp-6BrBrBrCCCClClClFFFIIINNNOOOPPPSiSiSi#4C_6BrCClFINOPSi->C\">]),\n",
       "             ('Root_Ext-1R!H-R_N-4R->O_N-Sp-5R!H=1R!H_Ext-4CHNS-R_N-6R!H->S_4CHNS->C_N-Sp-6BrBrBrCCCClClClFFFIIINNNOOOPPPSiSiSi#4C_N-6BrCClFINOPSi->C',\n",
       "              [<Entry index=173 label=\"Root_Ext-1R!H-R_N-4R->O_N-Sp-5R!H=1R!H_Ext-4CHNS-R_N-6R!H->S_4CHNS->C_N-Sp-6BrBrBrCCCClClClFFFIIINNNOOOPPPSiSiSi#4C_N-6BrCClFINOPSi->C\">]),\n",
       "             ('Root_N-4R->H_4CNOS-u1_1R!H->O_2R!H->C_Ext-4CNOS-R_N-Sp-5R!H=4CCNNOOSS_Ext-4CNOS-R_Ext-4CNOS-R',\n",
       "              [<Entry index=174 label=\"Root_N-4R->H_4CNOS-u1_1R!H->O_2R!H->C_Ext-4CNOS-R_N-Sp-5R!H=4CCNNOOSS_Ext-4CNOS-R_Ext-4CNOS-R\">]),\n",
       "             ('Root_N-4R->H_4CNOS-u1_1R!H->O_2R!H->C_Ext-4CNOS-R_N-Sp-5R!H=4CCNNOOSS_4CNOS->C_Sp-5R!H-4C',\n",
       "              [<Entry index=175 label=\"Root_N-4R->H_4CNOS-u1_1R!H->O_2R!H->C_Ext-4CNOS-R_N-Sp-5R!H=4CCNNOOSS_4CNOS->C_Sp-5R!H-4C\">]),\n",
       "             ('Root_N-4R->H_4CNOS-u1_1R!H->O_2R!H->C_Ext-4CNOS-R_N-Sp-5R!H=4CCNNOOSS_4CNOS->C_N-Sp-5R!H-4C',\n",
       "              [<Entry index=176 label=\"Root_N-4R->H_4CNOS-u1_1R!H->O_2R!H->C_Ext-4CNOS-R_N-Sp-5R!H=4CCNNOOSS_4CNOS->C_N-Sp-5R!H-4C\">]),\n",
       "             ('Root_N-4R->H_4CNOS-u1_1R!H->O_2R!H->C_Ext-4CNOS-R_N-Sp-5R!H=4CCNNOOSS_N-4CNOS->C_5R!H-u0',\n",
       "              [<Entry index=177 label=\"Root_N-4R->H_4CNOS-u1_1R!H->O_2R!H->C_Ext-4CNOS-R_N-Sp-5R!H=4CCNNOOSS_N-4CNOS->C_5R!H-u0\">]),\n",
       "             ('Root_N-4R->H_4CNOS-u1_1R!H->O_2R!H->C_Ext-4CNOS-R_N-Sp-5R!H=4CCNNOOSS_N-4CNOS->C_N-5R!H-u0',\n",
       "              [<Entry index=178 label=\"Root_N-4R->H_4CNOS-u1_1R!H->O_2R!H->C_Ext-4CNOS-R_N-Sp-5R!H=4CCNNOOSS_N-4CNOS->C_N-5R!H-u0\">]),\n",
       "             ('Root_N-4R->H_4CNOS-u1_1R!H->O_N-2R!H->C_N-4CNOS->O_N-4CN->C_Ext-4N-R_5R!H->N',\n",
       "              [<Entry index=179 label=\"Root_N-4R->H_4CNOS-u1_1R!H->O_N-2R!H->C_N-4CNOS->O_N-4CN->C_Ext-4N-R_5R!H->N\">]),\n",
       "             ('Root_N-4R->H_4CNOS-u1_1R!H->O_N-2R!H->C_N-4CNOS->O_N-4CN->C_Ext-4N-R_N-5R!H->N',\n",
       "              [<Entry index=180 label=\"Root_N-4R->H_4CNOS-u1_1R!H->O_N-2R!H->C_N-4CNOS->O_N-4CN->C_Ext-4N-R_N-5R!H->N\">]),\n",
       "             ('Root_N-4R->H_4CNOS-u1_N-1R!H->O_4CNOS->O_Ext-4O-R_5R!H-u0_Sp-2R!H-1CNS_2R!H->N',\n",
       "              [<Entry index=181 label=\"Root_N-4R->H_4CNOS-u1_N-1R!H->O_4CNOS->O_Ext-4O-R_5R!H-u0_Sp-2R!H-1CNS_2R!H->N\">]),\n",
       "             ('Root_N-4R->H_4CNOS-u1_N-1R!H->O_4CNOS->O_Ext-4O-R_5R!H-u0_Sp-2R!H-1CNS_N-2R!H->N',\n",
       "              [<Entry index=182 label=\"Root_N-4R->H_4CNOS-u1_N-1R!H->O_4CNOS->O_Ext-4O-R_5R!H-u0_Sp-2R!H-1CNS_N-2R!H->N\">]),\n",
       "             ('Root_N-4R->H_4CNOS-u1_N-1R!H->O_4CNOS->O_Ext-4O-R_5R!H-u0_N-Sp-2R!H-1CNS_1CNS->C',\n",
       "              [<Entry index=183 label=\"Root_N-4R->H_4CNOS-u1_N-1R!H->O_4CNOS->O_Ext-4O-R_5R!H-u0_N-Sp-2R!H-1CNS_1CNS->C\">]),\n",
       "             ('Root_N-4R->H_4CNOS-u1_N-1R!H->O_4CNOS->O_Ext-4O-R_5R!H-u0_N-Sp-2R!H-1CNS_N-1CNS->C',\n",
       "              [<Entry index=184 label=\"Root_N-4R->H_4CNOS-u1_N-1R!H->O_4CNOS->O_Ext-4O-R_5R!H-u0_N-Sp-2R!H-1CNS_N-1CNS->C\">]),\n",
       "             ('Root_N-4R->H_4CNOS-u1_N-1R!H->O_4CNOS->O_Ext-4O-R_N-5R!H-u0_N-Sp-2R!H-1CNS_1CNS->C',\n",
       "              [<Entry index=185 label=\"Root_N-4R->H_4CNOS-u1_N-1R!H->O_4CNOS->O_Ext-4O-R_N-5R!H-u0_N-Sp-2R!H-1CNS_1CNS->C\">]),\n",
       "             ('Root_N-4R->H_4CNOS-u1_N-1R!H->O_4CNOS->O_Ext-4O-R_N-5R!H-u0_N-Sp-2R!H-1CNS_N-1CNS->C',\n",
       "              [<Entry index=186 label=\"Root_N-4R->H_4CNOS-u1_N-1R!H->O_4CNOS->O_Ext-4O-R_N-5R!H-u0_N-Sp-2R!H-1CNS_N-1CNS->C\">]),\n",
       "             ('Root_N-4R->H_4CNOS-u1_N-1R!H->O_4CNOS->O_Sp-2R!H-1CNS_N-1CNS->C_2R!H->N_2N-u1',\n",
       "              [<Entry index=187 label=\"Root_N-4R->H_4CNOS-u1_N-1R!H->O_4CNOS->O_Sp-2R!H-1CNS_N-1CNS->C_2R!H->N_2N-u1\">]),\n",
       "             ('Root_N-4R->H_4CNOS-u1_N-1R!H->O_4CNOS->O_Sp-2R!H-1CNS_N-1CNS->C_2R!H->N_N-2N-u1',\n",
       "              [<Entry index=188 label=\"Root_N-4R->H_4CNOS-u1_N-1R!H->O_4CNOS->O_Sp-2R!H-1CNS_N-1CNS->C_2R!H->N_N-2N-u1\">]),\n",
       "             ('Root_N-4R->H_4CNOS-u1_N-1R!H->O_4CNOS->O_Sp-2R!H-1CNS_N-1CNS->C_N-2R!H->N_2CO->C',\n",
       "              [<Entry index=189 label=\"Root_N-4R->H_4CNOS-u1_N-1R!H->O_4CNOS->O_Sp-2R!H-1CNS_N-1CNS->C_N-2R!H->N_2CO->C\">]),\n",
       "             ('Root_N-4R->H_4CNOS-u1_N-1R!H->O_4CNOS->O_Sp-2R!H-1CNS_N-1CNS->C_N-2R!H->N_N-2CO->C',\n",
       "              [<Entry index=190 label=\"Root_N-4R->H_4CNOS-u1_N-1R!H->O_4CNOS->O_Sp-2R!H-1CNS_N-1CNS->C_N-2R!H->N_N-2CO->C\">]),\n",
       "             ('Root_N-4R->H_4CNOS-u1_N-1R!H->O_N-4CNOS->O_Ext-4CNS-R_N-Sp-5R!H#4CCCNNNSSS_N-2R!H->S_5R!H->O',\n",
       "              [<Entry index=191 label=\"Root_N-4R->H_4CNOS-u1_N-1R!H->O_N-4CNOS->O_Ext-4CNS-R_N-Sp-5R!H#4CCCNNNSSS_N-2R!H->S_5R!H->O\">]),\n",
       "             ('Root_N-4R->H_4CNOS-u1_N-1R!H->O_N-4CNOS->O_Ext-4CNS-R_N-Sp-5R!H#4CCCNNNSSS_N-2R!H->S_N-5R!H->O',\n",
       "              [<Entry index=192 label=\"Root_N-4R->H_4CNOS-u1_N-1R!H->O_N-4CNOS->O_Ext-4CNS-R_N-Sp-5R!H#4CCCNNNSSS_N-2R!H->S_N-5R!H->O\">]),\n",
       "             ('Root_N-4R->H_4CNOS-u1_N-1R!H->O_N-4CNOS->O_4CNS->C_1CNS->C_Sp-2R!H-1C_2R!H->C',\n",
       "              [<Entry index=193 label=\"Root_N-4R->H_4CNOS-u1_N-1R!H->O_N-4CNOS->O_4CNS->C_1CNS->C_Sp-2R!H-1C_2R!H->C\">]),\n",
       "             ('Root_N-4R->H_4CNOS-u1_N-1R!H->O_N-4CNOS->O_4CNS->C_1CNS->C_Sp-2R!H-1C_N-2R!H->C',\n",
       "              [<Entry index=194 label=\"Root_N-4R->H_4CNOS-u1_N-1R!H->O_N-4CNOS->O_4CNS->C_1CNS->C_Sp-2R!H-1C_N-2R!H->C\">]),\n",
       "             ('Root_N-4R->H_4CNOS-u1_N-1R!H->O_N-4CNOS->O_4CNS->C_N-1CNS->C_2R!H->C_Sp-2C-1N',\n",
       "              [<Entry index=195 label=\"Root_N-4R->H_4CNOS-u1_N-1R!H->O_N-4CNOS->O_4CNS->C_N-1CNS->C_2R!H->C_Sp-2C-1N\">]),\n",
       "             ('Root_N-4R->H_4CNOS-u1_N-1R!H->O_N-4CNOS->O_4CNS->C_N-1CNS->C_2R!H->C_N-Sp-2C-1N',\n",
       "              [<Entry index=196 label=\"Root_N-4R->H_4CNOS-u1_N-1R!H->O_N-4CNOS->O_4CNS->C_N-1CNS->C_2R!H->C_N-Sp-2C-1N\">]),\n",
       "             ('Root_N-4R->H_4CNOS-u1_N-1R!H->O_N-4CNOS->O_4CNS->C_N-1CNS->C_N-2R!H->C_2NO-u1',\n",
       "              [<Entry index=197 label=\"Root_N-4R->H_4CNOS-u1_N-1R!H->O_N-4CNOS->O_4CNS->C_N-1CNS->C_N-2R!H->C_2NO-u1\">]),\n",
       "             ('Root_N-4R->H_4CNOS-u1_N-1R!H->O_N-4CNOS->O_4CNS->C_N-1CNS->C_N-2R!H->C_N-2NO-u1',\n",
       "              [<Entry index=198 label=\"Root_N-4R->H_4CNOS-u1_N-1R!H->O_N-4CNOS->O_4CNS->C_N-1CNS->C_N-2R!H->C_N-2NO-u1\">]),\n",
       "             ('Root_N-4R->H_4CNOS-u1_N-1R!H->O_N-4CNOS->O_N-4CNS->C_Sp-2R!H-1CNS_2R!H->N_2N-u1',\n",
       "              [<Entry index=199 label=\"Root_N-4R->H_4CNOS-u1_N-1R!H->O_N-4CNOS->O_N-4CNS->C_Sp-2R!H-1CNS_2R!H->N_2N-u1\">]),\n",
       "             ('Root_N-4R->H_4CNOS-u1_N-1R!H->O_N-4CNOS->O_N-4CNS->C_Sp-2R!H-1CNS_2R!H->N_N-2N-u1',\n",
       "              [<Entry index=200 label=\"Root_N-4R->H_4CNOS-u1_N-1R!H->O_N-4CNOS->O_N-4CNS->C_Sp-2R!H-1CNS_2R!H->N_N-2N-u1\">]),\n",
       "             ('Root_N-4R->H_N-4CNOS-u1_N-1R!H->O_Sp-2R!H-1CNS_N-1CNS->C_N-2R!H->C_2NO-u1_2NO->N',\n",
       "              [<Entry index=201 label=\"Root_N-4R->H_N-4CNOS-u1_N-1R!H->O_Sp-2R!H-1CNS_N-1CNS->C_N-2R!H->C_2NO-u1_2NO->N\">]),\n",
       "             ('Root_N-4R->H_N-4CNOS-u1_N-1R!H->O_Sp-2R!H-1CNS_N-1CNS->C_N-2R!H->C_2NO-u1_N-2NO->N',\n",
       "              [<Entry index=202 label=\"Root_N-4R->H_N-4CNOS-u1_N-1R!H->O_Sp-2R!H-1CNS_N-1CNS->C_N-2R!H->C_2NO-u1_N-2NO->N\">]),\n",
       "             ('Root_Ext-1R!H-R_N-4R->O_Ext-1R!H-R_4CHNS->C_Ext-4C-R_N-Sp-7R!H#4C_7R!H->C_Ext-4C-R_Ext-4C-R',\n",
       "              [<Entry index=203 label=\"Root_Ext-1R!H-R_N-4R->O_Ext-1R!H-R_4CHNS->C_Ext-4C-R_N-Sp-7R!H#4C_7R!H->C_Ext-4C-R_Ext-4C-R\">]),\n",
       "             ('Root_Ext-1R!H-R_N-4R->O_N-Sp-5R!H=1R!H_Ext-4CHNS-R_N-6R!H->S_4CHNS->C_N-Sp-6BrBrBrCCCClClClFFFIIINNNOOOPPPSiSiSi#4C_6BrCClFINOPSi->C_1R!H-inRing',\n",
       "              [<Entry index=204 label=\"Root_Ext-1R!H-R_N-4R->O_N-Sp-5R!H=1R!H_Ext-4CHNS-R_N-6R!H->S_4CHNS->C_N-Sp-6BrBrBrCCCClClClFFFIIINNNOOOPPPSiSiSi#4C_6BrCClFINOPSi->C_1R!H-inRing\">]),\n",
       "             ('Root_Ext-1R!H-R_N-4R->O_N-Sp-5R!H=1R!H_Ext-4CHNS-R_N-6R!H->S_4CHNS->C_N-Sp-6BrBrBrCCCClClClFFFIIINNNOOOPPPSiSiSi#4C_6BrCClFINOPSi->C_N-1R!H-inRing',\n",
       "              [<Entry index=205 label=\"Root_Ext-1R!H-R_N-4R->O_N-Sp-5R!H=1R!H_Ext-4CHNS-R_N-6R!H->S_4CHNS->C_N-Sp-6BrBrBrCCCClClClFFFIIINNNOOOPPPSiSiSi#4C_6BrCClFINOPSi->C_N-1R!H-inRing\">]),\n",
       "             ('Root_N-4R->H_4CNOS-u1_1R!H->O_2R!H->C_Ext-4CNOS-R_N-Sp-5R!H=4CCNNOOSS_4CNOS->C_Sp-5R!H-4C_5R!H->C',\n",
       "              [<Entry index=206 label=\"Root_N-4R->H_4CNOS-u1_1R!H->O_2R!H->C_Ext-4CNOS-R_N-Sp-5R!H=4CCNNOOSS_4CNOS->C_Sp-5R!H-4C_5R!H->C\">]),\n",
       "             ('Root_N-4R->H_4CNOS-u1_1R!H->O_2R!H->C_Ext-4CNOS-R_N-Sp-5R!H=4CCNNOOSS_4CNOS->C_Sp-5R!H-4C_N-5R!H->C',\n",
       "              [<Entry index=207 label=\"Root_N-4R->H_4CNOS-u1_1R!H->O_2R!H->C_Ext-4CNOS-R_N-Sp-5R!H=4CCNNOOSS_4CNOS->C_Sp-5R!H-4C_N-5R!H->C\">]),\n",
       "             ('Root_N-4R->H_4CNOS-u1_1R!H->O_2R!H->C_Ext-4CNOS-R_N-Sp-5R!H=4CCNNOOSS_N-4CNOS->C_5R!H-u0_5R!H->C',\n",
       "              [<Entry index=208 label=\"Root_N-4R->H_4CNOS-u1_1R!H->O_2R!H->C_Ext-4CNOS-R_N-Sp-5R!H=4CCNNOOSS_N-4CNOS->C_5R!H-u0_5R!H->C\">]),\n",
       "             ('Root_N-4R->H_4CNOS-u1_1R!H->O_2R!H->C_Ext-4CNOS-R_N-Sp-5R!H=4CCNNOOSS_N-4CNOS->C_5R!H-u0_N-5R!H->C',\n",
       "              [<Entry index=209 label=\"Root_N-4R->H_4CNOS-u1_1R!H->O_2R!H->C_Ext-4CNOS-R_N-Sp-5R!H=4CCNNOOSS_N-4CNOS->C_5R!H-u0_N-5R!H->C\">]),\n",
       "             ('Root_N-4R->H_4CNOS-u1_1R!H->O_N-2R!H->C_N-4CNOS->O_N-4CN->C_Ext-4N-R_N-5R!H->N_5BrCClFIOPSSi->C',\n",
       "              [<Entry index=210 label=\"Root_N-4R->H_4CNOS-u1_1R!H->O_N-2R!H->C_N-4CNOS->O_N-4CN->C_Ext-4N-R_N-5R!H->N_5BrCClFIOPSSi->C\">]),\n",
       "             ('Root_N-4R->H_4CNOS-u1_1R!H->O_N-2R!H->C_N-4CNOS->O_N-4CN->C_Ext-4N-R_N-5R!H->N_N-5BrCClFIOPSSi->C',\n",
       "              [<Entry index=211 label=\"Root_N-4R->H_4CNOS-u1_1R!H->O_N-2R!H->C_N-4CNOS->O_N-4CN->C_Ext-4N-R_N-5R!H->N_N-5BrCClFIOPSSi->C\">]),\n",
       "             ('Root_N-4R->H_4CNOS-u1_N-1R!H->O_4CNOS->O_Ext-4O-R_5R!H-u0_Sp-2R!H-1CNS_2R!H->N_2N-u1',\n",
       "              [<Entry index=212 label=\"Root_N-4R->H_4CNOS-u1_N-1R!H->O_4CNOS->O_Ext-4O-R_5R!H-u0_Sp-2R!H-1CNS_2R!H->N_2N-u1\">]),\n",
       "             ('Root_N-4R->H_4CNOS-u1_N-1R!H->O_4CNOS->O_Ext-4O-R_5R!H-u0_Sp-2R!H-1CNS_2R!H->N_N-2N-u1',\n",
       "              [<Entry index=213 label=\"Root_N-4R->H_4CNOS-u1_N-1R!H->O_4CNOS->O_Ext-4O-R_5R!H-u0_Sp-2R!H-1CNS_2R!H->N_N-2N-u1\">]),\n",
       "             ('Root_N-4R->H_4CNOS-u1_N-1R!H->O_N-4CNOS->O_Ext-4CNS-R_N-Sp-5R!H#4CCCNNNSSS_N-2R!H->S_5R!H->O_1CNS->C',\n",
       "              [<Entry index=214 label=\"Root_N-4R->H_4CNOS-u1_N-1R!H->O_N-4CNOS->O_Ext-4CNS-R_N-Sp-5R!H#4CCCNNNSSS_N-2R!H->S_5R!H->O_1CNS->C\">]),\n",
       "             ('Root_N-4R->H_4CNOS-u1_N-1R!H->O_N-4CNOS->O_Ext-4CNS-R_N-Sp-5R!H#4CCCNNNSSS_N-2R!H->S_5R!H->O_N-1CNS->C',\n",
       "              [<Entry index=215 label=\"Root_N-4R->H_4CNOS-u1_N-1R!H->O_N-4CNOS->O_Ext-4CNS-R_N-Sp-5R!H#4CCCNNNSSS_N-2R!H->S_5R!H->O_N-1CNS->C\">]),\n",
       "             ('Root_N-4R->H_4CNOS-u1_N-1R!H->O_N-4CNOS->O_Ext-4CNS-R_N-Sp-5R!H#4CCCNNNSSS_N-2R!H->S_N-5R!H->O_Sp-5CS-4CCNSS',\n",
       "              [<Entry index=216 label=\"Root_N-4R->H_4CNOS-u1_N-1R!H->O_N-4CNOS->O_Ext-4CNS-R_N-Sp-5R!H#4CCCNNNSSS_N-2R!H->S_N-5R!H->O_Sp-5CS-4CCNSS\">]),\n",
       "             ('Root_N-4R->H_4CNOS-u1_N-1R!H->O_N-4CNOS->O_Ext-4CNS-R_N-Sp-5R!H#4CCCNNNSSS_N-2R!H->S_N-5R!H->O_N-Sp-5CS-4CCNSS',\n",
       "              [<Entry index=217 label=\"Root_N-4R->H_4CNOS-u1_N-1R!H->O_N-4CNOS->O_Ext-4CNS-R_N-Sp-5R!H#4CCCNNNSSS_N-2R!H->S_N-5R!H->O_N-Sp-5CS-4CCNSS\">]),\n",
       "             ('Root_N-4R->H_4CNOS-u1_N-1R!H->O_N-4CNOS->O_4CNS->C_N-1CNS->C_N-2R!H->C_2NO-u1_2NO->N',\n",
       "              [<Entry index=218 label=\"Root_N-4R->H_4CNOS-u1_N-1R!H->O_N-4CNOS->O_4CNS->C_N-1CNS->C_N-2R!H->C_2NO-u1_2NO->N\">]),\n",
       "             ('Root_N-4R->H_4CNOS-u1_N-1R!H->O_N-4CNOS->O_4CNS->C_N-1CNS->C_N-2R!H->C_2NO-u1_N-2NO->N',\n",
       "              [<Entry index=219 label=\"Root_N-4R->H_4CNOS-u1_N-1R!H->O_N-4CNOS->O_4CNS->C_N-1CNS->C_N-2R!H->C_2NO-u1_N-2NO->N\">]),\n",
       "             ('Root_Ext-1R!H-R_N-4R->O_N-Sp-5R!H=1R!H_Ext-4CHNS-R_N-6R!H->S_4CHNS->C_N-Sp-6BrBrBrCCCClClClFFFIIINNNOOOPPPSiSiSi#4C_6BrCClFINOPSi->C_N-1R!H-inRing_Ext-4C-R',\n",
       "              [<Entry index=220 label=\"Root_Ext-1R!H-R_N-4R->O_N-Sp-5R!H=1R!H_Ext-4CHNS-R_N-6R!H->S_4CHNS->C_N-Sp-6BrBrBrCCCClClClFFFIIINNNOOOPPPSiSiSi#4C_6BrCClFINOPSi->C_N-1R!H-inRing_Ext-4C-R\">]),\n",
       "             ('Root_Ext-1R!H-R_N-4R->O_N-Sp-5R!H=1R!H_Ext-4CHNS-R_N-6R!H->S_4CHNS->C_N-Sp-6BrBrBrCCCClClClFFFIIINNNOOOPPPSiSiSi#4C_6BrCClFINOPSi->C_N-1R!H-inRing_Sp-6C-4C',\n",
       "              [<Entry index=221 label=\"Root_Ext-1R!H-R_N-4R->O_N-Sp-5R!H=1R!H_Ext-4CHNS-R_N-6R!H->S_4CHNS->C_N-Sp-6BrBrBrCCCClClClFFFIIINNNOOOPPPSiSiSi#4C_6BrCClFINOPSi->C_N-1R!H-inRing_Sp-6C-4C\">]),\n",
       "             ('Root_Ext-1R!H-R_N-4R->O_N-Sp-5R!H=1R!H_Ext-4CHNS-R_N-6R!H->S_4CHNS->C_N-Sp-6BrBrBrCCCClClClFFFIIINNNOOOPPPSiSiSi#4C_6BrCClFINOPSi->C_N-1R!H-inRing_N-Sp-6C-4C',\n",
       "              [<Entry index=222 label=\"Root_Ext-1R!H-R_N-4R->O_N-Sp-5R!H=1R!H_Ext-4CHNS-R_N-6R!H->S_4CHNS->C_N-Sp-6BrBrBrCCCClClClFFFIIINNNOOOPPPSiSiSi#4C_6BrCClFINOPSi->C_N-1R!H-inRing_N-Sp-6C-4C\">]),\n",
       "             ('Root_N-4R->H_4CNOS-u1_N-1R!H->O_N-4CNOS->O_Ext-4CNS-R_N-Sp-5R!H#4CCCNNNSSS_N-2R!H->S_N-5R!H->O_Sp-5CS-4CCNSS_Ext-4CNS-R',\n",
       "              [<Entry index=223 label=\"Root_N-4R->H_4CNOS-u1_N-1R!H->O_N-4CNOS->O_Ext-4CNS-R_N-Sp-5R!H#4CCCNNNSSS_N-2R!H->S_N-5R!H->O_Sp-5CS-4CCNSS_Ext-4CNS-R\">]),\n",
       "             ('Root_N-4R->H_4CNOS-u1_N-1R!H->O_N-4CNOS->O_Ext-4CNS-R_N-Sp-5R!H#4CCCNNNSSS_N-2R!H->S_N-5R!H->O_Sp-5CS-4CCNSS_1CNS->C',\n",
       "              [<Entry index=224 label=\"Root_N-4R->H_4CNOS-u1_N-1R!H->O_N-4CNOS->O_Ext-4CNS-R_N-Sp-5R!H#4CCCNNNSSS_N-2R!H->S_N-5R!H->O_Sp-5CS-4CCNSS_1CNS->C\">]),\n",
       "             ('Root_N-4R->H_4CNOS-u1_N-1R!H->O_N-4CNOS->O_Ext-4CNS-R_N-Sp-5R!H#4CCCNNNSSS_N-2R!H->S_N-5R!H->O_Sp-5CS-4CCNSS_N-1CNS->C',\n",
       "              [<Entry index=225 label=\"Root_N-4R->H_4CNOS-u1_N-1R!H->O_N-4CNOS->O_Ext-4CNS-R_N-Sp-5R!H#4CCCNNNSSS_N-2R!H->S_N-5R!H->O_Sp-5CS-4CCNSS_N-1CNS->C\">]),\n",
       "             ('Root_Ext-1R!H-R_N-4R->O_N-Sp-5R!H=1R!H_Ext-4CHNS-R_N-6R!H->S_4CHNS->C_N-Sp-6BrBrBrCCCClClClFFFIIINNNOOOPPPSiSiSi#4C_6BrCClFINOPSi->C_N-1R!H-inRing_Ext-4C-R_2R!H->C',\n",
       "              [<Entry index=226 label=\"Root_Ext-1R!H-R_N-4R->O_N-Sp-5R!H=1R!H_Ext-4CHNS-R_N-6R!H->S_4CHNS->C_N-Sp-6BrBrBrCCCClClClFFFIIINNNOOOPPPSiSiSi#4C_6BrCClFINOPSi->C_N-1R!H-inRing_Ext-4C-R_2R!H->C\">]),\n",
       "             ('Root_Ext-1R!H-R_N-4R->O_N-Sp-5R!H=1R!H_Ext-4CHNS-R_N-6R!H->S_4CHNS->C_N-Sp-6BrBrBrCCCClClClFFFIIINNNOOOPPPSiSiSi#4C_6BrCClFINOPSi->C_N-1R!H-inRing_Ext-4C-R_N-2R!H->C',\n",
       "              [<Entry index=227 label=\"Root_Ext-1R!H-R_N-4R->O_N-Sp-5R!H=1R!H_Ext-4CHNS-R_N-6R!H->S_4CHNS->C_N-Sp-6BrBrBrCCCClClClFFFIIINNNOOOPPPSiSiSi#4C_6BrCClFINOPSi->C_N-1R!H-inRing_Ext-4C-R_N-2R!H->C\">]),\n",
       "             ('Root_Ext-1R!H-R_N-4R->O_N-Sp-5R!H=1R!H_Ext-4CHNS-R_N-6R!H->S_4CHNS->C_N-Sp-6BrBrBrCCCClClClFFFIIINNNOOOPPPSiSiSi#4C_6BrCClFINOPSi->C_N-1R!H-inRing_Sp-6C-4C_Ext-6C-R',\n",
       "              [<Entry index=228 label=\"Root_Ext-1R!H-R_N-4R->O_N-Sp-5R!H=1R!H_Ext-4CHNS-R_N-6R!H->S_4CHNS->C_N-Sp-6BrBrBrCCCClClClFFFIIINNNOOOPPPSiSiSi#4C_6BrCClFINOPSi->C_N-1R!H-inRing_Sp-6C-4C_Ext-6C-R\">]),\n",
       "             ('Root_N-4R->H_4CNOS-u1_N-1R!H->O_N-4CNOS->O_Ext-4CNS-R_N-Sp-5R!H#4CCCNNNSSS_N-2R!H->S_N-5R!H->O_Sp-5CS-4CCNSS_Ext-4CNS-R_Ext-4CNS-R',\n",
       "              [<Entry index=229 label=\"Root_N-4R->H_4CNOS-u1_N-1R!H->O_N-4CNOS->O_Ext-4CNS-R_N-Sp-5R!H#4CCCNNNSSS_N-2R!H->S_N-5R!H->O_Sp-5CS-4CCNSS_Ext-4CNS-R_Ext-4CNS-R\">]),\n",
       "             ('Root_N-4R->H_4CNOS-u1_N-1R!H->O_N-4CNOS->O_Ext-4CNS-R_N-Sp-5R!H#4CCCNNNSSS_N-2R!H->S_N-5R!H->O_Sp-5CS-4CCNSS_1CNS->C_Ext-5CS-R',\n",
       "              [<Entry index=230 label=\"Root_N-4R->H_4CNOS-u1_N-1R!H->O_N-4CNOS->O_Ext-4CNS-R_N-Sp-5R!H#4CCCNNNSSS_N-2R!H->S_N-5R!H->O_Sp-5CS-4CCNSS_1CNS->C_Ext-5CS-R\">]),\n",
       "             ('Root_Ext-1R!H-R_N-4R->O_N-Sp-5R!H=1R!H_Ext-4CHNS-R_N-6R!H->S_4CHNS->C_N-Sp-6BrBrBrCCCClClClFFFIIINNNOOOPPPSiSiSi#4C_6BrCClFINOPSi->C_N-1R!H-inRing_Ext-4C-R_2R!H->C_Ext-4C-R',\n",
       "              [<Entry index=231 label=\"Root_Ext-1R!H-R_N-4R->O_N-Sp-5R!H=1R!H_Ext-4CHNS-R_N-6R!H->S_4CHNS->C_N-Sp-6BrBrBrCCCClClClFFFIIINNNOOOPPPSiSiSi#4C_6BrCClFINOPSi->C_N-1R!H-inRing_Ext-4C-R_2R!H->C_Ext-4C-R\">]),\n",
       "             ('Root_Ext-1R!H-R_N-4R->O_N-Sp-5R!H=1R!H_Ext-4CHNS-R_N-6R!H->S_4CHNS->C_N-Sp-6BrBrBrCCCClClClFFFIIINNNOOOPPPSiSiSi#4C_6BrCClFINOPSi->C_N-1R!H-inRing_Ext-4C-R_N-2R!H->C_Ext-7R!H-R_Ext-6C-R',\n",
       "              [<Entry index=232 label=\"Root_Ext-1R!H-R_N-4R->O_N-Sp-5R!H=1R!H_Ext-4CHNS-R_N-6R!H->S_4CHNS->C_N-Sp-6BrBrBrCCCClClClFFFIIINNNOOOPPPSiSiSi#4C_6BrCClFINOPSi->C_N-1R!H-inRing_Ext-4C-R_N-2R!H->C_Ext-7R!H-R_Ext-6C-R\">])])"
      ]
     },
     "execution_count": 45,
     "metadata": {},
     "output_type": "execute_result"
    }
   ],
   "source": [
    "database.kinetics.families['Disproportionation'].rules.entries"
   ]
  },
  {
   "cell_type": "code",
   "execution_count": null,
   "id": "b50bcdff",
   "metadata": {},
   "outputs": [],
   "source": []
  },
  {
   "cell_type": "code",
   "execution_count": 21,
   "id": "755344fb",
   "metadata": {},
   "outputs": [
    {
     "data": {
      "image/png": "[encoded data removed]",
      "text/plain": [
       "Species(label=\"[O]O\", thermo=NASA(polynomials=[NASAPolynomial(coeffs=[4.3018,-0.00474912,2.11583e-05,-2.42764e-08,9.29225e-12,264.018,3.71666], Tmin=(200,'K'), Tmax=(1000,'K')), NASAPolynomial(coeffs=[4.17229,0.00188118,-3.46277e-07,1.94658e-11,1.76257e-16,31.0207,2.95768], Tmin=(1000,'K'), Tmax=(5000,'K'))], Tmin=(200,'K'), Tmax=(5000,'K'), Cp0=(33.2579,'J/(mol*K)'), CpInf=(58.2013,'J/(mol*K)'), label=\"\"\"HO2\"\"\", comment=\"\"\"Thermo library: Klippenstein_Glarborg2016\"\"\"), molecule=[Molecule(smiles=\"[O]O\")], molecular_weight=(33.0068,'amu'))"
      ]
     },
     "execution_count": 21,
     "metadata": {},
     "output_type": "execute_result"
    }
   ],
   "source": [
    "r1.reactants[0]"
   ]
  },
  {
   "cell_type": "code",
   "execution_count": 22,
   "id": "ade49ccb",
   "metadata": {},
   "outputs": [
    {
     "data": {
      "image/png": "[encoded data removed]",
      "text/plain": [
       "Species(label=\"[CH2]CC\", thermo=ThermoData(Tdata=([300,400,500,600,800,1000,1500],'K'), Cpdata=([17.348,21.505,25.276,28.526,33.776,37.81,44.287],'cal/(mol*K)','+|-',[1.2,1.5,1.7,1.7,1.7,1.7,1.3]), H298=(24.271,'kcal/mol','+|-',0.9), S298=(69.303,'cal/(mol*K)','+|-',1), Cp0=(33.2579,'J/(mol*K)'), CpInf=(224.491,'J/(mol*K)'), label=\"\"\"npropyl\"\"\", comment=\"\"\"Thermo library: DFT_QCI_thermo\"\"\"), molecule=[Molecule(smiles=\"[CH2]CC\")], molecular_weight=(43.0877,'amu'))"
      ]
     },
     "execution_count": 22,
     "metadata": {},
     "output_type": "execute_result"
    }
   ],
   "source": [
    "r1.reactants[1]"
   ]
  },
  {
   "cell_type": "code",
   "execution_count": 17,
   "id": "15e5f1be",
   "metadata": {},
   "outputs": [
    {
     "data": {
      "text/plain": [
       "''"
      ]
     },
     "execution_count": 17,
     "metadata": {},
     "output_type": "execute_result"
    }
   ],
   "source": [
    "r1.reactants[0].molecule[0].atoms[0].label"
   ]
  },
  {
   "cell_type": "code",
   "execution_count": null,
   "id": "1dd2fa0f",
   "metadata": {},
   "outputs": [],
   "source": []
  }
 ],
 "metadata": {
  "kernelspec": {
   "display_name": "Python 3 (ipykernel)",
   "language": "python",
   "name": "python3"
  },
  "language_info": {
   "codemirror_mode": {
    "name": "ipython",
    "version": 3
   },
   "file_extension": ".py",
   "mimetype": "text/x-python",
   "name": "python",
   "nbconvert_exporter": "python",
   "pygments_lexer": "ipython3",
   "version": "3.7.12"
  }
 },
 "nbformat": 4,
 "nbformat_minor": 5
}
